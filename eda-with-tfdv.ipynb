{
 "cells": [
  {
   "cell_type": "code",
   "execution_count": 1,
   "id": "ad14c425",
   "metadata": {
    "_cell_guid": "b1076dfc-b9ad-4769-8c92-a6c4dae69d19",
    "_uuid": "8f2839f25d086af736a60e9eeb907d3b93b6e0e5",
    "execution": {
     "iopub.execute_input": "2023-09-05T12:24:22.908099Z",
     "iopub.status.busy": "2023-09-05T12:24:22.907209Z",
     "iopub.status.idle": "2023-09-05T12:24:33.651908Z",
     "shell.execute_reply": "2023-09-05T12:24:33.649686Z"
    },
    "papermill": {
     "duration": 10.767992,
     "end_time": "2023-09-05T12:24:33.654271",
     "exception": false,
     "start_time": "2023-09-05T12:24:22.886279",
     "status": "completed"
    },
    "tags": []
   },
   "outputs": [
    {
     "name": "stdout",
     "output_type": "stream",
     "text": [
      "/kaggle/input/walmart-sales-forecast/features.csv\n",
      "/kaggle/input/walmart-sales-forecast/stores.csv\n",
      "/kaggle/input/walmart-sales-forecast/train.csv\n",
      "/kaggle/input/walmart-sales-forecast/test.csv\n"
     ]
    }
   ],
   "source": [
    "# This Python 3 environment comes with many helpful analytics libraries installed\n",
    "# It is defined by the kaggle/python Docker image: https://github.com/kaggle/docker-python\n",
    "# For example, here's several helpful packages to load\n",
    "\n",
    "import numpy as np # linear algebra\n",
    "import pandas as pd # data processing, CSV file I/O (e.g. pd.read_csv)\n",
    "import os\n",
    "import tensorflow as tf\n",
    "from sklearn.utils import shuffle\n",
    "from datetime import date \n",
    "from sklearn.model_selection import train_test_split\n",
    "\n",
    "\n",
    "# Input data files are available in the read-only \"../input/\" directory\n",
    "# For example, running this (by clicking run or pressing Shift+Enter) will list all files under the input directory\n",
    "\n",
    "import os\n",
    "for dirname, _, filenames in os.walk('/kaggle/input'):\n",
    "    for filename in filenames:\n",
    "        print(os.path.join(dirname, filename))\n",
    "\n",
    "# You can write up to 20GB to the current directory (/kaggle/working/) that gets preserved as output when you create a version using \"Save & Run All\" \n",
    "# You can also write temporary files to /kaggle/temp/, but they won't be saved outside of the current session"
   ]
  },
  {
   "cell_type": "code",
   "execution_count": 2,
   "id": "03cf325c",
   "metadata": {
    "collapsed": true,
    "execution": {
     "iopub.execute_input": "2023-09-05T12:24:33.694646Z",
     "iopub.status.busy": "2023-09-05T12:24:33.693922Z",
     "iopub.status.idle": "2023-09-05T12:26:24.492069Z",
     "shell.execute_reply": "2023-09-05T12:26:24.490703Z"
    },
    "jupyter": {
     "outputs_hidden": true
    },
    "papermill": {
     "duration": 110.821286,
     "end_time": "2023-09-05T12:26:24.495169",
     "exception": false,
     "start_time": "2023-09-05T12:24:33.673883",
     "status": "completed"
    },
    "tags": []
   },
   "outputs": [
    {
     "name": "stdout",
     "output_type": "stream",
     "text": [
      "Collecting tensorflow_data_validation\r\n",
      "  Downloading tensorflow_data_validation-1.14.0-cp310-cp310-manylinux_2_17_x86_64.manylinux2014_x86_64.whl (19.1 MB)\r\n",
      "\u001b[2K     \u001b[90m━━━━━━━━━━━━━━━━━━━━━━━━━━━━━━━━━━━━━━━━\u001b[0m \u001b[32m19.1/19.1 MB\u001b[0m \u001b[31m50.2 MB/s\u001b[0m eta \u001b[36m0:00:00\u001b[0m\r\n",
      "\u001b[?25hRequirement already satisfied: absl-py<2.0.0,>=0.9 in /opt/conda/lib/python3.10/site-packages (from tensorflow_data_validation) (1.4.0)\r\n",
      "Collecting apache-beam[gcp]<3,>=2.47 (from tensorflow_data_validation)\r\n",
      "  Downloading apache_beam-2.50.0-cp310-cp310-manylinux_2_17_x86_64.manylinux2014_x86_64.whl (14.7 MB)\r\n",
      "\u001b[2K     \u001b[90m━━━━━━━━━━━━━━━━━━━━━━━━━━━━━━━━━━━━━━━━\u001b[0m \u001b[32m14.7/14.7 MB\u001b[0m \u001b[31m63.0 MB/s\u001b[0m eta \u001b[36m0:00:00\u001b[0m\r\n",
      "\u001b[?25hRequirement already satisfied: joblib>=1.2.0 in /opt/conda/lib/python3.10/site-packages (from tensorflow_data_validation) (1.3.2)\r\n",
      "Requirement already satisfied: numpy>=1.22.0 in /opt/conda/lib/python3.10/site-packages (from tensorflow_data_validation) (1.23.5)\r\n",
      "Collecting pandas<2,>=1.0 (from tensorflow_data_validation)\r\n",
      "  Downloading pandas-1.5.3-cp310-cp310-manylinux_2_17_x86_64.manylinux2014_x86_64.whl (12.1 MB)\r\n",
      "\u001b[2K     \u001b[90m━━━━━━━━━━━━━━━━━━━━━━━━━━━━━━━━━━━━━━━━\u001b[0m \u001b[32m12.1/12.1 MB\u001b[0m \u001b[31m72.4 MB/s\u001b[0m eta \u001b[36m0:00:00\u001b[0m\r\n",
      "\u001b[?25hRequirement already satisfied: protobuf<5,>=3.20.3 in /opt/conda/lib/python3.10/site-packages (from tensorflow_data_validation) (3.20.3)\r\n",
      "Collecting pyarrow<11,>=10 (from tensorflow_data_validation)\r\n",
      "  Downloading pyarrow-10.0.1-cp310-cp310-manylinux_2_17_x86_64.manylinux2014_x86_64.whl (35.9 MB)\r\n",
      "\u001b[2K     \u001b[90m━━━━━━━━━━━━━━━━━━━━━━━━━━━━━━━━━━━━━━━━\u001b[0m \u001b[32m35.9/35.9 MB\u001b[0m \u001b[31m32.0 MB/s\u001b[0m eta \u001b[36m0:00:00\u001b[0m\r\n",
      "\u001b[?25hCollecting pyfarmhash<0.4,>=0.2.2 (from tensorflow_data_validation)\r\n",
      "  Downloading pyfarmhash-0.3.2.tar.gz (99 kB)\r\n",
      "\u001b[2K     \u001b[90m━━━━━━━━━━━━━━━━━━━━━━━━━━━━━━━━━━━━━━━━\u001b[0m \u001b[32m99.9/99.9 kB\u001b[0m \u001b[31m8.8 MB/s\u001b[0m eta \u001b[36m0:00:00\u001b[0m\r\n",
      "\u001b[?25h  Preparing metadata (setup.py) ... \u001b[?25ldone\r\n",
      "\u001b[?25hRequirement already satisfied: six<2,>=1.12 in /opt/conda/lib/python3.10/site-packages (from tensorflow_data_validation) (1.16.0)\r\n",
      "Collecting tensorflow<3,>=2.13 (from tensorflow_data_validation)\r\n",
      "  Downloading tensorflow-2.13.0-cp310-cp310-manylinux_2_17_x86_64.manylinux2014_x86_64.whl (524.1 MB)\r\n",
      "\u001b[2K     \u001b[90m━━━━━━━━━━━━━━━━━━━━━━━━━━━━━━━━━━━━━━━\u001b[0m \u001b[32m524.1/524.1 MB\u001b[0m \u001b[31m2.1 MB/s\u001b[0m eta \u001b[36m0:00:00\u001b[0m\r\n",
      "\u001b[?25hCollecting tensorflow-metadata<1.15,>=1.14.0 (from tensorflow_data_validation)\r\n",
      "  Downloading tensorflow_metadata-1.14.0-py3-none-any.whl (28 kB)\r\n",
      "Collecting tfx-bsl<1.15,>=1.14.0 (from tensorflow_data_validation)\r\n",
      "  Downloading tfx_bsl-1.14.0-cp310-cp310-manylinux_2_17_x86_64.manylinux2014_x86_64.whl (22.5 MB)\r\n",
      "\u001b[2K     \u001b[90m━━━━━━━━━━━━━━━━━━━━━━━━━━━━━━━━━━━━━━━━\u001b[0m \u001b[32m22.5/22.5 MB\u001b[0m \u001b[31m46.8 MB/s\u001b[0m eta \u001b[36m0:00:00\u001b[0m\r\n",
      "\u001b[?25hRequirement already satisfied: crcmod<2.0,>=1.7 in /opt/conda/lib/python3.10/site-packages (from apache-beam[gcp]<3,>=2.47->tensorflow_data_validation) (1.7)\r\n",
      "Requirement already satisfied: orjson<4.0 in /opt/conda/lib/python3.10/site-packages (from apache-beam[gcp]<3,>=2.47->tensorflow_data_validation) (3.9.1)\r\n",
      "Collecting dill<0.3.2,>=0.3.1.1 (from apache-beam[gcp]<3,>=2.47->tensorflow_data_validation)\r\n",
      "  Downloading dill-0.3.1.1.tar.gz (151 kB)\r\n",
      "\u001b[2K     \u001b[90m━━━━━━━━━━━━━━━━━━━━━━━━━━━━━━━━━━━━━━\u001b[0m \u001b[32m152.0/152.0 kB\u001b[0m \u001b[31m12.0 MB/s\u001b[0m eta \u001b[36m0:00:00\u001b[0m\r\n",
      "\u001b[?25h  Preparing metadata (setup.py) ... \u001b[?25ldone\r\n",
      "\u001b[?25hRequirement already satisfied: cloudpickle~=2.2.1 in /opt/conda/lib/python3.10/site-packages (from apache-beam[gcp]<3,>=2.47->tensorflow_data_validation) (2.2.1)\r\n",
      "Requirement already satisfied: fastavro<2,>=0.23.6 in /opt/conda/lib/python3.10/site-packages (from apache-beam[gcp]<3,>=2.47->tensorflow_data_validation) (1.7.4)\r\n",
      "Requirement already satisfied: fasteners<1.0,>=0.3 in /opt/conda/lib/python3.10/site-packages (from apache-beam[gcp]<3,>=2.47->tensorflow_data_validation) (0.18)\r\n",
      "Requirement already satisfied: grpcio!=1.48.0,<2,>=1.33.1 in /opt/conda/lib/python3.10/site-packages (from apache-beam[gcp]<3,>=2.47->tensorflow_data_validation) (1.51.3)\r\n",
      "Requirement already satisfied: hdfs<3.0.0,>=2.1.0 in /opt/conda/lib/python3.10/site-packages (from apache-beam[gcp]<3,>=2.47->tensorflow_data_validation) (2.7.0)\r\n",
      "Requirement already satisfied: httplib2<0.23.0,>=0.8 in /opt/conda/lib/python3.10/site-packages (from apache-beam[gcp]<3,>=2.47->tensorflow_data_validation) (0.21.0)\r\n",
      "Requirement already satisfied: objsize<0.7.0,>=0.6.1 in /opt/conda/lib/python3.10/site-packages (from apache-beam[gcp]<3,>=2.47->tensorflow_data_validation) (0.6.1)\r\n",
      "Requirement already satisfied: pymongo<5.0.0,>=3.8.0 in /opt/conda/lib/python3.10/site-packages (from apache-beam[gcp]<3,>=2.47->tensorflow_data_validation) (3.13.0)\r\n",
      "Requirement already satisfied: proto-plus<2,>=1.7.1 in /opt/conda/lib/python3.10/site-packages (from apache-beam[gcp]<3,>=2.47->tensorflow_data_validation) (1.22.3)\r\n",
      "Requirement already satisfied: pydot<2,>=1.2.0 in /opt/conda/lib/python3.10/site-packages (from apache-beam[gcp]<3,>=2.47->tensorflow_data_validation) (1.4.2)\r\n",
      "Requirement already satisfied: python-dateutil<3,>=2.8.0 in /opt/conda/lib/python3.10/site-packages (from apache-beam[gcp]<3,>=2.47->tensorflow_data_validation) (2.8.2)\r\n",
      "Requirement already satisfied: pytz>=2018.3 in /opt/conda/lib/python3.10/site-packages (from apache-beam[gcp]<3,>=2.47->tensorflow_data_validation) (2023.3)\r\n",
      "Requirement already satisfied: regex>=2020.6.8 in /opt/conda/lib/python3.10/site-packages (from apache-beam[gcp]<3,>=2.47->tensorflow_data_validation) (2023.6.3)\r\n",
      "Requirement already satisfied: requests<3.0.0,>=2.24.0 in /opt/conda/lib/python3.10/site-packages (from apache-beam[gcp]<3,>=2.47->tensorflow_data_validation) (2.31.0)\r\n",
      "Requirement already satisfied: typing-extensions>=3.7.0 in /opt/conda/lib/python3.10/site-packages (from apache-beam[gcp]<3,>=2.47->tensorflow_data_validation) (4.6.3)\r\n",
      "Requirement already satisfied: zstandard<1,>=0.18.0 in /opt/conda/lib/python3.10/site-packages (from apache-beam[gcp]<3,>=2.47->tensorflow_data_validation) (0.19.0)\r\n",
      "Requirement already satisfied: cachetools<6,>=3.1.0 in /opt/conda/lib/python3.10/site-packages (from apache-beam[gcp]<3,>=2.47->tensorflow_data_validation) (4.2.4)\r\n",
      "Requirement already satisfied: google-api-core<3,>=2.0.0 in /opt/conda/lib/python3.10/site-packages (from apache-beam[gcp]<3,>=2.47->tensorflow_data_validation) (2.11.1)\r\n",
      "Requirement already satisfied: google-apitools<0.5.32,>=0.5.31 in /opt/conda/lib/python3.10/site-packages (from apache-beam[gcp]<3,>=2.47->tensorflow_data_validation) (0.5.31)\r\n",
      "Requirement already satisfied: google-auth<3,>=1.18.0 in /opt/conda/lib/python3.10/site-packages (from apache-beam[gcp]<3,>=2.47->tensorflow_data_validation) (2.20.0)\r\n",
      "Requirement already satisfied: google-auth-httplib2<0.2.0,>=0.1.0 in /opt/conda/lib/python3.10/site-packages (from apache-beam[gcp]<3,>=2.47->tensorflow_data_validation) (0.1.0)\r\n",
      "Collecting google-cloud-datastore<3,>=2.0.0 (from apache-beam[gcp]<3,>=2.47->tensorflow_data_validation)\r\n",
      "  Downloading google_cloud_datastore-2.17.0-py2.py3-none-any.whl (177 kB)\r\n",
      "\u001b[2K     \u001b[90m━━━━━━━━━━━━━━━━━━━━━━━━━━━━━━━━━━━━━━\u001b[0m \u001b[32m177.1/177.1 kB\u001b[0m \u001b[31m15.7 MB/s\u001b[0m eta \u001b[36m0:00:00\u001b[0m\r\n",
      "\u001b[?25hRequirement already satisfied: google-cloud-pubsub<3,>=2.1.0 in /opt/conda/lib/python3.10/site-packages (from apache-beam[gcp]<3,>=2.47->tensorflow_data_validation) (2.17.1)\r\n",
      "Requirement already satisfied: google-cloud-pubsublite<2,>=1.2.0 in /opt/conda/lib/python3.10/site-packages (from apache-beam[gcp]<3,>=2.47->tensorflow_data_validation) (1.8.2)\r\n",
      "Requirement already satisfied: google-cloud-bigquery<4,>=2.0.0 in /opt/conda/lib/python3.10/site-packages (from apache-beam[gcp]<3,>=2.47->tensorflow_data_validation) (2.34.4)\r\n",
      "Collecting google-cloud-bigquery-storage<3,>=2.6.3 (from apache-beam[gcp]<3,>=2.47->tensorflow_data_validation)\r\n",
      "  Downloading google_cloud_bigquery_storage-2.22.0-py2.py3-none-any.whl (190 kB)\r\n",
      "\u001b[2K     \u001b[90m━━━━━━━━━━━━━━━━━━━━━━━━━━━━━━━━━━━━━━\u001b[0m \u001b[32m190.9/190.9 kB\u001b[0m \u001b[31m15.4 MB/s\u001b[0m eta \u001b[36m0:00:00\u001b[0m\r\n",
      "\u001b[?25hRequirement already satisfied: google-cloud-core<3,>=2.0.0 in /opt/conda/lib/python3.10/site-packages (from apache-beam[gcp]<3,>=2.47->tensorflow_data_validation) (2.3.2)\r\n",
      "Collecting google-cloud-bigtable<3,>=2.19.0 (from apache-beam[gcp]<3,>=2.47->tensorflow_data_validation)\r\n",
      "  Downloading google_cloud_bigtable-2.21.0-py2.py3-none-any.whl (293 kB)\r\n",
      "\u001b[2K     \u001b[90m━━━━━━━━━━━━━━━━━━━━━━━━━━━━━━━━━━━━━━\u001b[0m \u001b[32m293.0/293.0 kB\u001b[0m \u001b[31m21.5 MB/s\u001b[0m eta \u001b[36m0:00:00\u001b[0m\r\n",
      "\u001b[?25hRequirement already satisfied: google-cloud-spanner<4,>=3.0.0 in /opt/conda/lib/python3.10/site-packages (from apache-beam[gcp]<3,>=2.47->tensorflow_data_validation) (3.36.0)\r\n",
      "Requirement already satisfied: google-cloud-dlp<4,>=3.0.0 in /opt/conda/lib/python3.10/site-packages (from apache-beam[gcp]<3,>=2.47->tensorflow_data_validation) (3.12.1)\r\n",
      "Requirement already satisfied: google-cloud-language<3,>=2.0 in /opt/conda/lib/python3.10/site-packages (from apache-beam[gcp]<3,>=2.47->tensorflow_data_validation) (2.11.0)\r\n",
      "Requirement already satisfied: google-cloud-videointelligence<3,>=2.0 in /opt/conda/lib/python3.10/site-packages (from apache-beam[gcp]<3,>=2.47->tensorflow_data_validation) (2.11.3)\r\n",
      "Requirement already satisfied: google-cloud-vision<4,>=2 in /opt/conda/lib/python3.10/site-packages (from apache-beam[gcp]<3,>=2.47->tensorflow_data_validation) (2.8.0)\r\n",
      "Requirement already satisfied: google-cloud-recommendations-ai<0.11.0,>=0.1.0 in /opt/conda/lib/python3.10/site-packages (from apache-beam[gcp]<3,>=2.47->tensorflow_data_validation) (0.7.1)\r\n",
      "Collecting google-cloud-aiplatform<2.0,>=1.26.0 (from apache-beam[gcp]<3,>=2.47->tensorflow_data_validation)\r\n",
      "  Downloading google_cloud_aiplatform-1.31.1-py2.py3-none-any.whl (2.8 MB)\r\n",
      "\u001b[2K     \u001b[90m━━━━━━━━━━━━━━━━━━━━━━━━━━━━━━━━━━━━━━━━\u001b[0m \u001b[32m2.8/2.8 MB\u001b[0m \u001b[31m67.5 MB/s\u001b[0m eta \u001b[36m0:00:00\u001b[0m\r\n",
      "\u001b[?25hRequirement already satisfied: astunparse>=1.6.0 in /opt/conda/lib/python3.10/site-packages (from tensorflow<3,>=2.13->tensorflow_data_validation) (1.6.3)\r\n",
      "Requirement already satisfied: flatbuffers>=23.1.21 in /opt/conda/lib/python3.10/site-packages (from tensorflow<3,>=2.13->tensorflow_data_validation) (23.5.26)\r\n",
      "Requirement already satisfied: gast<=0.4.0,>=0.2.1 in /opt/conda/lib/python3.10/site-packages (from tensorflow<3,>=2.13->tensorflow_data_validation) (0.4.0)\r\n",
      "Requirement already satisfied: google-pasta>=0.1.1 in /opt/conda/lib/python3.10/site-packages (from tensorflow<3,>=2.13->tensorflow_data_validation) (0.2.0)\r\n",
      "Requirement already satisfied: h5py>=2.9.0 in /opt/conda/lib/python3.10/site-packages (from tensorflow<3,>=2.13->tensorflow_data_validation) (3.9.0)\r\n",
      "Collecting keras<2.14,>=2.13.1 (from tensorflow<3,>=2.13->tensorflow_data_validation)\r\n",
      "  Downloading keras-2.13.1-py3-none-any.whl (1.7 MB)\r\n",
      "\u001b[2K     \u001b[90m━━━━━━━━━━━━━━━━━━━━━━━━━━━━━━━━━━━━━━━━\u001b[0m \u001b[32m1.7/1.7 MB\u001b[0m \u001b[31m58.0 MB/s\u001b[0m eta \u001b[36m0:00:00\u001b[0m\r\n",
      "\u001b[?25hRequirement already satisfied: libclang>=13.0.0 in /opt/conda/lib/python3.10/site-packages (from tensorflow<3,>=2.13->tensorflow_data_validation) (16.0.0)\r\n",
      "Requirement already satisfied: opt-einsum>=2.3.2 in /opt/conda/lib/python3.10/site-packages (from tensorflow<3,>=2.13->tensorflow_data_validation) (3.3.0)\r\n",
      "Requirement already satisfied: packaging in /opt/conda/lib/python3.10/site-packages (from tensorflow<3,>=2.13->tensorflow_data_validation) (21.3)\r\n",
      "Requirement already satisfied: setuptools in /opt/conda/lib/python3.10/site-packages (from tensorflow<3,>=2.13->tensorflow_data_validation) (68.0.0)\r\n",
      "Collecting tensorboard<2.14,>=2.13 (from tensorflow<3,>=2.13->tensorflow_data_validation)\r\n",
      "  Downloading tensorboard-2.13.0-py3-none-any.whl (5.6 MB)\r\n",
      "\u001b[2K     \u001b[90m━━━━━━━━━━━━━━━━━━━━━━━━━━━━━━━━━━━━━━━━\u001b[0m \u001b[32m5.6/5.6 MB\u001b[0m \u001b[31m74.8 MB/s\u001b[0m eta \u001b[36m0:00:00\u001b[0m\r\n",
      "\u001b[?25hCollecting tensorflow-estimator<2.14,>=2.13.0 (from tensorflow<3,>=2.13->tensorflow_data_validation)\r\n",
      "  Downloading tensorflow_estimator-2.13.0-py2.py3-none-any.whl (440 kB)\r\n",
      "\u001b[2K     \u001b[90m━━━━━━━━━━━━━━━━━━━━━━━━━━━━━━━━━━━━━━\u001b[0m \u001b[32m440.8/440.8 kB\u001b[0m \u001b[31m29.2 MB/s\u001b[0m eta \u001b[36m0:00:00\u001b[0m\r\n",
      "\u001b[?25hRequirement already satisfied: termcolor>=1.1.0 in /opt/conda/lib/python3.10/site-packages (from tensorflow<3,>=2.13->tensorflow_data_validation) (2.3.0)\r\n",
      "Collecting typing-extensions>=3.7.0 (from apache-beam[gcp]<3,>=2.47->tensorflow_data_validation)\r\n",
      "  Downloading typing_extensions-4.5.0-py3-none-any.whl (27 kB)\r\n",
      "Requirement already satisfied: wrapt>=1.11.0 in /opt/conda/lib/python3.10/site-packages (from tensorflow<3,>=2.13->tensorflow_data_validation) (1.14.1)\r\n",
      "Requirement already satisfied: tensorflow-io-gcs-filesystem>=0.23.1 in /opt/conda/lib/python3.10/site-packages (from tensorflow<3,>=2.13->tensorflow_data_validation) (0.32.0)\r\n",
      "Requirement already satisfied: googleapis-common-protos<2,>=1.52.0 in /opt/conda/lib/python3.10/site-packages (from tensorflow-metadata<1.15,>=1.14.0->tensorflow_data_validation) (1.59.1)\r\n",
      "Collecting google-api-python-client<2,>=1.7.11 (from tfx-bsl<1.15,>=1.14.0->tensorflow_data_validation)\r\n",
      "  Downloading google_api_python_client-1.12.11-py2.py3-none-any.whl (62 kB)\r\n",
      "\u001b[2K     \u001b[90m━━━━━━━━━━━━━━━━━━━━━━━━━━━━━━━━━━━━━━━━\u001b[0m \u001b[32m62.1/62.1 kB\u001b[0m \u001b[31m4.5 MB/s\u001b[0m eta \u001b[36m0:00:00\u001b[0m\r\n",
      "\u001b[?25hCollecting tensorflow-serving-api<3,>=2.13.0 (from tfx-bsl<1.15,>=1.14.0->tensorflow_data_validation)\r\n",
      "  Downloading tensorflow_serving_api-2.13.0-py2.py3-none-any.whl (26 kB)\r\n",
      "Requirement already satisfied: wheel<1.0,>=0.23.0 in /opt/conda/lib/python3.10/site-packages (from astunparse>=1.6.0->tensorflow<3,>=2.13->tensorflow_data_validation) (0.40.0)\r\n",
      "Requirement already satisfied: uritemplate<4dev,>=3.0.0 in /opt/conda/lib/python3.10/site-packages (from google-api-python-client<2,>=1.7.11->tfx-bsl<1.15,>=1.14.0->tensorflow_data_validation) (3.0.1)\r\n",
      "Requirement already satisfied: oauth2client>=1.4.12 in /opt/conda/lib/python3.10/site-packages (from google-apitools<0.5.32,>=0.5.31->apache-beam[gcp]<3,>=2.47->tensorflow_data_validation) (4.1.3)\r\n",
      "Requirement already satisfied: pyasn1-modules>=0.2.1 in /opt/conda/lib/python3.10/site-packages (from google-auth<3,>=1.18.0->apache-beam[gcp]<3,>=2.47->tensorflow_data_validation) (0.2.7)\r\n",
      "Requirement already satisfied: rsa<5,>=3.1.4 in /opt/conda/lib/python3.10/site-packages (from google-auth<3,>=1.18.0->apache-beam[gcp]<3,>=2.47->tensorflow_data_validation) (4.9)\r\n",
      "Requirement already satisfied: urllib3<2.0 in /opt/conda/lib/python3.10/site-packages (from google-auth<3,>=1.18.0->apache-beam[gcp]<3,>=2.47->tensorflow_data_validation) (1.26.15)\r\n",
      "Requirement already satisfied: google-cloud-storage<3.0.0dev,>=1.32.0 in /opt/conda/lib/python3.10/site-packages (from google-cloud-aiplatform<2.0,>=1.26.0->apache-beam[gcp]<3,>=2.47->tensorflow_data_validation) (1.44.0)\r\n",
      "Requirement already satisfied: google-cloud-resource-manager<3.0.0dev,>=1.3.3 in /opt/conda/lib/python3.10/site-packages (from google-cloud-aiplatform<2.0,>=1.26.0->apache-beam[gcp]<3,>=2.47->tensorflow_data_validation) (1.10.1)\r\n",
      "Requirement already satisfied: shapely<2.0.0 in /opt/conda/lib/python3.10/site-packages (from google-cloud-aiplatform<2.0,>=1.26.0->apache-beam[gcp]<3,>=2.47->tensorflow_data_validation) (1.8.5.post1)\r\n",
      "Requirement already satisfied: google-resumable-media<3.0dev,>=0.6.0 in /opt/conda/lib/python3.10/site-packages (from google-cloud-bigquery<4,>=2.0.0->apache-beam[gcp]<3,>=2.47->tensorflow_data_validation) (2.5.0)\r\n",
      "Requirement already satisfied: grpc-google-iam-v1<1.0.0dev,>=0.12.4 in /opt/conda/lib/python3.10/site-packages (from google-cloud-bigtable<3,>=2.19.0->apache-beam[gcp]<3,>=2.47->tensorflow_data_validation) (0.12.6)\r\n",
      "Requirement already satisfied: grpcio-status>=1.33.2 in /opt/conda/lib/python3.10/site-packages (from google-cloud-pubsub<3,>=2.1.0->apache-beam[gcp]<3,>=2.47->tensorflow_data_validation) (1.46.3)\r\n",
      "Requirement already satisfied: overrides<7.0.0,>=6.0.1 in /opt/conda/lib/python3.10/site-packages (from google-cloud-pubsublite<2,>=1.2.0->apache-beam[gcp]<3,>=2.47->tensorflow_data_validation) (6.5.0)\r\n",
      "Requirement already satisfied: sqlparse>=0.4.4 in /opt/conda/lib/python3.10/site-packages (from google-cloud-spanner<4,>=3.0.0->apache-beam[gcp]<3,>=2.47->tensorflow_data_validation) (0.4.4)\r\n",
      "Requirement already satisfied: docopt in /opt/conda/lib/python3.10/site-packages (from hdfs<3.0.0,>=2.1.0->apache-beam[gcp]<3,>=2.47->tensorflow_data_validation) (0.6.2)\r\n",
      "Requirement already satisfied: pyparsing!=3.0.0,!=3.0.1,!=3.0.2,!=3.0.3,<4,>=2.4.2 in /opt/conda/lib/python3.10/site-packages (from httplib2<0.23.0,>=0.8->apache-beam[gcp]<3,>=2.47->tensorflow_data_validation) (3.0.9)\r\n",
      "Requirement already satisfied: charset-normalizer<4,>=2 in /opt/conda/lib/python3.10/site-packages (from requests<3.0.0,>=2.24.0->apache-beam[gcp]<3,>=2.47->tensorflow_data_validation) (3.1.0)\r\n",
      "Requirement already satisfied: idna<4,>=2.5 in /opt/conda/lib/python3.10/site-packages (from requests<3.0.0,>=2.24.0->apache-beam[gcp]<3,>=2.47->tensorflow_data_validation) (3.4)\r\n",
      "Requirement already satisfied: certifi>=2017.4.17 in /opt/conda/lib/python3.10/site-packages (from requests<3.0.0,>=2.24.0->apache-beam[gcp]<3,>=2.47->tensorflow_data_validation) (2023.7.22)\r\n",
      "Requirement already satisfied: google-auth-oauthlib<1.1,>=0.5 in /opt/conda/lib/python3.10/site-packages (from tensorboard<2.14,>=2.13->tensorflow<3,>=2.13->tensorflow_data_validation) (1.0.0)\r\n",
      "Requirement already satisfied: markdown>=2.6.8 in /opt/conda/lib/python3.10/site-packages (from tensorboard<2.14,>=2.13->tensorflow<3,>=2.13->tensorflow_data_validation) (3.4.3)\r\n",
      "Requirement already satisfied: tensorboard-data-server<0.8.0,>=0.7.0 in /opt/conda/lib/python3.10/site-packages (from tensorboard<2.14,>=2.13->tensorflow<3,>=2.13->tensorflow_data_validation) (0.7.1)\r\n",
      "Requirement already satisfied: werkzeug>=1.0.1 in /opt/conda/lib/python3.10/site-packages (from tensorboard<2.14,>=2.13->tensorflow<3,>=2.13->tensorflow_data_validation) (2.3.7)\r\n",
      "Requirement already satisfied: requests-oauthlib>=0.7.0 in /opt/conda/lib/python3.10/site-packages (from google-auth-oauthlib<1.1,>=0.5->tensorboard<2.14,>=2.13->tensorflow<3,>=2.13->tensorflow_data_validation) (1.3.1)\r\n",
      "Requirement already satisfied: google-crc32c<2.0dev,>=1.0 in /opt/conda/lib/python3.10/site-packages (from google-resumable-media<3.0dev,>=0.6.0->google-cloud-bigquery<4,>=2.0.0->apache-beam[gcp]<3,>=2.47->tensorflow_data_validation) (1.5.0)\r\n",
      "Requirement already satisfied: pyasn1>=0.1.7 in /opt/conda/lib/python3.10/site-packages (from oauth2client>=1.4.12->google-apitools<0.5.32,>=0.5.31->apache-beam[gcp]<3,>=2.47->tensorflow_data_validation) (0.4.8)\r\n",
      "Requirement already satisfied: MarkupSafe>=2.1.1 in /opt/conda/lib/python3.10/site-packages (from werkzeug>=1.0.1->tensorboard<2.14,>=2.13->tensorflow<3,>=2.13->tensorflow_data_validation) (2.1.3)\r\n",
      "Requirement already satisfied: oauthlib>=3.0.0 in /opt/conda/lib/python3.10/site-packages (from requests-oauthlib>=0.7.0->google-auth-oauthlib<1.1,>=0.5->tensorboard<2.14,>=2.13->tensorflow<3,>=2.13->tensorflow_data_validation) (3.2.2)\r\n",
      "Building wheels for collected packages: pyfarmhash, dill\r\n",
      "  Building wheel for pyfarmhash (setup.py) ... \u001b[?25l-\b \bdone\r\n",
      "\u001b[?25h  Created wheel for pyfarmhash: filename=pyfarmhash-0.3.2-cp310-cp310-linux_x86_64.whl size=14319 sha256=dc63fb9096b945ddcd0ed8f16f7c2155c1987ad3ec33cf78fcd5af3bc34f1ffe\r\n",
      "  Stored in directory: /root/.cache/pip/wheels/e0/08/da/f66b1f3258fe3f1e767b2136c5444dbfa9fa3f7944cc5e1983\r\n",
      "  Building wheel for dill (setup.py) ... \u001b[?25l-\b \bdone\r\n",
      "\u001b[?25h  Created wheel for dill: filename=dill-0.3.1.1-py3-none-any.whl size=78545 sha256=22b18baf4478faa045ac924ebedcc02ac8b251c8ed8168c52169037922c1f97c\r\n",
      "  Stored in directory: /root/.cache/pip/wheels/ea/e2/86/64980d90e297e7bf2ce588c2b96e818f5399c515c4bb8a7e4f\r\n",
      "Successfully built pyfarmhash dill\r\n",
      "Installing collected packages: pyfarmhash, typing-extensions, tensorflow-estimator, pyarrow, keras, dill, tensorflow-metadata, pandas, apache-beam, tensorboard, google-api-python-client, tensorflow, google-cloud-datastore, google-cloud-bigtable, google-cloud-bigquery-storage, tensorflow-serving-api, google-cloud-aiplatform, tfx-bsl, tensorflow_data_validation\r\n",
      "\u001b[33m  WARNING: The script plasma_store is installed in '/root/.local/bin' which is not on PATH.\r\n",
      "  Consider adding this directory to PATH or, if you prefer to suppress this warning, use --no-warn-script-location.\u001b[0m\u001b[33m\r\n",
      "\u001b[0m\u001b[33m  WARNING: The script tensorboard is installed in '/root/.local/bin' which is not on PATH.\r\n",
      "  Consider adding this directory to PATH or, if you prefer to suppress this warning, use --no-warn-script-location.\u001b[0m\u001b[33m\r\n",
      "\u001b[0m\u001b[33m  WARNING: The scripts estimator_ckpt_converter, import_pb_to_tensorboard, saved_model_cli, tensorboard, tf_upgrade_v2, tflite_convert, toco and toco_from_protos are installed in '/root/.local/bin' which is not on PATH.\r\n",
      "  Consider adding this directory to PATH or, if you prefer to suppress this warning, use --no-warn-script-location.\u001b[0m\u001b[33m\r\n",
      "\u001b[0m\u001b[33m  WARNING: The script tb-gcp-uploader is installed in '/root/.local/bin' which is not on PATH.\r\n",
      "  Consider adding this directory to PATH or, if you prefer to suppress this warning, use --no-warn-script-location.\u001b[0m\u001b[33m\r\n",
      "\u001b[0m\u001b[31mERROR: pip's dependency resolver does not currently take into account all the packages that are installed. This behaviour is the source of the following dependency conflicts.\r\n",
      "beatrix-jupyterlab 2023.621.222118 requires jupyter-server~=1.16, but you have jupyter-server 2.6.0 which is incompatible.\r\n",
      "chex 0.1.82 requires numpy>=1.25.0, but you have numpy 1.23.5 which is incompatible.\r\n",
      "cloud-tpu-client 0.10 requires google-api-python-client==1.8.0, but you have google-api-python-client 1.12.11 which is incompatible.\r\n",
      "fitter 1.6.0 requires pandas<3.0.0,>=2.0.3, but you have pandas 1.5.3 which is incompatible.\r\n",
      "momepy 0.6.0 requires shapely>=2, but you have shapely 1.8.5.post1 which is incompatible.\r\n",
      "multiprocess 0.70.15 requires dill>=0.3.7, but you have dill 0.3.1.1 which is incompatible.\r\n",
      "pathos 0.3.1 requires dill>=0.3.7, but you have dill 0.3.1.1 which is incompatible.\r\n",
      "pymc3 3.11.5 requires numpy<1.22.2,>=1.15.0, but you have numpy 1.23.5 which is incompatible.\r\n",
      "pymc3 3.11.5 requires scipy<1.8.0,>=1.7.3, but you have scipy 1.11.2 which is incompatible.\r\n",
      "tensorflow-decision-forests 1.4.0 requires tensorflow~=2.12.0, but you have tensorflow 2.13.0 which is incompatible.\r\n",
      "tensorflow-text 2.12.1 requires tensorflow<2.13,>=2.12.0; platform_machine != \"arm64\" or platform_system != \"Darwin\", but you have tensorflow 2.13.0 which is incompatible.\r\n",
      "tensorflow-transform 0.14.0 requires tensorflow-metadata<0.15,>=0.14, but you have tensorflow-metadata 1.14.0 which is incompatible.\r\n",
      "ydata-profiling 4.3.1 requires scipy<1.11,>=1.4.1, but you have scipy 1.11.2 which is incompatible.\u001b[0m\u001b[31m\r\n",
      "\u001b[0mSuccessfully installed apache-beam-2.50.0 dill-0.3.1.1 google-api-python-client-1.12.11 google-cloud-aiplatform-1.31.1 google-cloud-bigquery-storage-2.22.0 google-cloud-bigtable-2.21.0 google-cloud-datastore-2.17.0 keras-2.13.1 pandas-1.5.3 pyarrow-10.0.1 pyfarmhash-0.3.2 tensorboard-2.13.0 tensorflow-2.13.0 tensorflow-estimator-2.13.0 tensorflow-metadata-1.14.0 tensorflow-serving-api-2.13.0 tensorflow_data_validation-1.14.0 tfx-bsl-1.14.0 typing-extensions-4.5.0\r\n"
     ]
    }
   ],
   "source": [
    "!pip install --user tensorflow_data_validation\n",
    "import tensorflow_data_validation as tfdv"
   ]
  },
  {
   "cell_type": "markdown",
   "id": "315136b2",
   "metadata": {
    "papermill": {
     "duration": 0.043737,
     "end_time": "2023-09-05T12:26:24.584121",
     "exception": false,
     "start_time": "2023-09-05T12:26:24.540384",
     "status": "completed"
    },
    "tags": []
   },
   "source": [
    "# [Tensorflow Data Validation (TFDV)](https://www.tensorflow.org/tfx/data_validation/get_started#inferring_a_schema_over_the_data) is an open-source library that helps to understand, validate, and monitor production machine learning (ML) data at scale. Common use-cases include comparing training, evaluation and serving datasets, as well as checking for training/serving skew\n",
    "\n",
    "![](https://www.oreilly.com/api/v2/epubs/9781492053187/files/assets/bmlp_0401.png)"
   ]
  },
  {
   "cell_type": "markdown",
   "id": "637eb652",
   "metadata": {
    "papermill": {
     "duration": 0.043109,
     "end_time": "2023-09-05T12:26:24.670921",
     "exception": false,
     "start_time": "2023-09-05T12:26:24.627812",
     "status": "completed"
    },
    "tags": []
   },
   "source": [
    "# Prepare dataset \n",
    "Concat feature data and train by data and store"
   ]
  },
  {
   "cell_type": "code",
   "execution_count": 3,
   "id": "cc05ad7b",
   "metadata": {
    "execution": {
     "iopub.execute_input": "2023-09-05T12:26:24.760730Z",
     "iopub.status.busy": "2023-09-05T12:26:24.760344Z",
     "iopub.status.idle": "2023-09-05T12:26:25.488479Z",
     "shell.execute_reply": "2023-09-05T12:26:25.487476Z"
    },
    "papermill": {
     "duration": 0.777232,
     "end_time": "2023-09-05T12:26:25.491737",
     "exception": false,
     "start_time": "2023-09-05T12:26:24.714505",
     "status": "completed"
    },
    "tags": []
   },
   "outputs": [],
   "source": [
    "\n",
    "features=pd.read_csv(\"/kaggle/input/walmart-sales-forecast/features.csv\")\n",
    "data=pd.read_csv(\"/kaggle/input/walmart-sales-forecast/train.csv\")\n",
    "\n",
    "df = pd.merge(data,features,on=['Store','Date'],how='right')\n",
    "\n"
   ]
  },
  {
   "cell_type": "code",
   "execution_count": 4,
   "id": "57a1ee65",
   "metadata": {
    "execution": {
     "iopub.execute_input": "2023-09-05T12:26:25.649165Z",
     "iopub.status.busy": "2023-09-05T12:26:25.648728Z",
     "iopub.status.idle": "2023-09-05T12:26:25.676429Z",
     "shell.execute_reply": "2023-09-05T12:26:25.675124Z"
    },
    "papermill": {
     "duration": 0.142814,
     "end_time": "2023-09-05T12:26:25.679109",
     "exception": false,
     "start_time": "2023-09-05T12:26:25.536295",
     "status": "completed"
    },
    "tags": []
   },
   "outputs": [
    {
     "data": {
      "text/html": [
       "<div>\n",
       "<style scoped>\n",
       "    .dataframe tbody tr th:only-of-type {\n",
       "        vertical-align: middle;\n",
       "    }\n",
       "\n",
       "    .dataframe tbody tr th {\n",
       "        vertical-align: top;\n",
       "    }\n",
       "\n",
       "    .dataframe thead th {\n",
       "        text-align: right;\n",
       "    }\n",
       "</style>\n",
       "<table border=\"1\" class=\"dataframe\">\n",
       "  <thead>\n",
       "    <tr style=\"text-align: right;\">\n",
       "      <th></th>\n",
       "      <th>Store</th>\n",
       "      <th>Dept</th>\n",
       "      <th>Date</th>\n",
       "      <th>Weekly_Sales</th>\n",
       "      <th>IsHoliday_x</th>\n",
       "      <th>Temperature</th>\n",
       "      <th>Fuel_Price</th>\n",
       "      <th>MarkDown1</th>\n",
       "      <th>MarkDown2</th>\n",
       "      <th>MarkDown3</th>\n",
       "      <th>MarkDown4</th>\n",
       "      <th>MarkDown5</th>\n",
       "      <th>CPI</th>\n",
       "      <th>Unemployment</th>\n",
       "      <th>IsHoliday_y</th>\n",
       "    </tr>\n",
       "  </thead>\n",
       "  <tbody>\n",
       "    <tr>\n",
       "      <th>0</th>\n",
       "      <td>1</td>\n",
       "      <td>1.0</td>\n",
       "      <td>2010-02-05</td>\n",
       "      <td>24924.50</td>\n",
       "      <td>False</td>\n",
       "      <td>42.31</td>\n",
       "      <td>2.572</td>\n",
       "      <td>NaN</td>\n",
       "      <td>NaN</td>\n",
       "      <td>NaN</td>\n",
       "      <td>NaN</td>\n",
       "      <td>NaN</td>\n",
       "      <td>211.096358</td>\n",
       "      <td>8.106</td>\n",
       "      <td>False</td>\n",
       "    </tr>\n",
       "    <tr>\n",
       "      <th>1</th>\n",
       "      <td>1</td>\n",
       "      <td>2.0</td>\n",
       "      <td>2010-02-05</td>\n",
       "      <td>50605.27</td>\n",
       "      <td>False</td>\n",
       "      <td>42.31</td>\n",
       "      <td>2.572</td>\n",
       "      <td>NaN</td>\n",
       "      <td>NaN</td>\n",
       "      <td>NaN</td>\n",
       "      <td>NaN</td>\n",
       "      <td>NaN</td>\n",
       "      <td>211.096358</td>\n",
       "      <td>8.106</td>\n",
       "      <td>False</td>\n",
       "    </tr>\n",
       "    <tr>\n",
       "      <th>2</th>\n",
       "      <td>1</td>\n",
       "      <td>3.0</td>\n",
       "      <td>2010-02-05</td>\n",
       "      <td>13740.12</td>\n",
       "      <td>False</td>\n",
       "      <td>42.31</td>\n",
       "      <td>2.572</td>\n",
       "      <td>NaN</td>\n",
       "      <td>NaN</td>\n",
       "      <td>NaN</td>\n",
       "      <td>NaN</td>\n",
       "      <td>NaN</td>\n",
       "      <td>211.096358</td>\n",
       "      <td>8.106</td>\n",
       "      <td>False</td>\n",
       "    </tr>\n",
       "    <tr>\n",
       "      <th>3</th>\n",
       "      <td>1</td>\n",
       "      <td>4.0</td>\n",
       "      <td>2010-02-05</td>\n",
       "      <td>39954.04</td>\n",
       "      <td>False</td>\n",
       "      <td>42.31</td>\n",
       "      <td>2.572</td>\n",
       "      <td>NaN</td>\n",
       "      <td>NaN</td>\n",
       "      <td>NaN</td>\n",
       "      <td>NaN</td>\n",
       "      <td>NaN</td>\n",
       "      <td>211.096358</td>\n",
       "      <td>8.106</td>\n",
       "      <td>False</td>\n",
       "    </tr>\n",
       "  </tbody>\n",
       "</table>\n",
       "</div>"
      ],
      "text/plain": [
       "   Store  Dept        Date  Weekly_Sales IsHoliday_x  Temperature  Fuel_Price  \\\n",
       "0      1   1.0  2010-02-05      24924.50       False        42.31       2.572   \n",
       "1      1   2.0  2010-02-05      50605.27       False        42.31       2.572   \n",
       "2      1   3.0  2010-02-05      13740.12       False        42.31       2.572   \n",
       "3      1   4.0  2010-02-05      39954.04       False        42.31       2.572   \n",
       "\n",
       "   MarkDown1  MarkDown2  MarkDown3  MarkDown4  MarkDown5         CPI  \\\n",
       "0        NaN        NaN        NaN        NaN        NaN  211.096358   \n",
       "1        NaN        NaN        NaN        NaN        NaN  211.096358   \n",
       "2        NaN        NaN        NaN        NaN        NaN  211.096358   \n",
       "3        NaN        NaN        NaN        NaN        NaN  211.096358   \n",
       "\n",
       "   Unemployment  IsHoliday_y  \n",
       "0         8.106        False  \n",
       "1         8.106        False  \n",
       "2         8.106        False  \n",
       "3         8.106        False  "
      ]
     },
     "execution_count": 4,
     "metadata": {},
     "output_type": "execute_result"
    }
   ],
   "source": [
    "df.head(4)"
   ]
  },
  {
   "cell_type": "code",
   "execution_count": 5,
   "id": "1edbda50",
   "metadata": {
    "execution": {
     "iopub.execute_input": "2023-09-05T12:26:25.773027Z",
     "iopub.status.busy": "2023-09-05T12:26:25.771979Z",
     "iopub.status.idle": "2023-09-05T12:26:25.893728Z",
     "shell.execute_reply": "2023-09-05T12:26:25.892692Z"
    },
    "papermill": {
     "duration": 0.172603,
     "end_time": "2023-09-05T12:26:25.896282",
     "exception": false,
     "start_time": "2023-09-05T12:26:25.723679",
     "status": "completed"
    },
    "tags": []
   },
   "outputs": [
    {
     "name": "stdout",
     "output_type": "stream",
     "text": [
      "<class 'pandas.core.frame.DataFrame'>\n",
      "RangeIndex: 423325 entries, 0 to 423324\n",
      "Data columns (total 15 columns):\n",
      " #   Column        Non-Null Count   Dtype  \n",
      "---  ------        --------------   -----  \n",
      " 0   Store         423325 non-null  int64  \n",
      " 1   Dept          421570 non-null  float64\n",
      " 2   Date          423325 non-null  object \n",
      " 3   Weekly_Sales  421570 non-null  float64\n",
      " 4   IsHoliday_x   421570 non-null  object \n",
      " 5   Temperature   423325 non-null  float64\n",
      " 6   Fuel_Price    423325 non-null  float64\n",
      " 7   MarkDown1     152433 non-null  float64\n",
      " 8   MarkDown2     112532 non-null  float64\n",
      " 9   MarkDown3     138658 non-null  float64\n",
      " 10  MarkDown4     136466 non-null  float64\n",
      " 11  MarkDown5     153187 non-null  float64\n",
      " 12  CPI           422740 non-null  float64\n",
      " 13  Unemployment  422740 non-null  float64\n",
      " 14  IsHoliday_y   423325 non-null  bool   \n",
      "dtypes: bool(1), float64(11), int64(1), object(2)\n",
      "memory usage: 45.6+ MB\n"
     ]
    }
   ],
   "source": [
    "df.info()"
   ]
  },
  {
   "cell_type": "code",
   "execution_count": 6,
   "id": "a1b6f24d",
   "metadata": {
    "execution": {
     "iopub.execute_input": "2023-09-05T12:26:25.989726Z",
     "iopub.status.busy": "2023-09-05T12:26:25.989214Z",
     "iopub.status.idle": "2023-09-05T12:26:26.011624Z",
     "shell.execute_reply": "2023-09-05T12:26:26.010490Z"
    },
    "papermill": {
     "duration": 0.072886,
     "end_time": "2023-09-05T12:26:26.014270",
     "exception": false,
     "start_time": "2023-09-05T12:26:25.941384",
     "status": "completed"
    },
    "tags": []
   },
   "outputs": [
    {
     "data": {
      "text/html": [
       "<div>\n",
       "<style scoped>\n",
       "    .dataframe tbody tr th:only-of-type {\n",
       "        vertical-align: middle;\n",
       "    }\n",
       "\n",
       "    .dataframe tbody tr th {\n",
       "        vertical-align: top;\n",
       "    }\n",
       "\n",
       "    .dataframe thead th {\n",
       "        text-align: right;\n",
       "    }\n",
       "</style>\n",
       "<table border=\"1\" class=\"dataframe\">\n",
       "  <thead>\n",
       "    <tr style=\"text-align: right;\">\n",
       "      <th></th>\n",
       "      <th>Store</th>\n",
       "      <th>Dept</th>\n",
       "      <th>Date</th>\n",
       "      <th>Weekly_Sales</th>\n",
       "      <th>IsHoliday_x</th>\n",
       "      <th>Temperature</th>\n",
       "      <th>Fuel_Price</th>\n",
       "      <th>MarkDown1</th>\n",
       "      <th>MarkDown2</th>\n",
       "      <th>MarkDown3</th>\n",
       "      <th>MarkDown4</th>\n",
       "      <th>MarkDown5</th>\n",
       "      <th>CPI</th>\n",
       "      <th>Unemployment</th>\n",
       "      <th>IsHoliday_y</th>\n",
       "    </tr>\n",
       "  </thead>\n",
       "  <tbody>\n",
       "    <tr>\n",
       "      <th>423321</th>\n",
       "      <td>45</td>\n",
       "      <td>NaN</td>\n",
       "      <td>2013-07-05</td>\n",
       "      <td>NaN</td>\n",
       "      <td>NaN</td>\n",
       "      <td>77.50</td>\n",
       "      <td>3.614</td>\n",
       "      <td>9090.48</td>\n",
       "      <td>2268.58</td>\n",
       "      <td>582.74</td>\n",
       "      <td>5797.47</td>\n",
       "      <td>1514.93</td>\n",
       "      <td>NaN</td>\n",
       "      <td>NaN</td>\n",
       "      <td>False</td>\n",
       "    </tr>\n",
       "    <tr>\n",
       "      <th>423322</th>\n",
       "      <td>45</td>\n",
       "      <td>NaN</td>\n",
       "      <td>2013-07-12</td>\n",
       "      <td>NaN</td>\n",
       "      <td>NaN</td>\n",
       "      <td>79.37</td>\n",
       "      <td>3.614</td>\n",
       "      <td>3789.94</td>\n",
       "      <td>1827.31</td>\n",
       "      <td>85.72</td>\n",
       "      <td>744.84</td>\n",
       "      <td>2150.36</td>\n",
       "      <td>NaN</td>\n",
       "      <td>NaN</td>\n",
       "      <td>False</td>\n",
       "    </tr>\n",
       "    <tr>\n",
       "      <th>423323</th>\n",
       "      <td>45</td>\n",
       "      <td>NaN</td>\n",
       "      <td>2013-07-19</td>\n",
       "      <td>NaN</td>\n",
       "      <td>NaN</td>\n",
       "      <td>82.84</td>\n",
       "      <td>3.737</td>\n",
       "      <td>2961.49</td>\n",
       "      <td>1047.07</td>\n",
       "      <td>204.19</td>\n",
       "      <td>363.00</td>\n",
       "      <td>1059.46</td>\n",
       "      <td>NaN</td>\n",
       "      <td>NaN</td>\n",
       "      <td>False</td>\n",
       "    </tr>\n",
       "    <tr>\n",
       "      <th>423324</th>\n",
       "      <td>45</td>\n",
       "      <td>NaN</td>\n",
       "      <td>2013-07-26</td>\n",
       "      <td>NaN</td>\n",
       "      <td>NaN</td>\n",
       "      <td>76.06</td>\n",
       "      <td>3.804</td>\n",
       "      <td>212.02</td>\n",
       "      <td>851.73</td>\n",
       "      <td>2.06</td>\n",
       "      <td>10.88</td>\n",
       "      <td>1864.57</td>\n",
       "      <td>NaN</td>\n",
       "      <td>NaN</td>\n",
       "      <td>False</td>\n",
       "    </tr>\n",
       "  </tbody>\n",
       "</table>\n",
       "</div>"
      ],
      "text/plain": [
       "        Store  Dept        Date  Weekly_Sales IsHoliday_x  Temperature  \\\n",
       "423321     45   NaN  2013-07-05           NaN         NaN        77.50   \n",
       "423322     45   NaN  2013-07-12           NaN         NaN        79.37   \n",
       "423323     45   NaN  2013-07-19           NaN         NaN        82.84   \n",
       "423324     45   NaN  2013-07-26           NaN         NaN        76.06   \n",
       "\n",
       "        Fuel_Price  MarkDown1  MarkDown2  MarkDown3  MarkDown4  MarkDown5  \\\n",
       "423321       3.614    9090.48    2268.58     582.74    5797.47    1514.93   \n",
       "423322       3.614    3789.94    1827.31      85.72     744.84    2150.36   \n",
       "423323       3.737    2961.49    1047.07     204.19     363.00    1059.46   \n",
       "423324       3.804     212.02     851.73       2.06      10.88    1864.57   \n",
       "\n",
       "        CPI  Unemployment  IsHoliday_y  \n",
       "423321  NaN           NaN        False  \n",
       "423322  NaN           NaN        False  \n",
       "423323  NaN           NaN        False  \n",
       "423324  NaN           NaN        False  "
      ]
     },
     "execution_count": 6,
     "metadata": {},
     "output_type": "execute_result"
    }
   ],
   "source": [
    "df.tail(4)"
   ]
  },
  {
   "cell_type": "markdown",
   "id": "c9e37a50",
   "metadata": {
    "papermill": {
     "duration": 0.045728,
     "end_time": "2023-09-05T12:26:26.108156",
     "exception": false,
     "start_time": "2023-09-05T12:26:26.062428",
     "status": "completed"
    },
    "tags": []
   },
   "source": [
    "**Ways to shuffle dataset**\n",
    "\n",
    "Shuffling is process to aviod overfitting one or few features in different sets and [improvs generalizability](https://www.deepwizai.com/simply-deep/why-random-shuffling-improves-generalizability-of-neural-nets). For example, some datasets are arranged by geographical location so directly splitting them might result in training sets that only come from locations that are not found in the evaluation and serving sets. That will likely result in a model that will only do well on the locations found in the training set.\n",
    "\n",
    "![](https://images.squarespace-cdn.com/content/v1/5f7384eafb2f3173e7d5c078/1611947452754-GFUHEWQIF9JBSVDQJDFC/with_shuffle.gif)"
   ]
  },
  {
   "cell_type": "code",
   "execution_count": 7,
   "id": "30dec401",
   "metadata": {
    "execution": {
     "iopub.execute_input": "2023-09-05T12:26:26.205191Z",
     "iopub.status.busy": "2023-09-05T12:26:26.203937Z",
     "iopub.status.idle": "2023-09-05T12:26:26.381983Z",
     "shell.execute_reply": "2023-09-05T12:26:26.380811Z"
    },
    "papermill": {
     "duration": 0.229109,
     "end_time": "2023-09-05T12:26:26.384675",
     "exception": false,
     "start_time": "2023-09-05T12:26:26.155566",
     "status": "completed"
    },
    "tags": []
   },
   "outputs": [
    {
     "data": {
      "text/html": [
       "<div>\n",
       "<style scoped>\n",
       "    .dataframe tbody tr th:only-of-type {\n",
       "        vertical-align: middle;\n",
       "    }\n",
       "\n",
       "    .dataframe tbody tr th {\n",
       "        vertical-align: top;\n",
       "    }\n",
       "\n",
       "    .dataframe thead th {\n",
       "        text-align: right;\n",
       "    }\n",
       "</style>\n",
       "<table border=\"1\" class=\"dataframe\">\n",
       "  <thead>\n",
       "    <tr style=\"text-align: right;\">\n",
       "      <th></th>\n",
       "      <th>Store</th>\n",
       "      <th>Dept</th>\n",
       "      <th>Date</th>\n",
       "      <th>Weekly_Sales</th>\n",
       "      <th>IsHoliday_x</th>\n",
       "      <th>Temperature</th>\n",
       "      <th>Fuel_Price</th>\n",
       "      <th>MarkDown1</th>\n",
       "      <th>MarkDown2</th>\n",
       "      <th>MarkDown3</th>\n",
       "      <th>MarkDown4</th>\n",
       "      <th>MarkDown5</th>\n",
       "      <th>CPI</th>\n",
       "      <th>Unemployment</th>\n",
       "      <th>IsHoliday_y</th>\n",
       "    </tr>\n",
       "  </thead>\n",
       "  <tbody>\n",
       "    <tr>\n",
       "      <th>138314</th>\n",
       "      <td>14</td>\n",
       "      <td>36.0</td>\n",
       "      <td>2012-09-28</td>\n",
       "      <td>1073.66</td>\n",
       "      <td>False</td>\n",
       "      <td>64.88</td>\n",
       "      <td>3.997</td>\n",
       "      <td>3816.64</td>\n",
       "      <td>38.19</td>\n",
       "      <td>8.16</td>\n",
       "      <td>2545.14</td>\n",
       "      <td>3536.04</td>\n",
       "      <td>192.013558</td>\n",
       "      <td>8.684</td>\n",
       "      <td>False</td>\n",
       "    </tr>\n",
       "    <tr>\n",
       "      <th>411531</th>\n",
       "      <td>44</td>\n",
       "      <td>92.0</td>\n",
       "      <td>2012-01-20</td>\n",
       "      <td>45315.65</td>\n",
       "      <td>False</td>\n",
       "      <td>32.71</td>\n",
       "      <td>3.047</td>\n",
       "      <td>378.20</td>\n",
       "      <td>22.42</td>\n",
       "      <td>66.00</td>\n",
       "      <td>NaN</td>\n",
       "      <td>481.09</td>\n",
       "      <td>130.279226</td>\n",
       "      <td>5.774</td>\n",
       "      <td>False</td>\n",
       "    </tr>\n",
       "    <tr>\n",
       "      <th>269619</th>\n",
       "      <td>28</td>\n",
       "      <td>33.0</td>\n",
       "      <td>2010-07-09</td>\n",
       "      <td>7817.25</td>\n",
       "      <td>False</td>\n",
       "      <td>90.37</td>\n",
       "      <td>3.100</td>\n",
       "      <td>NaN</td>\n",
       "      <td>NaN</td>\n",
       "      <td>NaN</td>\n",
       "      <td>NaN</td>\n",
       "      <td>NaN</td>\n",
       "      <td>126.151800</td>\n",
       "      <td>14.180</td>\n",
       "      <td>False</td>\n",
       "    </tr>\n",
       "    <tr>\n",
       "      <th>225159</th>\n",
       "      <td>23</td>\n",
       "      <td>23.0</td>\n",
       "      <td>2012-02-17</td>\n",
       "      <td>40684.84</td>\n",
       "      <td>False</td>\n",
       "      <td>27.01</td>\n",
       "      <td>3.703</td>\n",
       "      <td>8924.48</td>\n",
       "      <td>10140.32</td>\n",
       "      <td>1.88</td>\n",
       "      <td>6699.65</td>\n",
       "      <td>2236.81</td>\n",
       "      <td>137.258310</td>\n",
       "      <td>4.261</td>\n",
       "      <td>False</td>\n",
       "    </tr>\n",
       "  </tbody>\n",
       "</table>\n",
       "</div>"
      ],
      "text/plain": [
       "        Store  Dept        Date  Weekly_Sales IsHoliday_x  Temperature  \\\n",
       "138314     14  36.0  2012-09-28       1073.66       False        64.88   \n",
       "411531     44  92.0  2012-01-20      45315.65       False        32.71   \n",
       "269619     28  33.0  2010-07-09       7817.25       False        90.37   \n",
       "225159     23  23.0  2012-02-17      40684.84       False        27.01   \n",
       "\n",
       "        Fuel_Price  MarkDown1  MarkDown2  MarkDown3  MarkDown4  MarkDown5  \\\n",
       "138314       3.997    3816.64      38.19       8.16    2545.14    3536.04   \n",
       "411531       3.047     378.20      22.42      66.00        NaN     481.09   \n",
       "269619       3.100        NaN        NaN        NaN        NaN        NaN   \n",
       "225159       3.703    8924.48   10140.32       1.88    6699.65    2236.81   \n",
       "\n",
       "               CPI  Unemployment  IsHoliday_y  \n",
       "138314  192.013558         8.684        False  \n",
       "411531  130.279226         5.774        False  \n",
       "269619  126.151800        14.180        False  \n",
       "225159  137.258310         4.261        False  "
      ]
     },
     "execution_count": 7,
     "metadata": {},
     "output_type": "execute_result"
    }
   ],
   "source": [
    "#with sklearn\n",
    "sh=shuffle(df)\n",
    "sh.head(4)"
   ]
  },
  {
   "cell_type": "code",
   "execution_count": 8,
   "id": "44d5f71e",
   "metadata": {
    "execution": {
     "iopub.execute_input": "2023-09-05T12:26:26.481371Z",
     "iopub.status.busy": "2023-09-05T12:26:26.480938Z",
     "iopub.status.idle": "2023-09-05T12:26:26.667278Z",
     "shell.execute_reply": "2023-09-05T12:26:26.666108Z"
    },
    "papermill": {
     "duration": 0.238869,
     "end_time": "2023-09-05T12:26:26.669796",
     "exception": false,
     "start_time": "2023-09-05T12:26:26.430927",
     "status": "completed"
    },
    "tags": []
   },
   "outputs": [
    {
     "data": {
      "text/html": [
       "<div>\n",
       "<style scoped>\n",
       "    .dataframe tbody tr th:only-of-type {\n",
       "        vertical-align: middle;\n",
       "    }\n",
       "\n",
       "    .dataframe tbody tr th {\n",
       "        vertical-align: top;\n",
       "    }\n",
       "\n",
       "    .dataframe thead th {\n",
       "        text-align: right;\n",
       "    }\n",
       "</style>\n",
       "<table border=\"1\" class=\"dataframe\">\n",
       "  <thead>\n",
       "    <tr style=\"text-align: right;\">\n",
       "      <th></th>\n",
       "      <th>Store</th>\n",
       "      <th>Dept</th>\n",
       "      <th>Date</th>\n",
       "      <th>Weekly_Sales</th>\n",
       "      <th>IsHoliday_x</th>\n",
       "      <th>Temperature</th>\n",
       "      <th>Fuel_Price</th>\n",
       "      <th>MarkDown1</th>\n",
       "      <th>MarkDown2</th>\n",
       "      <th>MarkDown3</th>\n",
       "      <th>MarkDown4</th>\n",
       "      <th>MarkDown5</th>\n",
       "      <th>CPI</th>\n",
       "      <th>Unemployment</th>\n",
       "      <th>IsHoliday_y</th>\n",
       "    </tr>\n",
       "  </thead>\n",
       "  <tbody>\n",
       "    <tr>\n",
       "      <th>87586</th>\n",
       "      <td>9</td>\n",
       "      <td>2.0</td>\n",
       "      <td>2012-10-05</td>\n",
       "      <td>27504.15</td>\n",
       "      <td>False</td>\n",
       "      <td>66.61</td>\n",
       "      <td>3.617</td>\n",
       "      <td>2657.57</td>\n",
       "      <td>NaN</td>\n",
       "      <td>3.01</td>\n",
       "      <td>1107.79</td>\n",
       "      <td>1560.55</td>\n",
       "      <td>226.966232</td>\n",
       "      <td>4.954</td>\n",
       "      <td>False</td>\n",
       "    </tr>\n",
       "    <tr>\n",
       "      <th>312411</th>\n",
       "      <td>32</td>\n",
       "      <td>2.0</td>\n",
       "      <td>2012-01-27</td>\n",
       "      <td>45773.46</td>\n",
       "      <td>False</td>\n",
       "      <td>36.67</td>\n",
       "      <td>3.038</td>\n",
       "      <td>1212.68</td>\n",
       "      <td>2986.04</td>\n",
       "      <td>177.27</td>\n",
       "      <td>69.87</td>\n",
       "      <td>2324.48</td>\n",
       "      <td>196.826279</td>\n",
       "      <td>8.256</td>\n",
       "      <td>False</td>\n",
       "    </tr>\n",
       "    <tr>\n",
       "      <th>138804</th>\n",
       "      <td>15</td>\n",
       "      <td>97.0</td>\n",
       "      <td>2010-02-12</td>\n",
       "      <td>1986.32</td>\n",
       "      <td>True</td>\n",
       "      <td>22.00</td>\n",
       "      <td>2.940</td>\n",
       "      <td>NaN</td>\n",
       "      <td>NaN</td>\n",
       "      <td>NaN</td>\n",
       "      <td>NaN</td>\n",
       "      <td>NaN</td>\n",
       "      <td>131.586613</td>\n",
       "      <td>8.350</td>\n",
       "      <td>True</td>\n",
       "    </tr>\n",
       "    <tr>\n",
       "      <th>188210</th>\n",
       "      <td>20</td>\n",
       "      <td>85.0</td>\n",
       "      <td>2010-02-12</td>\n",
       "      <td>3189.01</td>\n",
       "      <td>True</td>\n",
       "      <td>22.12</td>\n",
       "      <td>2.773</td>\n",
       "      <td>NaN</td>\n",
       "      <td>NaN</td>\n",
       "      <td>NaN</td>\n",
       "      <td>NaN</td>\n",
       "      <td>NaN</td>\n",
       "      <td>204.385747</td>\n",
       "      <td>8.187</td>\n",
       "      <td>True</td>\n",
       "    </tr>\n",
       "  </tbody>\n",
       "</table>\n",
       "</div>"
      ],
      "text/plain": [
       "        Store  Dept        Date  Weekly_Sales IsHoliday_x  Temperature  \\\n",
       "87586       9   2.0  2012-10-05      27504.15       False        66.61   \n",
       "312411     32   2.0  2012-01-27      45773.46       False        36.67   \n",
       "138804     15  97.0  2010-02-12       1986.32        True        22.00   \n",
       "188210     20  85.0  2010-02-12       3189.01        True        22.12   \n",
       "\n",
       "        Fuel_Price  MarkDown1  MarkDown2  MarkDown3  MarkDown4  MarkDown5  \\\n",
       "87586        3.617    2657.57        NaN       3.01    1107.79    1560.55   \n",
       "312411       3.038    1212.68    2986.04     177.27      69.87    2324.48   \n",
       "138804       2.940        NaN        NaN        NaN        NaN        NaN   \n",
       "188210       2.773        NaN        NaN        NaN        NaN        NaN   \n",
       "\n",
       "               CPI  Unemployment  IsHoliday_y  \n",
       "87586   226.966232         4.954        False  \n",
       "312411  196.826279         8.256        False  \n",
       "138804  131.586613         8.350         True  \n",
       "188210  204.385747         8.187         True  "
      ]
     },
     "execution_count": 8,
     "metadata": {},
     "output_type": "execute_result"
    }
   ],
   "source": [
    "#by dataframe parameters\n",
    "shuffled_df = df.sample(frac=1, random_state=48)\n",
    "shuffled_df.head(4)"
   ]
  },
  {
   "cell_type": "code",
   "execution_count": 9,
   "id": "f142df1c",
   "metadata": {
    "execution": {
     "iopub.execute_input": "2023-09-05T12:26:26.767491Z",
     "iopub.status.busy": "2023-09-05T12:26:26.767031Z",
     "iopub.status.idle": "2023-09-05T12:26:26.939628Z",
     "shell.execute_reply": "2023-09-05T12:26:26.937604Z"
    },
    "papermill": {
     "duration": 0.225055,
     "end_time": "2023-09-05T12:26:26.942599",
     "exception": false,
     "start_time": "2023-09-05T12:26:26.717544",
     "status": "completed"
    },
    "tags": []
   },
   "outputs": [],
   "source": [
    "#by spliting test and val sets\n",
    "train_df,test_val_df=train_test_split(df, test_size=0.2, shuffle=True)\n"
   ]
  },
  {
   "cell_type": "code",
   "execution_count": 10,
   "id": "4d64723f",
   "metadata": {
    "execution": {
     "iopub.execute_input": "2023-09-05T12:26:27.042039Z",
     "iopub.status.busy": "2023-09-05T12:26:27.041617Z",
     "iopub.status.idle": "2023-09-05T12:26:27.066762Z",
     "shell.execute_reply": "2023-09-05T12:26:27.065906Z"
    },
    "papermill": {
     "duration": 0.079381,
     "end_time": "2023-09-05T12:26:27.069150",
     "exception": false,
     "start_time": "2023-09-05T12:26:26.989769",
     "status": "completed"
    },
    "tags": []
   },
   "outputs": [
    {
     "name": "stdout",
     "output_type": "stream",
     "text": [
      "(84665, 15)\n"
     ]
    },
    {
     "data": {
      "text/html": [
       "<div>\n",
       "<style scoped>\n",
       "    .dataframe tbody tr th:only-of-type {\n",
       "        vertical-align: middle;\n",
       "    }\n",
       "\n",
       "    .dataframe tbody tr th {\n",
       "        vertical-align: top;\n",
       "    }\n",
       "\n",
       "    .dataframe thead th {\n",
       "        text-align: right;\n",
       "    }\n",
       "</style>\n",
       "<table border=\"1\" class=\"dataframe\">\n",
       "  <thead>\n",
       "    <tr style=\"text-align: right;\">\n",
       "      <th></th>\n",
       "      <th>Store</th>\n",
       "      <th>Dept</th>\n",
       "      <th>Date</th>\n",
       "      <th>Weekly_Sales</th>\n",
       "      <th>IsHoliday_x</th>\n",
       "      <th>Temperature</th>\n",
       "      <th>Fuel_Price</th>\n",
       "      <th>MarkDown1</th>\n",
       "      <th>MarkDown2</th>\n",
       "      <th>MarkDown3</th>\n",
       "      <th>MarkDown4</th>\n",
       "      <th>MarkDown5</th>\n",
       "      <th>CPI</th>\n",
       "      <th>Unemployment</th>\n",
       "      <th>IsHoliday_y</th>\n",
       "    </tr>\n",
       "  </thead>\n",
       "  <tbody>\n",
       "    <tr>\n",
       "      <th>321802</th>\n",
       "      <td>33</td>\n",
       "      <td>NaN</td>\n",
       "      <td>2013-03-15</td>\n",
       "      <td>NaN</td>\n",
       "      <td>NaN</td>\n",
       "      <td>63.26</td>\n",
       "      <td>3.885</td>\n",
       "      <td>23.75</td>\n",
       "      <td>NaN</td>\n",
       "      <td>NaN</td>\n",
       "      <td>NaN</td>\n",
       "      <td>272.39</td>\n",
       "      <td>132.466806</td>\n",
       "      <td>6.806</td>\n",
       "      <td>False</td>\n",
       "    </tr>\n",
       "    <tr>\n",
       "      <th>416648</th>\n",
       "      <td>45</td>\n",
       "      <td>60.0</td>\n",
       "      <td>2010-12-10</td>\n",
       "      <td>281.60</td>\n",
       "      <td>False</td>\n",
       "      <td>30.54</td>\n",
       "      <td>3.109</td>\n",
       "      <td>NaN</td>\n",
       "      <td>NaN</td>\n",
       "      <td>NaN</td>\n",
       "      <td>NaN</td>\n",
       "      <td>NaN</td>\n",
       "      <td>182.551954</td>\n",
       "      <td>8.724</td>\n",
       "      <td>False</td>\n",
       "    </tr>\n",
       "    <tr>\n",
       "      <th>320675</th>\n",
       "      <td>33</td>\n",
       "      <td>14.0</td>\n",
       "      <td>2012-05-18</td>\n",
       "      <td>787.53</td>\n",
       "      <td>False</td>\n",
       "      <td>89.81</td>\n",
       "      <td>4.308</td>\n",
       "      <td>103.81</td>\n",
       "      <td>NaN</td>\n",
       "      <td>NaN</td>\n",
       "      <td>NaN</td>\n",
       "      <td>2161.91</td>\n",
       "      <td>131.098323</td>\n",
       "      <td>7.396</td>\n",
       "      <td>False</td>\n",
       "    </tr>\n",
       "    <tr>\n",
       "      <th>339725</th>\n",
       "      <td>35</td>\n",
       "      <td>83.0</td>\n",
       "      <td>2012-04-13</td>\n",
       "      <td>2070.34</td>\n",
       "      <td>False</td>\n",
       "      <td>52.22</td>\n",
       "      <td>4.044</td>\n",
       "      <td>4697.48</td>\n",
       "      <td>4222.33</td>\n",
       "      <td>10.5</td>\n",
       "      <td>1903.35</td>\n",
       "      <td>1156.10</td>\n",
       "      <td>141.843393</td>\n",
       "      <td>8.876</td>\n",
       "      <td>False</td>\n",
       "    </tr>\n",
       "    <tr>\n",
       "      <th>266762</th>\n",
       "      <td>27</td>\n",
       "      <td>72.0</td>\n",
       "      <td>2012-06-29</td>\n",
       "      <td>53517.46</td>\n",
       "      <td>False</td>\n",
       "      <td>73.94</td>\n",
       "      <td>3.667</td>\n",
       "      <td>7582.01</td>\n",
       "      <td>585.90</td>\n",
       "      <td>NaN</td>\n",
       "      <td>1019.28</td>\n",
       "      <td>3522.11</td>\n",
       "      <td>142.192038</td>\n",
       "      <td>8.253</td>\n",
       "      <td>False</td>\n",
       "    </tr>\n",
       "  </tbody>\n",
       "</table>\n",
       "</div>"
      ],
      "text/plain": [
       "        Store  Dept        Date  Weekly_Sales IsHoliday_x  Temperature  \\\n",
       "321802     33   NaN  2013-03-15           NaN         NaN        63.26   \n",
       "416648     45  60.0  2010-12-10        281.60       False        30.54   \n",
       "320675     33  14.0  2012-05-18        787.53       False        89.81   \n",
       "339725     35  83.0  2012-04-13       2070.34       False        52.22   \n",
       "266762     27  72.0  2012-06-29      53517.46       False        73.94   \n",
       "\n",
       "        Fuel_Price  MarkDown1  MarkDown2  MarkDown3  MarkDown4  MarkDown5  \\\n",
       "321802       3.885      23.75        NaN        NaN        NaN     272.39   \n",
       "416648       3.109        NaN        NaN        NaN        NaN        NaN   \n",
       "320675       4.308     103.81        NaN        NaN        NaN    2161.91   \n",
       "339725       4.044    4697.48    4222.33       10.5    1903.35    1156.10   \n",
       "266762       3.667    7582.01     585.90        NaN    1019.28    3522.11   \n",
       "\n",
       "               CPI  Unemployment  IsHoliday_y  \n",
       "321802  132.466806         6.806        False  \n",
       "416648  182.551954         8.724        False  \n",
       "320675  131.098323         7.396        False  \n",
       "339725  141.843393         8.876        False  \n",
       "266762  142.192038         8.253        False  "
      ]
     },
     "execution_count": 10,
     "metadata": {},
     "output_type": "execute_result"
    }
   ],
   "source": [
    "\n",
    "print(test_val_df.shape)\n",
    "test_val_df.head()"
   ]
  },
  {
   "cell_type": "code",
   "execution_count": 11,
   "id": "650d8910",
   "metadata": {
    "execution": {
     "iopub.execute_input": "2023-09-05T12:26:27.165633Z",
     "iopub.status.busy": "2023-09-05T12:26:27.164822Z",
     "iopub.status.idle": "2023-09-05T12:26:27.191445Z",
     "shell.execute_reply": "2023-09-05T12:26:27.190191Z"
    },
    "papermill": {
     "duration": 0.07791,
     "end_time": "2023-09-05T12:26:27.193846",
     "exception": false,
     "start_time": "2023-09-05T12:26:27.115936",
     "status": "completed"
    },
    "tags": []
   },
   "outputs": [
    {
     "name": "stdout",
     "output_type": "stream",
     "text": [
      "(338660, 15)\n"
     ]
    },
    {
     "data": {
      "text/html": [
       "<div>\n",
       "<style scoped>\n",
       "    .dataframe tbody tr th:only-of-type {\n",
       "        vertical-align: middle;\n",
       "    }\n",
       "\n",
       "    .dataframe tbody tr th {\n",
       "        vertical-align: top;\n",
       "    }\n",
       "\n",
       "    .dataframe thead th {\n",
       "        text-align: right;\n",
       "    }\n",
       "</style>\n",
       "<table border=\"1\" class=\"dataframe\">\n",
       "  <thead>\n",
       "    <tr style=\"text-align: right;\">\n",
       "      <th></th>\n",
       "      <th>Store</th>\n",
       "      <th>Dept</th>\n",
       "      <th>Date</th>\n",
       "      <th>Weekly_Sales</th>\n",
       "      <th>IsHoliday_x</th>\n",
       "      <th>Temperature</th>\n",
       "      <th>Fuel_Price</th>\n",
       "      <th>MarkDown1</th>\n",
       "      <th>MarkDown2</th>\n",
       "      <th>MarkDown3</th>\n",
       "      <th>MarkDown4</th>\n",
       "      <th>MarkDown5</th>\n",
       "      <th>CPI</th>\n",
       "      <th>Unemployment</th>\n",
       "      <th>IsHoliday_y</th>\n",
       "    </tr>\n",
       "  </thead>\n",
       "  <tbody>\n",
       "    <tr>\n",
       "      <th>321802</th>\n",
       "      <td>33</td>\n",
       "      <td>NaN</td>\n",
       "      <td>2013-03-15</td>\n",
       "      <td>NaN</td>\n",
       "      <td>NaN</td>\n",
       "      <td>63.26</td>\n",
       "      <td>3.885</td>\n",
       "      <td>23.75</td>\n",
       "      <td>NaN</td>\n",
       "      <td>NaN</td>\n",
       "      <td>NaN</td>\n",
       "      <td>272.39</td>\n",
       "      <td>132.466806</td>\n",
       "      <td>6.806</td>\n",
       "      <td>False</td>\n",
       "    </tr>\n",
       "    <tr>\n",
       "      <th>416648</th>\n",
       "      <td>45</td>\n",
       "      <td>60.0</td>\n",
       "      <td>2010-12-10</td>\n",
       "      <td>281.60</td>\n",
       "      <td>False</td>\n",
       "      <td>30.54</td>\n",
       "      <td>3.109</td>\n",
       "      <td>NaN</td>\n",
       "      <td>NaN</td>\n",
       "      <td>NaN</td>\n",
       "      <td>NaN</td>\n",
       "      <td>NaN</td>\n",
       "      <td>182.551954</td>\n",
       "      <td>8.724</td>\n",
       "      <td>False</td>\n",
       "    </tr>\n",
       "    <tr>\n",
       "      <th>320675</th>\n",
       "      <td>33</td>\n",
       "      <td>14.0</td>\n",
       "      <td>2012-05-18</td>\n",
       "      <td>787.53</td>\n",
       "      <td>False</td>\n",
       "      <td>89.81</td>\n",
       "      <td>4.308</td>\n",
       "      <td>103.81</td>\n",
       "      <td>NaN</td>\n",
       "      <td>NaN</td>\n",
       "      <td>NaN</td>\n",
       "      <td>2161.91</td>\n",
       "      <td>131.098323</td>\n",
       "      <td>7.396</td>\n",
       "      <td>False</td>\n",
       "    </tr>\n",
       "    <tr>\n",
       "      <th>339725</th>\n",
       "      <td>35</td>\n",
       "      <td>83.0</td>\n",
       "      <td>2012-04-13</td>\n",
       "      <td>2070.34</td>\n",
       "      <td>False</td>\n",
       "      <td>52.22</td>\n",
       "      <td>4.044</td>\n",
       "      <td>4697.48</td>\n",
       "      <td>4222.33</td>\n",
       "      <td>10.5</td>\n",
       "      <td>1903.35</td>\n",
       "      <td>1156.10</td>\n",
       "      <td>141.843393</td>\n",
       "      <td>8.876</td>\n",
       "      <td>False</td>\n",
       "    </tr>\n",
       "    <tr>\n",
       "      <th>266762</th>\n",
       "      <td>27</td>\n",
       "      <td>72.0</td>\n",
       "      <td>2012-06-29</td>\n",
       "      <td>53517.46</td>\n",
       "      <td>False</td>\n",
       "      <td>73.94</td>\n",
       "      <td>3.667</td>\n",
       "      <td>7582.01</td>\n",
       "      <td>585.90</td>\n",
       "      <td>NaN</td>\n",
       "      <td>1019.28</td>\n",
       "      <td>3522.11</td>\n",
       "      <td>142.192038</td>\n",
       "      <td>8.253</td>\n",
       "      <td>False</td>\n",
       "    </tr>\n",
       "  </tbody>\n",
       "</table>\n",
       "</div>"
      ],
      "text/plain": [
       "        Store  Dept        Date  Weekly_Sales IsHoliday_x  Temperature  \\\n",
       "321802     33   NaN  2013-03-15           NaN         NaN        63.26   \n",
       "416648     45  60.0  2010-12-10        281.60       False        30.54   \n",
       "320675     33  14.0  2012-05-18        787.53       False        89.81   \n",
       "339725     35  83.0  2012-04-13       2070.34       False        52.22   \n",
       "266762     27  72.0  2012-06-29      53517.46       False        73.94   \n",
       "\n",
       "        Fuel_Price  MarkDown1  MarkDown2  MarkDown3  MarkDown4  MarkDown5  \\\n",
       "321802       3.885      23.75        NaN        NaN        NaN     272.39   \n",
       "416648       3.109        NaN        NaN        NaN        NaN        NaN   \n",
       "320675       4.308     103.81        NaN        NaN        NaN    2161.91   \n",
       "339725       4.044    4697.48    4222.33       10.5    1903.35    1156.10   \n",
       "266762       3.667    7582.01     585.90        NaN    1019.28    3522.11   \n",
       "\n",
       "               CPI  Unemployment  IsHoliday_y  \n",
       "321802  132.466806         6.806        False  \n",
       "416648  182.551954         8.724        False  \n",
       "320675  131.098323         7.396        False  \n",
       "339725  141.843393         8.876        False  \n",
       "266762  142.192038         8.253        False  "
      ]
     },
     "execution_count": 11,
     "metadata": {},
     "output_type": "execute_result"
    }
   ],
   "source": [
    "\n",
    "print(train_df.shape)\n",
    "test_val_df.head()"
   ]
  },
  {
   "cell_type": "code",
   "execution_count": 12,
   "id": "ac44d8c5",
   "metadata": {
    "execution": {
     "iopub.execute_input": "2023-09-05T12:26:27.290744Z",
     "iopub.status.busy": "2023-09-05T12:26:27.290306Z",
     "iopub.status.idle": "2023-09-05T12:26:27.317873Z",
     "shell.execute_reply": "2023-09-05T12:26:27.316656Z"
    },
    "papermill": {
     "duration": 0.079047,
     "end_time": "2023-09-05T12:26:27.320922",
     "exception": false,
     "start_time": "2023-09-05T12:26:27.241875",
     "status": "completed"
    },
    "tags": []
   },
   "outputs": [
    {
     "name": "stdout",
     "output_type": "stream",
     "text": [
      "val shape: (42332, 15)  test shape: (42332, 15)\n"
     ]
    }
   ],
   "source": [
    "#val set divided by train and val\n",
    "train_len=test_val_df.shape[0]//2\n",
    "val_df=test_val_df.iloc[:train_len].reset_index(drop=True)\n",
    "test_df=test_val_df.iloc[train_len+1:].reset_index(drop=True)\n",
    "print(\"val shape:\",val_df.shape,\" test shape:\",test_df.shape)"
   ]
  },
  {
   "cell_type": "code",
   "execution_count": 13,
   "id": "9eaa5f53",
   "metadata": {
    "execution": {
     "iopub.execute_input": "2023-09-05T12:26:27.419203Z",
     "iopub.status.busy": "2023-09-05T12:26:27.418026Z",
     "iopub.status.idle": "2023-09-05T12:26:27.430781Z",
     "shell.execute_reply": "2023-09-05T12:26:27.429814Z"
    },
    "papermill": {
     "duration": 0.065242,
     "end_time": "2023-09-05T12:26:27.433124",
     "exception": false,
     "start_time": "2023-09-05T12:26:27.367882",
     "status": "completed"
    },
    "tags": []
   },
   "outputs": [
    {
     "data": {
      "text/plain": [
       "(42332, 14)"
      ]
     },
     "execution_count": 13,
     "metadata": {},
     "output_type": "execute_result"
    }
   ],
   "source": [
    "val_df=val_df.drop(['Weekly_Sales'],axis=1)\n",
    "val_df.shape"
   ]
  },
  {
   "cell_type": "markdown",
   "id": "c7c70c5a",
   "metadata": {
    "papermill": {
     "duration": 0.046501,
     "end_time": "2023-09-05T12:26:27.530687",
     "exception": false,
     "start_time": "2023-09-05T12:26:27.484186",
     "status": "completed"
    },
    "tags": []
   },
   "source": [
    "StatsOptions helps to define columns that will be in training/test/val sets by removing irrelavant feature(columns). \n",
    "\n",
    "In this example there is only one feature - **IsHoliday_y**, that duplicates **IsHoliday_x**"
   ]
  },
  {
   "cell_type": "markdown",
   "id": "0ad68895",
   "metadata": {
    "papermill": {
     "duration": 0.046317,
     "end_time": "2023-09-05T12:26:27.623716",
     "exception": false,
     "start_time": "2023-09-05T12:26:27.577399",
     "status": "completed"
    },
    "tags": []
   },
   "source": [
    "*I found that if merged dataframes as df = first_df.merge(second_df,on=['column_a','column_b'],how='right'), '__index_level_0__' feature (this feature appered after merge) will be in stats_options.feature_allowlist, but if merged as shown before, this feature will be only in schema.*"
   ]
  },
  {
   "cell_type": "code",
   "execution_count": 14,
   "id": "46caee1f",
   "metadata": {
    "execution": {
     "iopub.execute_input": "2023-09-05T12:26:27.720083Z",
     "iopub.status.busy": "2023-09-05T12:26:27.719337Z",
     "iopub.status.idle": "2023-09-05T12:26:27.726590Z",
     "shell.execute_reply": "2023-09-05T12:26:27.725245Z"
    },
    "papermill": {
     "duration": 0.058587,
     "end_time": "2023-09-05T12:26:27.728911",
     "exception": false,
     "start_time": "2023-09-05T12:26:27.670324",
     "status": "completed"
    },
    "tags": []
   },
   "outputs": [
    {
     "name": "stdout",
     "output_type": "stream",
     "text": [
      "Store\n",
      "Dept\n",
      "Date\n",
      "Weekly_Sales\n",
      "IsHoliday_x\n",
      "Temperature\n",
      "Fuel_Price\n",
      "MarkDown1\n",
      "MarkDown2\n",
      "MarkDown3\n",
      "MarkDown4\n",
      "MarkDown5\n",
      "CPI\n",
      "Unemployment\n"
     ]
    }
   ],
   "source": [
    "features_to_remove = {'IsHoliday_y'}\n",
    "approved_cols = [col for col in df.columns if (col not in features_to_remove)]\n",
    "\n",
    "# Instantiate a StatsOptions class and define the feature_allowlist property\n",
    "stats_options = tfdv.StatsOptions(feature_allowlist=approved_cols)\n",
    "\n",
    "for feature in stats_options.feature_allowlist:\n",
    "    print(feature)"
   ]
  },
  {
   "cell_type": "markdown",
   "id": "c6df3004",
   "metadata": {
    "papermill": {
     "duration": 0.046618,
     "end_time": "2023-09-05T12:26:27.823173",
     "exception": false,
     "start_time": "2023-09-05T12:26:27.776555",
     "status": "completed"
    },
    "tags": []
   },
   "source": [
    "# Training statistics\n",
    "\n",
    "TFDV allows to generate statistics from different data formats such as CSV or a Pandas DataFrame.\n",
    "\n",
    "I will use tfdv.generate_statistics_from_dataframe() which, given a DataFrame and stats_options, generates an object of type DatasetFeatureStatisticsList. This object includes the computed statistics of the given dataset. "
   ]
  },
  {
   "cell_type": "code",
   "execution_count": 15,
   "id": "7520a047",
   "metadata": {
    "execution": {
     "iopub.execute_input": "2023-09-05T12:26:27.924586Z",
     "iopub.status.busy": "2023-09-05T12:26:27.923650Z",
     "iopub.status.idle": "2023-09-05T12:26:29.105406Z",
     "shell.execute_reply": "2023-09-05T12:26:29.104156Z"
    },
    "papermill": {
     "duration": 1.23434,
     "end_time": "2023-09-05T12:26:29.108666",
     "exception": false,
     "start_time": "2023-09-05T12:26:27.874326",
     "status": "completed"
    },
    "tags": []
   },
   "outputs": [],
   "source": [
    "train_stats = tfdv.generate_statistics_from_dataframe(train_df,stats_options=stats_options)"
   ]
  },
  {
   "cell_type": "code",
   "execution_count": 16,
   "id": "b8323e9f",
   "metadata": {
    "execution": {
     "iopub.execute_input": "2023-09-05T12:26:29.207201Z",
     "iopub.status.busy": "2023-09-05T12:26:29.206713Z",
     "iopub.status.idle": "2023-09-05T12:26:29.213579Z",
     "shell.execute_reply": "2023-09-05T12:26:29.212682Z"
    },
    "papermill": {
     "duration": 0.059781,
     "end_time": "2023-09-05T12:26:29.216312",
     "exception": false,
     "start_time": "2023-09-05T12:26:29.156531",
     "status": "completed"
    },
    "tags": []
   },
   "outputs": [
    {
     "name": "stdout",
     "output_type": "stream",
     "text": [
      "Number of features used: 15\n",
      "Number of examples used: 338660\n",
      "First feature: Store\n",
      "Last feature: Unemployment\n"
     ]
    }
   ],
   "source": [
    "print(f\"Number of features used: {len(train_stats.datasets[0].features)}\")\n",
    "print(f\"Number of examples used: {train_stats.datasets[0].num_examples}\")\n",
    "print(f\"First feature: {train_stats.datasets[0].features[0].path.step[0]}\")\n",
    "print(f\"Last feature: {train_stats.datasets[0].features[-2].path.step[0]}\")"
   ]
  },
  {
   "cell_type": "code",
   "execution_count": 17,
   "id": "362fce3a",
   "metadata": {
    "collapsed": true,
    "execution": {
     "iopub.execute_input": "2023-09-05T12:26:29.318273Z",
     "iopub.status.busy": "2023-09-05T12:26:29.317033Z",
     "iopub.status.idle": "2023-09-05T12:26:29.326835Z",
     "shell.execute_reply": "2023-09-05T12:26:29.325531Z"
    },
    "jupyter": {
     "outputs_hidden": true
    },
    "papermill": {
     "duration": 0.063201,
     "end_time": "2023-09-05T12:26:29.329532",
     "exception": false,
     "start_time": "2023-09-05T12:26:29.266331",
     "status": "completed"
    },
    "tags": []
   },
   "outputs": [
    {
     "data": {
      "text/html": [
       "<iframe id='facets-iframe' width=\"100%\" height=\"500px\"></iframe>\n",
       "        <script>\n",
       "        facets_iframe = document.getElementById('facets-iframe');\n",
       "        facets_html = '<script src=\"https://cdnjs.cloudflare.com/ajax/libs/webcomponentsjs/1.3.3/webcomponents-lite.js\"><\\/script><link rel=\"import\" href=\"https://raw.githubusercontent.com/PAIR-code/facets/master/facets-dist/facets-jupyter.html\"><facets-overview proto-input=\"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\"></facets-overview>';\n",
       "        facets_iframe.srcdoc = facets_html;\n",
       "         facets_iframe.id = \"\";\n",
       "         setTimeout(() => {\n",
       "           facets_iframe.setAttribute('height', facets_iframe.contentWindow.document.body.offsetHeight + 'px')\n",
       "         }, 1500)\n",
       "         </script>"
      ],
      "text/plain": [
       "<IPython.core.display.HTML object>"
      ]
     },
     "metadata": {},
     "output_type": "display_data"
    }
   ],
   "source": [
    "tfdv.visualize_statistics(train_stats)\n"
   ]
  },
  {
   "cell_type": "markdown",
   "id": "6f957099",
   "metadata": {
    "papermill": {
     "duration": 0.04901,
     "end_time": "2023-09-05T12:26:29.427990",
     "exception": false,
     "start_time": "2023-09-05T12:26:29.378980",
     "status": "completed"
    },
    "tags": []
   },
   "source": [
    "# Schema\n",
    "\n",
    "A schema defines the properties of the data and can thus be used to detect errors. Some of these properties include:\n",
    "\n",
    "* which features are expected to be present\n",
    "* feature type\n",
    "* the number of values for a feature in each example\n",
    "* the presence of each feature across all examples\n",
    "* the expected domains of features\n",
    "\n",
    "Schema by training stats is \"core\" schema, with it I will detect anomalies, data drift and skew in test and val, also calling serving, sets."
   ]
  },
  {
   "cell_type": "code",
   "execution_count": 18,
   "id": "6732bc79",
   "metadata": {
    "execution": {
     "iopub.execute_input": "2023-09-05T12:26:29.530650Z",
     "iopub.status.busy": "2023-09-05T12:26:29.530256Z",
     "iopub.status.idle": "2023-09-05T12:26:29.550795Z",
     "shell.execute_reply": "2023-09-05T12:26:29.549917Z"
    },
    "papermill": {
     "duration": 0.073757,
     "end_time": "2023-09-05T12:26:29.552998",
     "exception": false,
     "start_time": "2023-09-05T12:26:29.479241",
     "status": "completed"
    },
    "tags": []
   },
   "outputs": [
    {
     "data": {
      "text/html": [
       "<div>\n",
       "<style scoped>\n",
       "    .dataframe tbody tr th:only-of-type {\n",
       "        vertical-align: middle;\n",
       "    }\n",
       "\n",
       "    .dataframe tbody tr th {\n",
       "        vertical-align: top;\n",
       "    }\n",
       "\n",
       "    .dataframe thead th {\n",
       "        text-align: right;\n",
       "    }\n",
       "</style>\n",
       "<table border=\"1\" class=\"dataframe\">\n",
       "  <thead>\n",
       "    <tr style=\"text-align: right;\">\n",
       "      <th></th>\n",
       "      <th>Type</th>\n",
       "      <th>Presence</th>\n",
       "      <th>Valency</th>\n",
       "      <th>Domain</th>\n",
       "    </tr>\n",
       "    <tr>\n",
       "      <th>Feature name</th>\n",
       "      <th></th>\n",
       "      <th></th>\n",
       "      <th></th>\n",
       "      <th></th>\n",
       "    </tr>\n",
       "  </thead>\n",
       "  <tbody>\n",
       "    <tr>\n",
       "      <th>'Store'</th>\n",
       "      <td>INT</td>\n",
       "      <td>required</td>\n",
       "      <td></td>\n",
       "      <td>-</td>\n",
       "    </tr>\n",
       "    <tr>\n",
       "      <th>'Dept'</th>\n",
       "      <td>FLOAT</td>\n",
       "      <td>optional</td>\n",
       "      <td>single</td>\n",
       "      <td>-</td>\n",
       "    </tr>\n",
       "    <tr>\n",
       "      <th>'Date'</th>\n",
       "      <td>BYTES</td>\n",
       "      <td>required</td>\n",
       "      <td></td>\n",
       "      <td>-</td>\n",
       "    </tr>\n",
       "    <tr>\n",
       "      <th>'Weekly_Sales'</th>\n",
       "      <td>FLOAT</td>\n",
       "      <td>optional</td>\n",
       "      <td>single</td>\n",
       "      <td>-</td>\n",
       "    </tr>\n",
       "    <tr>\n",
       "      <th>'IsHoliday_x'</th>\n",
       "      <td>INT</td>\n",
       "      <td>optional</td>\n",
       "      <td>single</td>\n",
       "      <td>-</td>\n",
       "    </tr>\n",
       "    <tr>\n",
       "      <th>'Temperature'</th>\n",
       "      <td>FLOAT</td>\n",
       "      <td>required</td>\n",
       "      <td></td>\n",
       "      <td>-</td>\n",
       "    </tr>\n",
       "    <tr>\n",
       "      <th>'Fuel_Price'</th>\n",
       "      <td>FLOAT</td>\n",
       "      <td>required</td>\n",
       "      <td></td>\n",
       "      <td>-</td>\n",
       "    </tr>\n",
       "    <tr>\n",
       "      <th>'MarkDown1'</th>\n",
       "      <td>FLOAT</td>\n",
       "      <td>optional</td>\n",
       "      <td>single</td>\n",
       "      <td>-</td>\n",
       "    </tr>\n",
       "    <tr>\n",
       "      <th>'MarkDown2'</th>\n",
       "      <td>FLOAT</td>\n",
       "      <td>optional</td>\n",
       "      <td>single</td>\n",
       "      <td>-</td>\n",
       "    </tr>\n",
       "    <tr>\n",
       "      <th>'MarkDown3'</th>\n",
       "      <td>FLOAT</td>\n",
       "      <td>optional</td>\n",
       "      <td>single</td>\n",
       "      <td>-</td>\n",
       "    </tr>\n",
       "    <tr>\n",
       "      <th>'MarkDown4'</th>\n",
       "      <td>FLOAT</td>\n",
       "      <td>optional</td>\n",
       "      <td>single</td>\n",
       "      <td>-</td>\n",
       "    </tr>\n",
       "    <tr>\n",
       "      <th>'MarkDown5'</th>\n",
       "      <td>FLOAT</td>\n",
       "      <td>optional</td>\n",
       "      <td>single</td>\n",
       "      <td>-</td>\n",
       "    </tr>\n",
       "    <tr>\n",
       "      <th>'CPI'</th>\n",
       "      <td>FLOAT</td>\n",
       "      <td>optional</td>\n",
       "      <td>single</td>\n",
       "      <td>-</td>\n",
       "    </tr>\n",
       "    <tr>\n",
       "      <th>'Unemployment'</th>\n",
       "      <td>FLOAT</td>\n",
       "      <td>optional</td>\n",
       "      <td>single</td>\n",
       "      <td>-</td>\n",
       "    </tr>\n",
       "    <tr>\n",
       "      <th>'__index_level_0__'</th>\n",
       "      <td>INT</td>\n",
       "      <td>required</td>\n",
       "      <td></td>\n",
       "      <td>-</td>\n",
       "    </tr>\n",
       "  </tbody>\n",
       "</table>\n",
       "</div>"
      ],
      "text/plain": [
       "                      Type  Presence Valency Domain\n",
       "Feature name                                       \n",
       "'Store'                INT  required              -\n",
       "'Dept'               FLOAT  optional  single      -\n",
       "'Date'               BYTES  required              -\n",
       "'Weekly_Sales'       FLOAT  optional  single      -\n",
       "'IsHoliday_x'          INT  optional  single      -\n",
       "'Temperature'        FLOAT  required              -\n",
       "'Fuel_Price'         FLOAT  required              -\n",
       "'MarkDown1'          FLOAT  optional  single      -\n",
       "'MarkDown2'          FLOAT  optional  single      -\n",
       "'MarkDown3'          FLOAT  optional  single      -\n",
       "'MarkDown4'          FLOAT  optional  single      -\n",
       "'MarkDown5'          FLOAT  optional  single      -\n",
       "'CPI'                FLOAT  optional  single      -\n",
       "'Unemployment'       FLOAT  optional  single      -\n",
       "'__index_level_0__'    INT  required              -"
      ]
     },
     "metadata": {},
     "output_type": "display_data"
    }
   ],
   "source": [
    "schema = tfdv.infer_schema(train_stats)\n",
    "tfdv.display_schema(schema)"
   ]
  },
  {
   "cell_type": "markdown",
   "id": "9ff841f6",
   "metadata": {
    "papermill": {
     "duration": 0.051994,
     "end_time": "2023-09-05T12:26:29.657637",
     "exception": false,
     "start_time": "2023-09-05T12:26:29.605643",
     "status": "completed"
    },
    "tags": []
   },
   "source": [
    "# Compare Training and Test Statistics"
   ]
  },
  {
   "cell_type": "code",
   "execution_count": 19,
   "id": "74be6bb5",
   "metadata": {
    "execution": {
     "iopub.execute_input": "2023-09-05T12:26:29.757733Z",
     "iopub.status.busy": "2023-09-05T12:26:29.757227Z",
     "iopub.status.idle": "2023-09-05T12:26:30.242196Z",
     "shell.execute_reply": "2023-09-05T12:26:30.241087Z"
    },
    "papermill": {
     "duration": 0.539103,
     "end_time": "2023-09-05T12:26:30.244692",
     "exception": false,
     "start_time": "2023-09-05T12:26:29.705589",
     "status": "completed"
    },
    "tags": []
   },
   "outputs": [
    {
     "data": {
      "text/html": [
       "<iframe id='facets-iframe' width=\"100%\" height=\"500px\"></iframe>\n",
       "        <script>\n",
       "        facets_iframe = document.getElementById('facets-iframe');\n",
       "        facets_html = '<script src=\"https://cdnjs.cloudflare.com/ajax/libs/webcomponentsjs/1.3.3/webcomponents-lite.js\"><\\/script><link rel=\"import\" href=\"https://raw.githubusercontent.com/PAIR-code/facets/master/facets-dist/facets-jupyter.html\"><facets-overview proto-input=\"CtWOAQoMVEVTVF9EQVRBU0VUENzKAhrABxq0Bwq4AgjcygIYASABLQAAgD8ypAIaGwkAAAAAAADwPxEAAAAAAADwPyEzMzMzM4mwQBobCQAAAAAAAPA/EQAAAAAAAPA/ITMzMzMzibBAGhsJAAAAAAAA8D8RAAAAAAAA8D8hMzMzMzOJsEAaGwkAAAAAAADwPxEAAAAAAADwPyEzMzMzM4mwQBobCQAAAAAAAPA/EQAAAAAAAPA/ITMzMzMzibBAGhsJAAAAAAAA8D8RAAAAAAAA8D8hMzMzMzOJsEAaGwkAAAAAAADwPxEAAAAAAADwPyEzMzMzM4mwQBobCQAAAAAAAPA/EQAAAAAAAPA/ITMzMzMzibBAGhsJAAAAAAAA8D8RAAAAAAAA8D8hMzMzMzOJsEAaGwkAAAAAAADwPxEAAAAAAADwPyEzMzMzM4mwQCABQNzKAhEqVtpyrDE2QBnxloCh6IspQCkAAAAAAADwPzEAAAAAAAA2QDkAAAAAAIBGQEKiAhobCQAAAAAAAPA/EZqZmZmZmRVAITxg5dAi8LJAGhsJmpmZmZmZFUARmpmZmZmZI0Ah/8e95kL1rkAaGwmamZmZmZkjQBFnZmZmZmYsQCHLZ9gVoMqzQBobCWdmZmZmZixAEZqZmZmZmTJAISfb+X4qnK9AGhsJmpmZmZmZMkARAAAAAAAAN0AhZWZmZoY5s0AaGwkAAAAAAAA3QBFnZmZmZmY7QCHj3d3d3fmuQBobCWdmZmZmZjtAEc7MzMzMzD9AITXARXLWB61AGhsJzszMzMzMP0ARmpmZmZkZQkAhYZdUPoyssEAaGwmamZmZmRlCQBHNzMzMzExEQCFrZmZmZnarQBobCc3MzMzMTERAEQAAAAAAgEZAIb7MzMzMbK9AQqQCGhsJAAAAAAAA8D8RAAAAAAAAFEAhAAAAAADfskAaGwkAAAAAAAAUQBEAAAAAAAAiQCEAAAAAANKuQBobCQAAAAAAACJAEQAAAAAAACpAIQAAAAAApq9AGhsJAAAAAAAAKkARAAAAAAAAMkAhAAAAAADPs0AaGwkAAAAAAAAyQBEAAAAAAAA2QCEAAAAAAPSuQBobCQAAAAAAADZAEQAAAAAAADpAIQAAAAAA4K5AGhsJAAAAAAAAOkARAAAAAAAAP0AhAAAAAABHskAaGwkAAAAAAAA/QBEAAAAAAIBBQCEAAAAAAKSsQBobCQAAAAAAgEFAEQAAAAAAAERAIQAAAAAAH7BAGhsJAAAAAAAAREARAAAAAACARkAhAAAAAACgr0AgAUIHCgVTdG9yZRrEBxABGrcHCrsCCKXJAhC3ARgBIAEtAACAPzKkAhobCQAAAAAAAPA/EQAAAAAAAPA/IWZmZmbmdrBAGhsJAAAAAAAA8D8RAAAAAAAA8D8hZmZmZuZ2sEAaGwkAAAAAAADwPxEAAAAAAADwPyFmZmZm5nawQBobCQAAAAAAAPA/EQAAAAAAAPA/IWZmZmbmdrBAGhsJAAAAAAAA8D8RAAAAAAAA8D8hZmZmZuZ2sEAaGwkAAAAAAADwPxEAAAAAAADwPyFmZmZm5nawQBobCQAAAAAAAPA/EQAAAAAAAPA/IWZmZmbmdrBAGhsJAAAAAAAA8D8RAAAAAAAA8D8hZmZmZuZ2sEAaGwkAAAAAAADwPxEAAAAAAADwPyFmZmZm5nawQBobCQAAAAAAAPA/EQAAAAAAAPA/IWZmZmbmdrBAIAFApckCEUHk96rvLEZAGZE021+IkD5AKQAAAAAAAPA/MQAAAAAAAENAOQAAAAAAwFhAQqICGhsJAAAAAAAA8D8RmpmZmZmZJUAhNTMzM3MyuUAaGwmamZmZmZklQBGamZmZmZk0QCFQB3VQx7q0QBobCZqZmZmZmTRAEWdmZmZmZj5AIaC+HQ8lYbZAGhsJZ2ZmZmZmPkARmpmZmZkZREAh8ihcj0LsskAaGwmamZmZmRlEQBEAAAAAAABJQCG+u7u7u3KqQBobCQAAAAAAAElAEWdmZmZm5k1AIZIkSZIkP6tAGhsJZ2ZmZmbmTUARZ2ZmZmZmUUAhQB3UQR0mk0AaGwlnZmZmZmZRQBGamZmZmdlTQCFzUAd1UCqjQBobCZqZmZmZ2VNAEc3MzMzMTFZAIS2cKQBp6KxAGhsJzczMzMxMVkARAAAAAADAWEAhF/DNq4m+tUBCpAIaGwkAAAAAAADwPxEAAAAAAAAcQCEAAAAAAK6xQBobCQAAAAAAABxAEQAAAAAAACxAIQAAAAAAY7FAGhsJAAAAAAAALEARAAAAAAAANkAhAAAAAAB8rkAaGwkAAAAAAAA2QBEAAAAAAAA9QCEAAAAAANqvQBobCQAAAAAAAD1AEQAAAAAAAENAIQAAAAAAbbJAGhsJAAAAAAAAQ0ARAAAAAACASEAhAAAAAAA6rkAaGwkAAAAAAIBIQBEAAAAAAABOQCEAAAAAAIiwQBobCQAAAAAAAE5AEQAAAAAAQFRAIQAAAAAAu7BAGhsJAAAAAABAVEARAAAAAAAAV0AhAAAAAACFsUAaGwkAAAAAAABXQBEAAAAAAMBYQCEAAAAAAC6sQCABQgYKBERlcHQauS0QAiKsLQq4AgjcygIYASABLQAAgD8ypAIaGwkAAAAAAADwPxEAAAAAAADwPyEzMzMzM4mwQBobCQAAAAAAAPA/EQAAAAAAAPA/ITMzMzMzibBAGhsJAAAAAAAA8D8RAAAAAAAA8D8hMzMzMzOJsEAaGwkAAAAAAADwPxEAAAAAAADwPyEzMzMzM4mwQBobCQAAAAAAAPA/EQAAAAAAAPA/ITMzMzMzibBAGhsJAAAAAAAA8D8RAAAAAAAA8D8hMzMzMzOJsEAaGwkAAAAAAADwPxEAAAAAAADwPyEzMzMzM4mwQBobCQAAAAAAAPA/EQAAAAAAAPA/ITMzMzMzibBAGhsJAAAAAAAA8D8RAAAAAAAA8D8hMzMzMzOJsEAaGwkAAAAAAADwPxEAAAAAAADwPyEzMzMzM4mwQCABQNzKAhC2ARoVEgoyMDEwLTEwLTA4GQAAAAAAsHRAGhUSCjIwMTEtMTItMDIZAAAAAACgdEAaFRIKMjAxMS0wOC0xORkAAAAAAJB0QBoVEgoyMDExLTA1LTEzGQAAAAAAgHRAGhUSCjIwMTItMDQtMDYZAAAAAABwdEAaFRIKMjAxMC0wNC0wMhkAAAAAAGB0QBoVEgoyMDEyLTEwLTEyGQAAAAAAUHRAGhUSCjIwMTEtMDktMDkZAAAAAABAdEAaFRIKMjAxMi0wNS0wNBkAAAAAACB0QBoVEgoyMDExLTAzLTA0GQAAAAAAIHRAGhUSCjIwMTEtMTItMDkZAAAAAAAQdEAaFRIKMjAxMi0wOS0yMRkAAAAAAOBzQBoVEgoyMDEyLTA3LTI3GQAAAAAA0HNAGhUSCjIwMTAtMTItMzEZAAAAAADQc0AaFRIKMjAxMi0wOC0wMxkAAAAAAMBzQBoVEgoyMDEyLTA4LTI0GQAAAAAAsHNAGhUSCjIwMTEtMDYtMDMZAAAAAACwc0AaFRIKMjAxMi0wNS0xMRkAAAAAAKBzQBoVEgoyMDExLTExLTI1GQAAAAAAoHNAGhUSCjIwMTAtMDQtMDkZAAAAAACQc0AlAAAgQSqaJwoVIgoyMDEwLTEwLTA4KQAAAAAAsHRAChkIARABIgoyMDExLTEyLTAyKQAAAAAAoHRAChkIAhACIgoyMDExLTA4LTE5KQAAAAAAkHRAChkIAxADIgoyMDExLTA1LTEzKQAAAAAAgHRAChkIBBAEIgoyMDEyLTA0LTA2KQAAAAAAcHRAChkIBRAFIgoyMDEwLTA0LTAyKQAAAAAAYHRAChkIBhAGIgoyMDEyLTEwLTEyKQAAAAAAUHRAChkIBxAHIgoyMDExLTA5LTA5KQAAAAAAQHRAChkICBAIIgoyMDEyLTA1LTA0KQAAAAAAIHRAChkICRAJIgoyMDExLTAzLTA0KQAAAAAAIHRAChkIChAKIgoyMDExLTEyLTA5KQAAAAAAEHRAChkICxALIgoyMDEyLTA5LTIxKQAAAAAA4HNAChkIDBAMIgoyMDEyLTA3LTI3KQAAAAAA0HNAChkIDRANIgoyMDEwLTEyLTMxKQAAAAAA0HNAChkIDhAOIgoyMDEyLTA4LTAzKQAAAAAAwHNAChkIDxAPIgoyMDEyLTA4LTI0KQAAAAAAsHNAChkIEBAQIgoyMDExLTA2LTAzKQAAAAAAsHNAChkIERARIgoyMDEyLTA1LTExKQAAAAAAoHNAChkIEhASIgoyMDExLTExLTI1KQAAAAAAoHNAChkIExATIgoyMDEwLTA0LTA5KQAAAAAAkHNAChkIFBAUIgoyMDEwLTAzLTEyKQAAAAAAkHNAChkIFRAVIgoyMDEwLTAzLTA1KQAAAAAAkHNAChkIFhAWIgoyMDEyLTA0LTIwKQAAAAAAgHNAChkIFxAXIgoyMDEyLTEwLTE5KQAAAAAAYHNAChkIGBAYIgoyMDEyLTA2LTIyKQAAAAAAYHNAChkIGRAZIgoyMDExLTEyLTE2KQAAAAAAYHNAChkIGhAaIgoyMDEwLTA3LTE2KQAAAAAAYHNAChkIGxAbIgoyMDEwLTAyLTE5KQAAAAAAYHNAChkIHBAcIgoyMDEwLTAyLTEyKQAAAAAAYHNAChkIHRAdIgoyMDExLTEwLTA3KQAAAAAAUHNAChkIHhAeIgoyMDEyLTAyLTAzKQAAAAAAQHNAChkIHxAfIgoyMDEyLTA1LTI1KQAAAAAAMHNAChkIIBAgIgoyMDExLTEwLTIxKQAAAAAAMHNAChkIIRAhIgoyMDEwLTExLTA1KQAAAAAAIHNAChkIIhAiIgoyMDEwLTA4LTIwKQAAAAAAIHNAChkIIxAjIgoyMDEwLTA0LTIzKQAAAAAAIHNAChkIJBAkIgoyMDEyLTA4LTE3KQAAAAAAEHNAChkIJRAlIgoyMDEyLTA1LTE4KQAAAAAAEHNAChkIJhAmIgoyMDExLTAzLTE4KQAAAAAAEHNAChkIJxAnIgoyMDExLTAyLTA0KQAAAAAAEHNAChkIKBAoIgoyMDExLTExLTA0KQAAAAAAAHNAChkIKRApIgoyMDExLTA5LTAyKQAAAAAAAHNAChkIKhAqIgoyMDExLTA0LTE1KQAAAAAAAHNAChkIKxArIgoyMDEwLTA3LTMwKQAAAAAAAHNAChkILBAsIgoyMDEwLTA2LTExKQAAAAAAAHNAChkILRAtIgoyMDEwLTAyLTA1KQAAAAAAAHNAChkILhAuIgoyMDEyLTA0LTI3KQAAAAAA8HJAChkILxAvIgoyMDEyLTAxLTI3KQAAAAAA8HJAChkIMBAwIgoyMDExLTEwLTE0KQAAAAAA8HJAChkIMRAxIgoyMDExLTA4LTEyKQAAAAAA8HJAChkIMhAyIgoyMDExLTA1LTA2KQAAAAAA8HJAChkIMxAzIgoyMDExLTAzLTExKQAAAAAA8HJAChkINBA0IgoyMDExLTA3LTA4KQAAAAAA4HJAChkINRA1IgoyMDEwLTEwLTI5KQAAAAAA4HJAChkINhA2IgoyMDEwLTA0LTMwKQAAAAAA4HJAChkINxA3IgoyMDExLTA0LTA4KQAAAAAA0HJAChkIOBA4IgoyMDEyLTA4LTMxKQAAAAAAwHJAChkIORA5IgoyMDEyLTA2LTI5KQAAAAAAwHJAChkIOhA6IgoyMDEyLTAzLTE2KQAAAAAAsHJAChkIOxA7IgoyMDEyLTAzLTA5KQAAAAAAsHJAChkIPBA8IgoyMDEwLTA5LTE3KQAAAAAAsHJAChkIPRA9IgoyMDEyLTAxLTIwKQAAAAAAoHJAChkIPhA+IgoyMDExLTA2LTE3KQAAAAAAoHJAChkIPxA/IgoyMDEwLTA5LTI0KQAAAAAAoHJAChkIQBBAIgoyMDEwLTA3LTIzKQAAAAAAoHJAChkIQRBBIgoyMDEwLTA1LTE0KQAAAAAAoHJAChkIQhBCIgoyMDEyLTA5LTA3KQAAAAAAkHJAChkIQxBDIgoyMDEyLTA2LTAxKQAAAAAAkHJAChkIRBBEIgoyMDEyLTAzLTAyKQAAAAAAkHJAChkIRRBFIgoyMDEwLTA5LTEwKQAAAAAAkHJAChkIRhBGIgoyMDEyLTAxLTA2KQAAAAAAgHJAChkIRxBHIgoyMDExLTAxLTI4KQAAAAAAgHJAChkISBBIIgoyMDExLTExLTExKQAAAAAAcHJAChkISRBJIgoyMDExLTA3LTAxKQAAAAAAcHJAChkIShBKIgoyMDExLTAyLTExKQAAAAAAYHJAChkISxBLIgoyMDExLTA4LTI2KQAAAAAAQHJAChkITBBMIgoyMDEyLTA3LTEzKQAAAAAAMHJAChkITRBNIgoyMDEwLTExLTI2KQAAAAAAMHJAChkIThBOIgoyMDEwLTExLTEyKQAAAAAAMHJAChkITxBPIgoyMDEwLTA2LTA0KQAAAAAAMHJAChkIUBBQIgoyMDEwLTA1LTI4KQAAAAAAMHJAChkIURBRIgoyMDEyLTA3LTIwKQAAAAAAIHJAChkIUhBSIgoyMDEyLTAyLTI0KQAAAAAAIHJAChkIUxBTIgoyMDExLTExLTE4KQAAAAAAIHJAChkIVBBUIgoyMDExLTA1LTIwKQAAAAAAIHJAChkIVRBVIgoyMDEwLTAzLTE5KQAAAAAAIHJAChkIVhBWIgoyMDEyLTEwLTA1KQAAAAAAEHJAChkIVxBXIgoyMDEyLTA3LTA2KQAAAAAAEHJAChkIWBBYIgoyMDExLTA3LTIyKQAAAAAAEHJAChkIWRBZIgoyMDExLTAyLTE4KQAAAAAAEHJAChkIWhBaIgoyMDEwLTA1LTIxKQAAAAAAEHJAChkIWxBbIgoyMDEwLTA1LTA3KQAAAAAAEHJAChkIXBBcIgoyMDExLTA2LTEwKQAAAAAAAHJAChkIXRBdIgoyMDEwLTEwLTE1KQAAAAAAAHJAChkIXhBeIgoyMDEyLTA0LTEzKQAAAAAA8HFAChkIXxBfIgoyMDEyLTAzLTMwKQAAAAAA8HFAChkIYBBgIgoyMDEwLTA5LTAzKQAAAAAA8HFAChkIYRBhIgoyMDEwLTEyLTI0KQAAAAAA4HFAChkIYhBiIgoyMDEwLTA4LTI3KQAAAAAA4HFAChkIYxBjIgoyMDEyLTA5LTE0KQAAAAAA0HFAChkIZBBkIgoyMDEyLTA2LTA4KQAAAAAA0HFAChkIZRBlIgoyMDEwLTEyLTE3KQAAAAAA0HFAChkIZhBmIgoyMDExLTA3LTI5KQAAAAAAwHFAChkIZxBnIgoyMDExLTA0LTI5KQAAAAAAwHFAChkIaBBoIgoyMDExLTAxLTE0KQAAAAAAwHFAChkIaRBpIgoyMDExLTA0LTIyKQAAAAAAsHFAChkIahBqIgoyMDEyLTAyLTEwKQAAAAAAoHFAChkIaxBrIgoyMDEwLTA3LTAyKQAAAAAAoHFAChkIbBBsIgoyMDExLTAzLTI1KQAAAAAAkHFAChkIbRBtIgoyMDEwLTA4LTEzKQAAAAAAkHFAChkIbhBuIgoyMDExLTEyLTMwKQAAAAAAgHFAChkIbxBvIgoyMDExLTA5LTMwKQAAAAAAgHFAChkIcBBwIgoyMDExLTAyLTI1KQAAAAAAgHFAChkIcRBxIgoyMDEwLTEwLTAxKQAAAAAAgHFAChkIchByIgoyMDEyLTAzLTIzKQAAAAAAcHFAChkIcxBzIgoyMDExLTEyLTIzKQAAAAAAcHFAChkIdBB0IgoyMDExLTA2LTI0KQAAAAAAcHFAChkIdRB1IgoyMDEwLTExLTE5KQAAAAAAcHFAChkIdhB2IgoyMDEwLTA3LTA5KQAAAAAAcHFAChkIdxB3IgoyMDEyLTAxLTEzKQAAAAAAYHFAChkIeBB4IgoyMDExLTA1LTI3KQAAAAAAYHFAChkIeRB5IgoyMDExLTAxLTIxKQAAAAAAYHFAChkIehB6IgoyMDEwLTA2LTE4KQAAAAAAYHFAChkIexB7IgoyMDEwLTAzLTI2KQAAAAAAYHFAChkIfBB8IgoyMDExLTA5LTE2KQAAAAAAUHFAChkIfRB9IgoyMDExLTA0LTAxKQAAAAAAUHFAChkIfhB+IgoyMDExLTA5LTIzKQAAAAAAQHFAChkIfxB/IgoyMDEwLTA4LTA2KQAAAAAAEHFAChsIgAEQgAEiCjIwMTAtMDItMjYpAAAAAAAAcUAKGwiBARCBASIKMjAxMi0wOC0xMCkAAAAAAPBwQAobCIIBEIIBIgoyMDExLTEwLTI4KQAAAAAA8HBAChsIgwEQgwEiCjIwMTItMDYtMTUpAAAAAADgcEAKGwiEARCEASIKMjAxMC0xMi0wMykAAAAAAOBwQAobCIUBEIUBIgoyMDExLTAxLTA3KQAAAAAAwHBAChsIhgEQhgEiCjIwMTAtMTAtMjIpAAAAAADAcEAKGwiHARCHASIKMjAxMC0wNC0xNikAAAAAAMBwQAobCIgBEIgBIgoyMDEwLTA2LTI1KQAAAAAAsHBAChsIiQEQiQEiCjIwMTItMTAtMjYpAAAAAACgcEAKGwiKARCKASIKMjAxMi0wOS0yOCkAAAAAAJBwQAobCIsBEIsBIgoyMDEwLTEyLTEwKQAAAAAAkHBAChsIjAEQjAEiCjIwMTEtMDctMTUpAAAAAACAcEAKGwiNARCNASIKMjAxMS0wOC0wNSkAAAAAAOBvQAobCI4BEI4BIgoyMDEyLTAyLTE3KQAAAAAAwG9AChsIjwEQjwEiCjIwMTMtMDMtMjkpAAAAAAAAIEAKGwiQARCQASIKMjAxMi0xMi0xNCkAAAAAAAAgQAobCJEBEJEBIgoyMDEyLTExLTMwKQAAAAAAACBAChsIkgEQkgEiCjIwMTMtMDctMTkpAAAAAAAAHEAKGwiTARCTASIKMjAxMy0wNi0yMSkAAAAAAAAcQAobCJQBEJQBIgoyMDEzLTA2LTA3KQAAAAAAABxAChsIlQEQlQEiCjIwMTMtMDEtMTEpAAAAAAAAHEAKGwiWARCWASIKMjAxMy0wNy0yNikAAAAAAAAYQAobCJcBEJcBIgoyMDEzLTA2LTI4KQAAAAAAABhAChsImAEQmAEiCjIwMTMtMDYtMTQpAAAAAAAAGEAKGwiZARCZASIKMjAxMy0wNS0xNykAAAAAAAAYQAobCJoBEJoBIgoyMDEzLTA1LTAzKQAAAAAAABhAChsImwEQmwEiCjIwMTMtMDItMDEpAAAAAAAAGEAKGwicARCcASIKMjAxMy0wNy0wNSkAAAAAAAAUQAobCJ0BEJ0BIgoyMDEzLTA0LTEyKQAAAAAAABRAChsIngEQngEiCjIwMTMtMDMtMjIpAAAAAAAAFEAKGwifARCfASIKMjAxMy0wMi0xNSkAAAAAAAAUQAobCKABEKABIgoyMDEyLTExLTIzKQAAAAAAABRAChsIoQEQoQEiCjIwMTItMTEtMDIpAAAAAAAAFEAKGwiiARCiASIKMjAxMy0wNS0yNCkAAAAAAAAQQAobCKMBEKMBIgoyMDEzLTA1LTEwKQAAAAAAABBAChsIpAEQpAEiCjIwMTMtMDQtMDUpAAAAAAAAEEAKGwilARClASIKMjAxMy0wMy0wOCkAAAAAAAAQQAobCKYBEKYBIgoyMDEzLTAxLTE4KQAAAAAAABBAChsIpwEQpwEiCjIwMTItMTItMjgpAAAAAAAAEEAKGwioARCoASIKMjAxMi0xMi0yMSkAAAAAAAAQQAobCKkBEKkBIgoyMDEyLTEyLTA3KQAAAAAAABBAChsIqgEQqgEiCjIwMTItMTEtMTYpAAAAAAAAEEAKGwirARCrASIKMjAxMy0wNS0zMSkAAAAAAAAIQAobCKwBEKwBIgoyMDEzLTA0LTI2KQAAAAAAAAhAChsIrQEQrQEiCjIwMTMtMDQtMTkpAAAAAAAACEAKGwiuARCuASIKMjAxMy0wMy0wMSkAAAAAAAAIQAobCK8BEK8BIgoyMDEzLTAyLTIyKQAAAAAAAAhAChsIsAEQsAEiCjIwMTMtMDEtMDQpAAAAAAAACEAKGwixARCxASIKMjAxMi0xMS0wOSkAAAAAAAAIQAobCLIBELIBIgoyMDEzLTA3LTEyKQAAAAAAAABAChsIswEQswEiCjIwMTMtMDMtMTUpAAAAAAAAAEAKGwi0ARC0ASIKMjAxMy0wMi0wOCkAAAAAAAAAQAobCLUBELUBIgoyMDEzLTAxLTI1KQAAAAAAAABAQgYKBERhdGUazgcQARq5Bwq7AgilyQIQtwEYASABLQAAgD8ypAIaGwkAAAAAAADwPxEAAAAAAADwPyFmZmZm5nawQBobCQAAAAAAAPA/EQAAAAAAAPA/IWZmZmbmdrBAGhsJAAAAAAAA8D8RAAAAAAAA8D8hZmZmZuZ2sEAaGwkAAAAAAADwPxEAAAAAAADwPyFmZmZm5nawQBobCQAAAAAAAPA/EQAAAAAAAPA/IWZmZmbmdrBAGhsJAAAAAAAA8D8RAAAAAAAA8D8hZmZmZuZ2sEAaGwkAAAAAAADwPxEAAAAAAADwPyFmZmZm5nawQBobCQAAAAAAAPA/EQAAAAAAAPA/IWZmZmbmdrBAGhsJAAAAAAAA8D8RAAAAAAAA8D8hZmZmZuZ2sEAaGwkAAAAAAADwPxEAAAAAAADwPyFmZmZm5nawQCABQKXJAhEVMjIRP0nPQBlXa+YXDGfWQCAHKT0K16PwfLPAMXE9CtcjKb5AOYXrUbjWJiVBQqICGhsJPQrXo/B8s8ARrEfhenym70AhgvhGrS+u40AaGwmsR+F6fKbvQBEoXI/CJW8AQSFCvPuNddSZQBobCShcj8IlbwBBEWVmZmas9AhBIUXW8z62EWNAGhsJZWZmZqz0CEERUbgehRm9EEEh/GAaCrefFUAaGwlRuB6FGb0QQRFvPQrX3P8UQSH6YBoKt58VQBobCW89Ctfc/xRBEY7C9SigQhlBIf9gGgq3nxVAGhsJjsL1KKBCGUERrUfhemOFHUEh/2AaCrefFUAaGwmtR+F6Y4UdQRFmZmZmE+QgQSH/YBoKt58VQBobCWZmZmYT5CBBEfUoXA91BSNBIfpgGgq3nxVAGhsJ9ShcD3UFI0ERhetRuNYmJUEhBWEaCrefFUBCpAIaGwk9Ctej8HyzwBEzMzMzMw9zQCEAAAAAAH2wQBobCTMzMzMzD3NAERSuR+F6W5VAIQAAAAAAcLBAGhsJFK5H4XpblUARw/UoXA/FpkAhAAAAAAB4sEAaGwnD9ShcD8WmQBE9CtejMDKzQCEAAAAAAHywQBobCT0K16MwMrNAEXE9CtcjKb5AIQAAAAAAdrBAGhsJcT0K1yMpvkAR7FG4HgU9xkAhAAAAAAB0sEAaGwnsUbgeBT3GQBH2KFyP0lXQQCEAAAAAAHuwQBobCfYoXI/SVdBAEbgehetxzNhAIQAAAAAAcbBAGhsJuB6F63HM2EAR4XoUrr+85EAhAAAAAAB5sEAaGwnhehSuv7zkQBGF61G41iYlQSEAAAAAAHWwQCABQg4KDFdlZWtseV9TYWxlcxqGBhr0BQq7AgilyQIQtwEYASABLQAAgD8ypAIaGwkAAAAAAADwPxEAAAAAAADwPyFmZmZm5nawQBobCQAAAAAAAPA/EQAAAAAAAPA/IWZmZmbmdrBAGhsJAAAAAAAA8D8RAAAAAAAA8D8hZmZmZuZ2sEAaGwkAAAAAAADwPxEAAAAAAADwPyFmZmZm5nawQBobCQAAAAAAAPA/EQAAAAAAAPA/IWZmZmbmdrBAGhsJAAAAAAAA8D8RAAAAAAAA8D8hZmZmZuZ2sEAaGwkAAAAAAADwPxEAAAAAAADwPyFmZmZm5nawQBobCQAAAAAAAPA/EQAAAAAAAPA/IWZmZmbmdrBAGhsJAAAAAAAA8D8RAAAAAAAA8D8hZmZmZuZ2sEAaGwkAAAAAAADwPxEAAAAAAADwPyFmZmZm5nawQCABQKXJAhGbO+KA7EGyPxnbnRA5hXjQPyDnsQI5AAAAAAAA8D9CmQIaEhGamZmZmZm5PyFjmZmZZR3jQBobCZqZmZmZmbk/EZqZmZmZmck/ITMzMzMzsxBAGhsJmpmZmZmZyT8RNDMzMzMz0z8hNTMzMzOzEEAaGwk0MzMzMzPTPxGamZmZmZnZPyEyMzMzM7MQQBobCZqZmZmZmdk/EQAAAAAAAOA/ITIzMzMzsxBAGhsJAAAAAAAA4D8RNDMzMzMz4z8hNzMzMzOzEEAaGwk0MzMzMzPjPxFnZmZmZmbmPyEyMzMzM7MQQBobCWdmZmZmZuY/EZqZmZmZmek/ITIzMzMzsxBAGhsJmpmZmZmZ6T8RzczMzMzM7D8hMjMzMzOzEEAaGwnNzMzMzMzsPxEAAAAAAADwPyGamZmZ2TCnQEJ5Ggkh5DiO4zj9sEAaCSHkOI7jOP2wQBoJIeQ4juM4/bBAGgkh5DiO4zj9sEAaCSHkOI7jOP2wQBoJIeQ4juM4/bBAGgkh5DiO4zj9sEAaCSHkOI7jOP2wQBoJIeQ4juM4/bBAGhIRAAAAAAAA8D8hAAAAAAB8p0AgAUINCgtJc0hvbGlkYXlfeBrIBxABGrQHCrgCCNzKAhgBIAEtAACAPzKkAhobCQAAAAAAAPA/EQAAAAAAAPA/ITMzMzMzibBAGhsJAAAAAAAA8D8RAAAAAAAA8D8hMzMzMzOJsEAaGwkAAAAAAADwPxEAAAAAAADwPyEzMzMzM4mwQBobCQAAAAAAAPA/EQAAAAAAAPA/ITMzMzMzibBAGhsJAAAAAAAA8D8RAAAAAAAA8D8hMzMzMzOJsEAaGwkAAAAAAADwPxEAAAAAAADwPyEzMzMzM4mwQBobCQAAAAAAAPA/EQAAAAAAAPA/ITMzMzMzibBAGhsJAAAAAAAA8D8RAAAAAAAA8D8hMzMzMzOJsEAaGwkAAAAAAADwPxEAAAAAAADwPyEzMzMzM4mwQBobCQAAAAAAAPA/EQAAAAAAAPA/ITMzMzMzibBAIAFA3MoCEfJI/QlUDk5AGYWIeQl0azJAKSlcj8L1KB3AMbgehetRGE9AOSlcj8L1CFlAQqICGhsJKVyPwvUoHcAROrTIdr6fC0AhsuJ4DtERPEAaGwk6tMh2vp8LQBEyCKwcWmQsQCH7s98JlIVfQBobCTIIrBxaZCxAEarx0k1i8DhAIQeLKxiWvpVAGhsJqvHSTWLwOEARnu+nxkvXQUAhqQ102sB/qkAaGwme76fGS9dBQBFnZmZmZjZHQCG8HoXrsey0QBobCWdmZmZmNkdAES/dJAaBlUxAIU5VVVX1mrxAGhsJL90kBoGVTEAR/Knx0k36UEAhJCIiIuJEwEAaGwn8qfHSTfpQQBFg5dAi26lTQCGSmZmZGdHBQBobCWDl0CLbqVNAEcQgsHJoWVZAIdDaN6y9SbdAGhsJxCCwcmhZVkARKVyPwvUIWUAhwmHtG9ZTlEBCpAIaGwkpXI/C9SgdwBEpXI/C9ehAQCEAAAAAAJCwQBobCSlcj8L16EBAEVK4HoXrsUVAIQAAAAAAhbBAGhsJUrgeheuxRUARUrgehesRSUAhAAAAAACNsEAaGwlSuB6F6xFJQBEK16NwPSpMQCEAAAAAAIOwQBobCQrXo3A9KkxAEbgehetRGE9AIQAAAAAAlLBAGhsJuB6F61EYT0ARmpmZmZnZUEAhAAAAAACNsEAaGwmamZmZmdlQQBEpXI/C9ehRQCEAAAAAAI+wQBobCSlcj8L16FFAEUjhehSuR1NAIQAAAAAAdbBAGhsJSOF6FK5HU0ARcT0K16PgVEAhAAAAAACZsEAaGwlxPQrXo+BUQBEpXI/C9QhZQCEAAAAAAHmwQCABQg0KC1RlbXBlcmF0dXJlGscHEAEatAcKuAII3MoCGAEgAS0AAIA/MqQCGhsJAAAAAAAA8D8RAAAAAAAA8D8hMzMzMzOJsEAaGwkAAAAAAADwPxEAAAAAAADwPyEzMzMzM4mwQBobCQAAAAAAAPA/EQAAAAAAAPA/ITMzMzMzibBAGhsJAAAAAAAA8D8RAAAAAAAA8D8hMzMzMzOJsEAaGwkAAAAAAADwPxEAAAAAAADwPyEzMzMzM4mwQBobCQAAAAAAAPA/EQAAAAAAAPA/ITMzMzMzibBAGhsJAAAAAAAA8D8RAAAAAAAA8D8hMzMzMzOJsEAaGwkAAAAAAADwPxEAAAAAAADwPyEzMzMzM4mwQBobCQAAAAAAAPA/EQAAAAAAAPA/ITMzMzMzibBAGhsJAAAAAAAA8D8RAAAAAAAA8D8hMzMzMzOJsEAgAUDcygIRp9x3GHvmCkAZE+dsc6FT3T8pLbKd76fGA0AxeekmMQisC0A5rBxaZDvfEUBCogIaGwktsp3vp8YDQBHk8h/Sb18FQCE3CtejcBulQBobCeTyH9JvXwVAEZwzorQ3+AZAIUvhehTuN7pAGhsJnDOitDf4BkARVHQkl/+QCEAheFAHdRACskAaGwlUdCSX/5AIQBELtaZ5xykKQCF4xVd8xT2sQBobCQu1pnnHKQpAEcL1KFyPwgtAIbnMzMzMbK1AGhsJwvUoXI/CC0ARejarPldbDUAhPDMzM7MWv0AaGwl6Nqs+V1sNQBEydy0hH/QOQCEGAAAAgEW7QBobCTJ3LSEf9A5AEfTb14FzRhBAIZKZmZmZD7FAGhsJ9NvXgXNGEEARUPwYc9cSEUAhGuU1lNc4lUAaGwlQ/Bhz1xIRQBGsHFpkO98RQCH6nlvi1E9wQEKkAhobCS2yne+nxgNAEc3MzMzMzAVAIQAAAAAA97BAGhsJzczMzMzMBUARuB6F61G4BkAhAAAAAAAisEAaGwm4HoXrUbgGQBFU46WbxCAIQCEAAAAAAIywQBobCVTjpZvEIAhAERfZzvdT4wlAIQAAAAAAhbBAGhsJF9nO91PjCUAReekmMQisC0AhAAAAAAC6sEAaGwl56SYxCKwLQBGamZmZmZkMQCEAAAAAAJSwQBobCZqZmZmZmQxAERBYObTIdg1AIQAAAAAAaLBAGhsJEFg5tMh2DUARke18PzVeDkAhAAAAAAB/sEAaGwmR7Xw/NV4OQBG8dJMYBFYPQCEAAAAAALawQBobCbx0kxgEVg9AEawcWmQ73xFAIQAAAAAAR7BAIAFCDAoKRnVlbF9QcmljZRrIBxABGrYHCroCCLZ3EKbTARgBIAEtAACAPzKkAhobCQAAAAAAAPA/EQAAAAAAAPA/IWZmZmZm4pdAGhsJAAAAAAAA8D8RAAAAAAAA8D8hZmZmZmbil0AaGwkAAAAAAADwPxEAAAAAAADwPyFmZmZmZuKXQBobCQAAAAAAAPA/EQAAAAAAAPA/IWZmZmZm4pdAGhsJAAAAAAAA8D8RAAAAAAAA8D8hZmZmZmbil0AaGwkAAAAAAADwPxEAAAAAAADwPyFmZmZmZuKXQBobCQAAAAAAAPA/EQAAAAAAAPA/IWZmZmZm4pdAGhsJAAAAAAAA8D8RAAAAAAAA8D8hZmZmZmbil0AaGwkAAAAAAADwPxEAAAAAAADwPyFmZmZmZuKXQBobCQAAAAAAAPA/EQAAAAAAAPA/IWZmZmZm4pdAIAFAtncRZaMeZOhEvEAZm7UGOuBrwEApSOF6FK5H0T8xKVyPwrXItEA5j8L1KGyk9UBCogIaGwlI4XoUrkfRPxGDwMqhdVDBQCHFBsSo7/jFQBobCYPAyqF1UMFAEQisHFpkUNFAIdThQILqxKZAGhsJCKwcWmRQ0UARz/dT44342UAhapz+5HOag0AaGwnP91PjjfjZQBHKoUW2W1DhQCFCOHOHffFrQBobCcqhRbZbUOFAEa1H4XpwpOVAIQpf9eCqw2FAGhsJrUfhenCk5UARke18P4X46UAhao2lVwWKR0AaGwmR7Xw/hfjpQBF0kxgEmkzuQCGOFmzgUk5DQBobCXSTGASaTO5AEawcWmRXUPFAIfK5rw6zjzxAGhsJrBxaZFdQ8UARnu+nxmF680AhmZQ1+DQpJkAaGwme76fGYXrzQBGPwvUobKT1QCGTw9vLe/UKQEKkAhobCUjhehSuR9E/EbgehetRwHZAIQAAAAAA9JdAGhsJuB6F61HAdkARj8L1KFzWlkAhAAAAAADol0AaGwmPwvUoXNaWQBHNzMzMzIelQCEAAAAAAOiXQBobCc3MzMzMh6VAEbgehetRM69AIQAAAAAA1JdAGhsJuB6F61Ezr0ARKVyPwrXItEAhAAAAAADkl0AaGwkpXI/Ctci0QBE9CtejsMe5QCEAAAAAANyXQBobCT0K16Owx7lAEaRwPQrXJcBAIQAAAAAA5JdAGhsJpHA9CtclwEARzczMzIyOxEAhAAAAAADsl0AaGwnNzMzMjI7EQBHsUbgehcvNQCEAAAAAAPCXQBobCexRuB6Fy81AEY/C9ShspPVAIQAAAAAAwJdAIAFCCwoJTWFya0Rvd24xGsoHEAEauAcKugIIl1cQxfMBGAEgAS0AAIA/MqQCGhsJAAAAAAAA8D8RAAAAAAAA8D8hmpmZmZlvkUAaGwkAAAAAAADwPxEAAAAAAADwPyGamZmZmW+RQBobCQAAAAAAAPA/EQAAAAAAAPA/IZqZmZmZb5FAGhsJAAAAAAAA8D8RAAAAAAAA8D8hmpmZmZlvkUAaGwkAAAAAAADwPxEAAAAAAADwPyGamZmZmW+RQBobCQAAAAAAAPA/EQAAAAAAAPA/IZqZmZmZb5FAGhsJAAAAAAAA8D8RAAAAAAAA8D8hmpmZmZlvkUAaGwkAAAAAAADwPxEAAAAAAADwPyGamZmZmW+RQBobCQAAAAAAAPA/EQAAAAAAAPA/IZqZmZmZb5FAGhsJAAAAAAAA8D8RAAAAAAAA8D8hmpmZmZlvkUAgAUCXVxGwwL4ALESpQBn1mJlMuB/CQCAbKVyPwvUonHDAMbgehetRKGhAOT0K16N4hPlAQqICGhsJXI/C9SiccMAR9Shcj2Lyw0Ah9Umf9En3w0AaGwn1KFyPYvLDQBEzMzMz0zTUQCF1JT4UFHN/QBobCTMzMzPTNNRAEetRuB51cN5AIU5ZohOp8WNAGhsJ61G4HnVw3kARUbgehQtW5EAh698ZAwc4WEAaGwlRuB6FC1bkQBGtR+F63HPpQCEk1hn2AZVWQBobCa1H4Xrcc+lAEQnXo3Ctke5AIf5YGNGtrEJAGhsJCdejcK2R7kARMzMzM7/X8UAh/W9oXxe6MUAaGwkzMzMzv9fxQBHhehSup2b0QCFcMJXIftAiQBobCeF6FK6nZvRAEY/C9SiQ9fZAIfqn96q5iSZAGhsJj8L1KJD19kARPQrXo3iE+UAhgB2RgLNxJUBCpAIaGwlcj8L1KJxwwBEAAAAAAAAcQCEAAAAAAPyRQBobCQAAAAAAABxAETMzMzMzMzlAIQAAAAAA8JBAGhsJMzMzMzMzOUARAAAAAAAATkAhAAAAAABkkUAaGwkAAAAAAABOQBG4HoXrUThaQCEAAAAAAHyRQBobCbgehetROFpAEbgehetRKGhAIQAAAAAAbJFAGhsJuB6F61EoaEAR16NwPQoDd0AhAAAAAACAkUAaGwnXo3A9CgN3QBHsUbgehUGPQCEAAAAAAFiRQBobCexRuB6FQY9AEeF6FK5HiqlAIQAAAAAAfJFAGhsJ4XoUrkeKqUARCtejcP02v0AhAAAAAABkkUAaGwkK16Nw/Ta/QBE9CtejeIT5QCEAAAAAAGyRQCABQgsKCU1hcmtEb3duMhrKBxABGrgHCroCCOlsEPPdARgBIAEtAACAPzKkAhobCQAAAAAAAPA/EQAAAAAAAPA/IZqZmZmZw5VAGhsJAAAAAAAA8D8RAAAAAAAA8D8hmpmZmZnDlUAaGwkAAAAAAADwPxEAAAAAAADwPyGamZmZmcOVQBobCQAAAAAAAPA/EQAAAAAAAPA/IZqZmZmZw5VAGhsJAAAAAAAA8D8RAAAAAAAA8D8hmpmZmZnDlUAaGwkAAAAAAADwPxEAAAAAAADwPyGamZmZmcOVQBobCQAAAAAAAPA/EQAAAAAAAPA/IZqZmZmZw5VAGhsJAAAAAAAA8D8RAAAAAAAA8D8hmpmZmZnDlUAaGwkAAAAAAADwPxEAAAAAAADwPyGamZmZmcOVQBobCQAAAAAAAPA/EQAAAAAAAPA/IZqZmZmZw5VAIAFA6WwRQ7e+IuJZl0AZnKEc+KsPw0AgBimamZmZmRk9wDHD9Shcj0I5QDkUrkfh9EkBQUKiAhobCZqZmZmZGT3AEWiR7XxvnMtAISZkcqVinspAGhsJaJHtfG+cy0ARz/dT47Wj20Ah2fNuTW5gQEAaGwnP91PjtaPbQBF1kxgEmrzkQCFWCPiktcpJQBobCXWTGASavORAEQIrhxZZp+tAIZJ+dBa8wEtAGhsJAiuHFlmn60ARR+F6FAxJ8UAhOk1vomWnTUAaGwlH4XoUDEnxQBEOLbKda770QCEE2GEh/ZdLQBobCQ4tsp1rvvRAEdR46SbLM/hAISLNCl9mvzJAGhsJ1HjpJssz+EARm8QgsCqp+0AhMTqSBugwNEAaGwmbxCCwKqn7QBFiEFg5ih7/QCGotgVxhM8LQBobCWIQWDmKHv9AERSuR+H0SQFBIaC2BXGEzwtAQqQCGhsJmpmZmZkZPcARZmZmZmZm+j8hAAAAAAAclkAaGwlmZmZmZmb6PxGF61G4HoUNQCEAAAAAAHyVQBobCYXrUbgehQ1AERSuR+F6FBxAIQAAAAAAwJVAGhsJFK5H4XoUHEARXI/C9SjcKkAhAAAAAADElUAaGwlcj8L1KNwqQBHD9Shcj0I5QCEAAAAAANSVQBobCcP1KFyPQjlAERSuR+F6FEZAIQAAAAAAsJVAGhsJFK5H4XoURkARmpmZmZnZU0AhAAAAAADQlUAaGwmamZmZmdlTQBEK16NwPWpiQCEAAAAAALyVQBobCQrXo3A9amJAEa5H4XoU4npAIQAAAAAAuJVAGhsJrkfhehTiekARFK5H4fRJAUEhAAAAAADAlUAgAUILCglNYXJrRG93bjMayAcQARq2Bwq6AgjpahDz3wEYASABLQAAgD8ypAIaGwkAAAAAAADwPxEAAAAAAADwPyEzMzMzM12VQBobCQAAAAAAAPA/EQAAAAAAAPA/ITMzMzMzXZVAGhsJAAAAAAAA8D8RAAAAAAAA8D8hMzMzMzNdlUAaGwkAAAAAAADwPxEAAAAAAADwPyEzMzMzM12VQBobCQAAAAAAAPA/EQAAAAAAAPA/ITMzMzMzXZVAGhsJAAAAAAAA8D8RAAAAAAAA8D8hMzMzMzNdlUAaGwkAAAAAAADwPxEAAAAAAADwPyEzMzMzM12VQBobCQAAAAAAAPA/EQAAAAAAAPA/ITMzMzMzXZVAGhsJAAAAAAAA8D8RAAAAAAAA8D8hMzMzMzNdlUAaGwkAAAAAAADwPxEAAAAAAADwPyEzMzMzM12VQCABQOlqES5VfQnBfapAGemSHkTuzbhAKSlcj8L1KMw/MexRuB6FqJZAOZqZmZktefBAQqICGhsJKVyPwvUozD8RLIcW2a5bukAh7qKNh7Otx0AaGwkshxbZrlu6QBGcxCCwklvKQCHTmEBMCQ2NQBobCZzEILCSW8pAEdIi2/mmxNNAISLrVhmALHFAGhsJ0iLb+abE00ARVeOlm4Rb2kAhu9yrcbPJXkAaGwlV46WbhFvaQBHsUbgeMXngQCFPJj5fojtKQBobCexRuB4xeeBAES6yne+fxONAIexM83OLhUlAGhsJLrKd75/E40ARbxKDwA4Q50AhqIM1uvW8TEAaGwlvEoPADhDnQBGxcmiRfVvqQCEmZj410P1DQBobCbFyaJF9W+pAEfPSTWLspu1AIcuOzSRRXilAGhsJ89JNYuym7UARmpmZmS158EAh5Meu0c/DIEBCpAIaGwkpXI/C9SjMPxFcj8L1KCxaQCEAAAAAAGSVQBobCVyPwvUoLFpAERSuR+F6DHhAIQAAAAAAZJVAGhsJFK5H4XoMeEARpHA9Ctflg0AhAAAAAABclUAaGwmkcD0K1+WDQBG4HoXrUTyPQCEAAAAAAGCVQBobCbgehetRPI9AEexRuB6FqJZAIQAAAAAAVJVAGhsJ7FG4HoWolkARCtejcL0goEAhAAAAAABslUAaGwkK16NwvSCgQBGamZmZGTmnQCEAAAAAAEyVQBobCZqZmZkZOadAEfYoXI8CY7BAIQAAAAAAeJVAGhsJ9ihcjwJjsEARKVyPwrW2vkAhAAAAAABMlUAaGwkpXI/Ctba+QBGamZmZLXnwQCEAAAAAAFCVQCABQgsKCU1hcmtEb3duNBrIBxABGrYHCroCCIB4ENzSARgBIAEtAACAPzKkAhobCQAAAAAAAPA/EQAAAAAAAPA/IQAAAAAAAJhAGhsJAAAAAAAA8D8RAAAAAAAA8D8hAAAAAAAAmEAaGwkAAAAAAADwPxEAAAAAAADwPyEAAAAAAACYQBobCQAAAAAAAPA/EQAAAAAAAPA/IQAAAAAAAJhAGhsJAAAAAAAA8D8RAAAAAAAA8D8hAAAAAAAAmEAaGwkAAAAAAADwPxEAAAAAAADwPyEAAAAAAACYQBobCQAAAAAAAPA/EQAAAAAAAPA/IQAAAAAAAJhAGhsJAAAAAAAA8D8RAAAAAAAA8D8hAAAAAAAAmEAaGwkAAAAAAADwPxEAAAAAAADwPyEAAAAAAACYQBobCQAAAAAAAPA/EQAAAAAAAPA/IQAAAAAAAJhAIAFAgHgRnu+n9g4+skAZouZVBeV8t0AphetRuB7lYEAxH4XrUbhaqkA5rkfhenR++kBCogIaGwmF61G4HuVgQBGoxks3yW7FQCEBXmFnwmTMQBobCajGSzfJbsVAEdEi2/n+TNVAIaMZcFQvtYFAGhsJ0SLb+f5M1UARTmIQWJni30AhROVExVYfY0AaGwlOYhBYmeLfQBHm0CLbGTzlQCEYbo6xpUpIQBobCebQItsZPOVAEaRwPQrnhupAIQq5mHCGLixAGhsJpHA9CueG6kARYxBYObTR70Ah6oKSYV79MkAaGwljEFg5tNHvQBERWDm0QI7yQCGKv2nuEyoRQBobCRFYObRAjvJAEfCnxkunM/VAITQNfTw53hFAGhsJ8KfGS6cz9UARz/dT4w3Z90Ah7mDIeiDdGEAaGwnP91PjDdn3QBGuR+F6dH76QCHuYMh6IN0YQEKkAhobCYXrUbge5WBAEYXrUbgen5BAIQAAAAAAJJhAGhsJhetRuB6fkEARPQrXo3AVmUAhAAAAAADwl0AaGwk9CtejcBWZQBEpXI/C9cOgQCEAAAAAAPyXQBobCSlcj8L1w6BAEbgehevRVqVAIQAAAAAAAJhAGhsJuB6F69FWpUARH4XrUbhaqkAhAAAAAAD8l0AaGwkfhetRuFqqQBEK16NwvRivQCEAAAAAAAyYQBobCQrXo3C9GK9AEYXrUbheTLNAIQAAAAAA+JdAGhsJhetRuF5Ms0AR7FG4HoWSuEAhAAAAAAAEmEAaGwnsUbgehZK4QBF7FK5H4XDAQCEAAAAAAPyXQBobCXsUrkfhcMBAEa5H4Xp0fvpAIQAAAAAA8JdAIAFCCwoJTWFya0Rvd241GsIHEAEatgcKugIIl8oCEEUYASABLQAAgD8ypAIaGwkAAAAAAADwPxEAAAAAAADwPyHNzMzMTIKwQBobCQAAAAAAAPA/EQAAAAAAAPA/Ic3MzMxMgrBAGhsJAAAAAAAA8D8RAAAAAAAA8D8hzczMzEyCsEAaGwkAAAAAAADwPxEAAAAAAADwPyHNzMzMTIKwQBobCQAAAAAAAPA/EQAAAAAAAPA/Ic3MzMxMgrBAGhsJAAAAAAAA8D8RAAAAAAAA8D8hzczMzEyCsEAaGwkAAAAAAADwPxEAAAAAAADwPyHNzMzMTIKwQBobCQAAAAAAAPA/EQAAAAAAAPA/Ic3MzMxMgrBAGhsJAAAAAAAA8D8RAAAAAAAA8D8hzczMzEyCsEAaGwkAAAAAAADwPxEAAAAAAADwPyHNzMzMTIKwQCABQJfKAhGF+1a7omdlQBmJB17LXJVDQClqvHSTGIRfQDGzA1NyM8pmQDkkT0ghP59sQEKiAhobCWq8dJMYhF9AEbNcFSxeC2FAIeXkrzxbfM1AGhsJs1wVLF4LYUARMltwDrBUYkAh891EPq1HtkAaGwkyW3AOsFRiQBGwWcvwAZ5jQCE6x/aTsuEnQBobCbBZy/ABnmNAES5YJtNT52RAITrH9pOy4SdAGhsJLlgm01PnZEARrFaBtaUwZkAhOsf2k7LhJ0AaGwmsVoG1pTBmQBErVdyX93lnQCGqQbsLrc+TQBobCStV3Jf3eWdAEalTN3pJw2hAIcNzY1ZQabFAGhsJqVM3eknDaEARKFKSXJsMakAh7ls+wcOfmEAaGwkoUpJcmwxqQBGmUO0+7VVrQCFNEvONktTBQBobCaZQ7T7tVWtAESRPSCE/n2xAIVVm9RZ4hLNAQqQCGhsJarx0kxiEX0ARGlwpuiQdYEAhAAAAAAC0sEAaGwkaXCm6JB1gQBGxH708eFxgQCEAAAAAAHKwQBobCbEfvTx4XGBAERqdmJrpoGBAIQAAAAAAjrBAGhsJGp2YmumgYEARb7/Xa1UlYUAhAAAAAAB+sEAaGwlvv9drVSVhQBGzA1NyM8pmQCEAAAAAAGSwQBobCbMDU3IzymZAEUULdf1ndGhAIQAAAAAAerBAGhsJRQt1/Wd0aEAREuT7PQxXakAhAAAAAACMsEAaGwkS5Ps9DFdqQBHbBTneU9VqQCEAAAAAAHmwQBobCdsFOd5T1WpAET5A9+VMcWtAIQAAAAAAgLBAGhsJPkD35Uxxa0ARJE9IIT+fbEAhAAAAAACCsEAgAUIFCgNDUEkaywcQARq2Bwq6AgiXygIQRRgBIAEtAACAPzKkAhobCQAAAAAAAPA/EQAAAAAAAPA/Ic3MzMxMgrBAGhsJAAAAAAAA8D8RAAAAAAAA8D8hzczMzEyCsEAaGwkAAAAAAADwPxEAAAAAAADwPyHNzMzMTIKwQBobCQAAAAAAAPA/EQAAAAAAAPA/Ic3MzMxMgrBAGhsJAAAAAAAA8D8RAAAAAAAA8D8hzczMzEyCsEAaGwkAAAAAAADwPxEAAAAAAADwPyHNzMzMTIKwQBobCQAAAAAAAPA/EQAAAAAAAPA/Ic3MzMxMgrBAGhsJAAAAAAAA8D8RAAAAAAAA8D8hzczMzEyCsEAaGwkAAAAAAADwPxEAAAAAAADwPyHNzMzMTIKwQBobCQAAAAAAAPA/EQAAAAAAAPA/Ic3MzMxMgrBAIAFAl8oCESVut7mV1R9AGes0jDCA6P0/KUa28/3UeA1AMRBYObTIdh9AOcdLN4lBoCxAQqICGhsJRrbz/dR4DUARlIeFWtP8EkAhlnsaYbmwlEAaGwmUh4Va0/wSQBEGNBE2PD0XQCEa+wAz3G6hQBobCQY0ETY8PRdAEXfgnBGlfRtAIcBNMWr4cLpAGhsJd+CcEaV9G0AR6Iwo7Q2+H0AhSjFq+NNrx0AaGwnojCjtDb4fQBGsHFpkO/8hQCGHPCXIay3JQBobCawcWmQ7/yFAEebyH9JvHyRAIdbb2gDRmKhAGhsJ5vIf0m8fJEARHsnlP6Q/JkAhSWou/cJ1l0AaGwkeyeU/pD8mQBFWn6ut2F8oQCFDyoJOWIF+QBobCVafq63YXyhAEZB1cRsNgCpAIWWpA37tvnFAGhsJkHVxGw2AKkARx0s3iUGgLEAh6SmdGTiImUBCpAIaGwlGtvP91HgNQBFcj8L1KNwXQCEAAAAAAIWwQBobCVyPwvUo3BdAEd0kBoGVQxpAIQAAAAAAlrBAGhsJ3SQGgZVDGkARke18PzVeHEAhAAAAAACcsEAaGwmR7Xw/NV4cQBFQjZduEgMeQCEAAAAAAGqwQBobCVCNl24SAx5AERBYObTIdh9AIQAAAAAAeLFAGhsJEFg5tMh2H0AR+n5qvHRTIEAhAAAAAADmr0AaGwn6fmq8dFMgQBEhsHJoke0gQCEAAAAAAMSwQBobCSGwcmiR7SBAEYlBYOXQoiFAIQAAAAAA8q9AGhsJiUFg5dCiIUARbxKDwMqhI0AhAAAAAABqsEAaGwlvEoPAyqEjQBHHSzeJQaAsQCEAAAAAAGSwQCABQg4KDFVuZW1wbG95bWVudAqZlgEKDVRSQUlOX0RBVEFTRVQQ5NUUGsAHGrQHCrgCCOTVFBgBIAEtAACAPzKkAhobCQAAAAAAAPA/EQAAAAAAAPA/IQAAAABAieBAGhsJAAAAAAAA8D8RAAAAAAAA8D8hAAAAAECJ4EAaGwkAAAAAAADwPxEAAAAAAADwPyEAAAAAQIngQBobCQAAAAAAAPA/EQAAAAAAAPA/IQAAAABAieBAGhsJAAAAAAAA8D8RAAAAAAAA8D8hAAAAAECJ4EAaGwkAAAAAAADwPxEAAAAAAADwPyEAAAAAQIngQBobCQAAAAAAAPA/EQAAAAAAAPA/IQAAAABAieBAGhsJAAAAAAAA8D8RAAAAAAAA8D8hAAAAAECJ4EAaGwkAAAAAAADwPxEAAAAAAADwPyEAAAAAQIngQBobCQAAAAAAAPA/EQAAAAAAAPA/IQAAAABAieBAIAFA5NUUEY2sxga3NTZAGevk+OjzkylAKQAAAAAAAPA/MQAAAAAAADZAOQAAAAAAgEZAQqICGhsJAAAAAAAA8D8RmpmZmZmZFUAhKDMzM0s340AaGwmamZmZmZkVQBGamZmZmZkjQCGYbhKD0HveQBobCZqZmZmZmSNAEWdmZmZmZixAIYOVQ4vMsONAGhsJZ2ZmZmZmLEARmpmZmZmZMkAhc2ZmZobE3kAaGwmamZmZmZkyQBEAAAAAAAA3QCHHzMzMPF/jQBobCQAAAAAAADdAEWdmZmZmZjtAId+b3vRmt99AGhsJZ2ZmZmZmO0ARzszMzMzMP0Ah4A7MtQMI3UAaGwnOzMzMzMw/QBGamZmZmRlCQCF8fX19vaXgQBobCZqZmZmZGUJAEc3MzMzMTERAIevz8/MTGdtAGhsJzczMzMxMREARAAAAAACARkAhaWZmZgbG30BCpAIaGwkAAAAAAADwPxEAAAAAAAAUQCEAAAAAQCbjQBobCQAAAAAAABRAEQAAAAAAACJAIQAAAADAW95AGhsJAAAAAAAAIkARAAAAAAAAKkAhAAAAAADM30AaGwkAAAAAAAAqQBEAAAAAAAAyQCEAAAAAoDTjQBobCQAAAAAAADJAEQAAAAAAADZAIQAAAAAAFt9AGhsJAAAAAAAANkARAAAAAAAAOkAhAAAAAEBm30AaGwkAAAAAAAA6QBEAAAAAAAA/QCEAAAAAIHjiQBobCQAAAAAAAD9AEQAAAAAAgEFAIQAAAADAmtxAGhsJAAAAAACAQUARAAAAAAAAREAhAAAAAEDb30AaGwkAAAAAAABEQBEAAAAAAIBGQCEAAAAAAPnfQCABQgcKBVN0b3JlGsQHEAEatwcKuwIIhcsUEN8KGAEgAS0AAIA/MqQCGhsJAAAAAAAA8D8RAAAAAAAA8D8hAAAAABB44EAaGwkAAAAAAADwPxEAAAAAAADwPyEAAAAAEHjgQBobCQAAAAAAAPA/EQAAAAAAAPA/IQAAAAAQeOBAGhsJAAAAAAAA8D8RAAAAAAAA8D8hAAAAABB44EAaGwkAAAAAAADwPxEAAAAAAADwPyEAAAAAEHjgQBobCQAAAAAAAPA/EQAAAAAAAPA/IQAAAAAQeOBAGhsJAAAAAAAA8D8RAAAAAAAA8D8hAAAAABB44EAaGwkAAAAAAADwPxEAAAAAAADwPyEAAAAAEHjgQBobCQAAAAAAAPA/EQAAAAAAAPA/IQAAAAAQeOBAGhsJAAAAAAAA8D8RAAAAAAAA8D8hAAAAABB44EAgAUCFyxQRc/IlJP4cRkAZadosZyB7PkApAAAAAAAA8D8xAAAAAACAQkA5AAAAAADAWEBCogIaGwkAAAAAAADwPxGamZmZmZklQCHmF0t+UQzpQBobCZqZmZmZmSVAEZqZmZmZmTRAIYZOG+gs+ORAGhsJmpmZmZmZNEARZ2ZmZmZmPkAhdzqog6J95kAaGwlnZmZmZmY+QBGamZmZmRlEQCHXbu3WLhXjQBobCZqZmZmZGURAEQAAAAAAAElAIYHgB37ghtpAGhsJAAAAAAAASUARZ2ZmZmbmTUAh20qt1Mor20AaGwlnZmZmZuZNQBFnZmZmZmZRQCFWaqVWwifDQBobCWdmZmZmZlFAEZqZmZmZ2VNAIaiDOqgXGNNAGhsJmpmZmZnZU0ARzczMzMxMVkAh/GDdoroL3UAaGwnNzMzMzExWQBEAAAAAAMBYQCGjDXTaIGTlQEKkAhobCQAAAAAAAPA/EQAAAAAAABxAIQAAAADgXuFAGhsJAAAAAAAAHEARAAAAAAAALEAhAAAAAKCT4UAaGwkAAAAAAAAsQBEAAAAAAAA2QCEAAAAAwFXfQBobCQAAAAAAADZAEQAAAAAAAD1AIQAAAAAAgd9AGhsJAAAAAAAAPUARAAAAAACAQkAhAAAAAOAi4EAaGwkAAAAAAIBCQBEAAAAAAIBIQCEAAAAAIMDhQBobCQAAAAAAgEhAEQAAAAAAAE5AIQAAAADAR+BAGhsJAAAAAAAATkARAAAAAABAVEAhAAAAAIAB4UAaGwkAAAAAAEBUQBEAAAAAAABXQCEAAAAAoCXhQBobCQAAAAAAAFdAEQAAAAAAwFhAIQAAAADAAdxAIAFCBgoERGVwdBq5LRACIqwtCrgCCOTVFBgBIAEtAACAPzKkAhobCQAAAAAAAPA/EQAAAAAAAPA/IQAAAABAieBAGhsJAAAAAAAA8D8RAAAAAAAA8D8hAAAAAECJ4EAaGwkAAAAAAADwPxEAAAAAAADwPyEAAAAAQIngQBobCQAAAAAAAPA/EQAAAAAAAPA/IQAAAABAieBAGhsJAAAAAAAA8D8RAAAAAAAA8D8hAAAAAECJ4EAaGwkAAAAAAADwPxEAAAAAAADwPyEAAAAAQIngQBobCQAAAAAAAPA/EQAAAAAAAPA/IQAAAABAieBAGhsJAAAAAAAA8D8RAAAAAAAA8D8hAAAAAECJ4EAaGwkAAAAAAADwPxEAAAAAAADwPyEAAAAAQIngQBobCQAAAAAAAPA/EQAAAAAAAPA/IQAAAABAieBAIAFA5NUUELYBGhUSCjIwMTItMDItMTcZAAAAAAA4o0AaFRIKMjAxMS0xMi0yMxkAAAAAAAKjQBoVEgoyMDExLTEyLTMwGQAAAAAA9KJAGhUSCjIwMTEtMTItMDkZAAAAAADkokAaFRIKMjAxMS0xMS0yNRkAAAAAANSiQBoVEgoyMDEyLTA5LTI4GQAAAAAA0qJAGhUSCjIwMTEtMDktMTYZAAAAAADOokAaFRIKMjAxMC0xMi0xMBkAAAAAAM6iQBoVEgoyMDEyLTEwLTI2GQAAAAAAzKJAGhUSCjIwMTItMDItMTAZAAAAAADGokAaFRIKMjAxMC0wNC0xNhkAAAAAAMKiQBoVEgoyMDEyLTAzLTAyGQAAAAAAvqJAGhUSCjIwMTEtMTItMTYZAAAAAAC+okAaFRIKMjAxMC0wMi0xORkAAAAAALyiQBoVEgoyMDExLTEwLTI4GQAAAAAAuqJAGhUSCjIwMTAtMDItMjYZAAAAAAC2okAaFRIKMjAxMi0wMy0zMBkAAAAAALSiQBoVEgoyMDExLTA5LTMwGQAAAAAAtKJAGhUSCjIwMTItMDYtMDgZAAAAAACwokAaFRIKMjAxMS0wOS0yMxkAAAAAALCiQCUAACBBKponChUiCjIwMTItMDItMTcpAAAAAAA4o0AKGQgBEAEiCjIwMTEtMTItMjMpAAAAAAACo0AKGQgCEAIiCjIwMTEtMTItMzApAAAAAAD0okAKGQgDEAMiCjIwMTEtMTItMDkpAAAAAADkokAKGQgEEAQiCjIwMTEtMTEtMjUpAAAAAADUokAKGQgFEAUiCjIwMTItMDktMjgpAAAAAADSokAKGQgGEAYiCjIwMTEtMDktMTYpAAAAAADOokAKGQgHEAciCjIwMTAtMTItMTApAAAAAADOokAKGQgIEAgiCjIwMTItMTAtMjYpAAAAAADMokAKGQgJEAkiCjIwMTItMDItMTApAAAAAADGokAKGQgKEAoiCjIwMTAtMDQtMTYpAAAAAADCokAKGQgLEAsiCjIwMTItMDMtMDIpAAAAAAC+okAKGQgMEAwiCjIwMTEtMTItMTYpAAAAAAC+okAKGQgNEA0iCjIwMTAtMDItMTkpAAAAAAC8okAKGQgOEA4iCjIwMTEtMTAtMjgpAAAAAAC6okAKGQgPEA8iCjIwMTAtMDItMjYpAAAAAAC2okAKGQgQEBAiCjIwMTItMDMtMzApAAAAAAC0okAKGQgREBEiCjIwMTEtMDktMzApAAAAAAC0okAKGQgSEBIiCjIwMTItMDYtMDgpAAAAAACwokAKGQgTEBMiCjIwMTEtMDktMjMpAAAAAACwokAKGQgUEBQiCjIwMTEtMDQtMjIpAAAAAACsokAKGQgVEBUiCjIwMTAtMTItMTcpAAAAAACqokAKGQgWEBYiCjIwMTEtMDItMjUpAAAAAACookAKGQgXEBciCjIwMTItMDQtMjApAAAAAACkokAKGQgYEBgiCjIwMTItMDItMjQpAAAAAACkokAKGQgZEBkiCjIwMTItMDQtMTMpAAAAAACiokAKGQgaEBoiCjIwMTItMDctMDYpAAAAAACgokAKGQgbEBsiCjIwMTEtMDEtMDcpAAAAAACgokAKGQgcEBwiCjIwMTAtMTItMjQpAAAAAACgokAKGQgdEB0iCjIwMTEtMDQtMDEpAAAAAACcokAKGQgeEB4iCjIwMTEtMDUtMDYpAAAAAACaokAKGQgfEB8iCjIwMTItMDctMjApAAAAAACYokAKGQggECAiCjIwMTItMTAtMTIpAAAAAACSokAKGQghECEiCjIwMTItMDktMTQpAAAAAACSokAKGQgiECIiCjIwMTItMDMtMDkpAAAAAACSokAKGQgjECMiCjIwMTEtMDYtMjQpAAAAAACSokAKGQgkECQiCjIwMTEtMDEtMjEpAAAAAACSokAKGQglECUiCjIwMTAtMDYtMTgpAAAAAACSokAKGQgmECYiCjIwMTItMDMtMjMpAAAAAACQokAKGQgnECciCjIwMTItMDEtMTMpAAAAAACQokAKGQgoECgiCjIwMTItMDgtMzEpAAAAAACMokAKGQgpECkiCjIwMTEtMTEtMTEpAAAAAACIokAKGQgqECoiCjIwMTItMTAtMDUpAAAAAACGokAKGQgrECsiCjIwMTItMDMtMTYpAAAAAACGokAKGQgsECwiCjIwMTAtMDItMTIpAAAAAACEokAKGQgtEC0iCjIwMTAtMDUtMDcpAAAAAACCokAKGQguEC4iCjIwMTEtMDctMTUpAAAAAACAokAKGQgvEC8iCjIwMTAtMTAtMjIpAAAAAACAokAKGQgwEDAiCjIwMTEtMDQtMjkpAAAAAAB+okAKGQgxEDEiCjIwMTEtMDMtMTEpAAAAAAB+okAKGQgyEDIiCjIwMTAtMTAtMjkpAAAAAAB+okAKGQgzEDMiCjIwMTItMDYtMjIpAAAAAAB8okAKGQg0EDQiCjIwMTEtMTEtMTgpAAAAAAB8okAKGQg1EDUiCjIwMTItMDYtMTUpAAAAAAB6okAKGQg2EDYiCjIwMTItMDQtMjcpAAAAAAB6okAKGQg3EDciCjIwMTItMDEtMjApAAAAAAB6okAKGQg4EDgiCjIwMTEtMDktMDkpAAAAAAB6okAKGQg5EDkiCjIwMTEtMDItMTgpAAAAAAB6okAKGQg6EDoiCjIwMTAtMTEtMjYpAAAAAAB6okAKGQg7EDsiCjIwMTAtMDktMTcpAAAAAAB6okAKGQg8EDwiCjIwMTItMDgtMDMpAAAAAAB4okAKGQg9ED0iCjIwMTItMDYtMDEpAAAAAAB4okAKGQg+ED4iCjIwMTEtMTItMDIpAAAAAAB4okAKGQg/ED8iCjIwMTEtMDgtMDUpAAAAAAB4okAKGQhAEEAiCjIwMTAtMTAtMDEpAAAAAAB4okAKGQhBEEEiCjIwMTEtMDgtMjYpAAAAAAB2okAKGQhCEEIiCjIwMTItMDItMDMpAAAAAAB0okAKGQhDEEMiCjIwMTAtMDQtMDIpAAAAAAB0okAKGQhEEEQiCjIwMTEtMDEtMTQpAAAAAAByokAKGQhFEEUiCjIwMTItMDctMTMpAAAAAABuokAKGQhGEEYiCjIwMTEtMDYtMTcpAAAAAABuokAKGQhHEEciCjIwMTItMDgtMTApAAAAAABsokAKGQhIEEgiCjIwMTEtMTAtMTQpAAAAAABsokAKGQhJEEkiCjIwMTAtMDMtMDUpAAAAAABqokAKGQhKEEoiCjIwMTAtMTEtMDUpAAAAAABookAKGQhLEEsiCjIwMTEtMDctMjIpAAAAAABmokAKGQhMEEwiCjIwMTEtMDEtMjgpAAAAAABmokAKGQhNEE0iCjIwMTItMDUtMjUpAAAAAABkokAKGQhOEE4iCjIwMTItMDUtMTEpAAAAAABkokAKGQhPEE8iCjIwMTItMDEtMDYpAAAAAABkokAKGQhQEFAiCjIwMTAtMTItMDMpAAAAAABkokAKGQhREFEiCjIwMTItMDUtMTgpAAAAAABiokAKGQhSEFIiCjIwMTAtMDktMDMpAAAAAABiokAKGQhTEFMiCjIwMTAtMDUtMTQpAAAAAABiokAKGQhUEFQiCjIwMTAtMDMtMjYpAAAAAABiokAKGQhVEFUiCjIwMTAtMDItMDUpAAAAAABiokAKGQhWEFYiCjIwMTEtMDItMTEpAAAAAABgokAKGQhXEFciCjIwMTAtMTEtMTkpAAAAAABgokAKGQhYEFgiCjIwMTItMDktMDcpAAAAAABcokAKGQhZEFkiCjIwMTItMDgtMTcpAAAAAABaokAKGQhaEFoiCjIwMTEtMDUtMjcpAAAAAABaokAKGQhbEFsiCjIwMTEtMDUtMTMpAAAAAABYokAKGQhcEFwiCjIwMTEtMDgtMTIpAAAAAABWokAKGQhdEF0iCjIwMTEtMDYtMTApAAAAAABWokAKGQheEF4iCjIwMTEtMDItMDQpAAAAAABWokAKGQhfEF8iCjIwMTAtMDktMjQpAAAAAABWokAKGQhgEGAiCjIwMTItMDQtMDYpAAAAAABUokAKGQhhEGEiCjIwMTEtMDMtMjUpAAAAAABSokAKGQhiEGIiCjIwMTAtMDQtMDkpAAAAAABSokAKGQhjEGMiCjIwMTEtMTAtMDcpAAAAAABOokAKGQhkEGQiCjIwMTAtMTAtMTUpAAAAAABMokAKGQhlEGUiCjIwMTItMDgtMjQpAAAAAABKokAKGQhmEGYiCjIwMTAtMDgtMjcpAAAAAABKokAKGQhnEGciCjIwMTItMDUtMDQpAAAAAABGokAKGQhoEGgiCjIwMTAtMDMtMTkpAAAAAABGokAKGQhpEGkiCjIwMTItMTAtMTkpAAAAAABEokAKGQhqEGoiCjIwMTItMDctMjcpAAAAAABEokAKGQhrEGsiCjIwMTEtMDQtMTUpAAAAAABEokAKGQhsEGwiCjIwMTEtMDMtMTgpAAAAAABEokAKGQhtEG0iCjIwMTItMDktMjEpAAAAAABCokAKGQhuEG4iCjIwMTEtMDktMDIpAAAAAABCokAKGQhvEG8iCjIwMTAtMDYtMjUpAAAAAABCokAKGQhwEHAiCjIwMTEtMTAtMjEpAAAAAABAokAKGQhxEHEiCjIwMTAtMTEtMTIpAAAAAABAokAKGQhyEHIiCjIwMTAtMDgtMDYpAAAAAABAokAKGQhzEHMiCjIwMTItMDEtMjcpAAAAAAA+okAKGQh0EHQiCjIwMTEtMDctMjkpAAAAAAA+okAKGQh1EHUiCjIwMTEtMDctMDEpAAAAAAA8okAKGQh2EHYiCjIwMTAtMDktMTApAAAAAAA8okAKGQh3EHciCjIwMTAtMDQtMzApAAAAAAA8okAKGQh4EHgiCjIwMTAtMDUtMjEpAAAAAAA2okAKGQh5EHkiCjIwMTEtMDMtMDQpAAAAAAA0okAKGQh6EHoiCjIwMTEtMTEtMDQpAAAAAAAyokAKGQh7EHsiCjIwMTEtMDUtMjApAAAAAAAyokAKGQh8EHwiCjIwMTAtMDMtMTIpAAAAAAAwokAKGQh9EH0iCjIwMTAtMDctMzApAAAAAAAuokAKGQh+EH4iCjIwMTAtMDctMDIpAAAAAAAsokAKGQh/EH8iCjIwMTAtMDUtMjgpAAAAAAAsokAKGwiAARCAASIKMjAxMC0wNC0yMykAAAAAACaiQAobCIEBEIEBIgoyMDEyLTA2LTI5KQAAAAAAJKJAChsIggEQggEiCjIwMTAtMDgtMTMpAAAAAAAgokAKGwiDARCDASIKMjAxMS0wNi0wMykAAAAAAB6iQAobCIQBEIQBIgoyMDExLTA3LTA4KQAAAAAAGqJAChsIhQEQhQEiCjIwMTAtMDctMjMpAAAAAAAaokAKGwiGARCGASIKMjAxMC0wNi0wNCkAAAAAABqiQAobCIcBEIcBIgoyMDExLTA4LTE5KQAAAAAAFqJAChsIiAEQiAEiCjIwMTAtMTAtMDgpAAAAAAAUokAKGwiJARCJASIKMjAxMS0wNC0wOCkAAAAAAAiiQAobCIoBEIoBIgoyMDEwLTEyLTMxKQAAAAAAAqJAChsIiwEQiwEiCjIwMTAtMDYtMTEpAAAAAADwoUAKGwiMARCMASIKMjAxMC0wOC0yMCkAAAAAANqhQAobCI0BEI0BIgoyMDEwLTA3LTA5KQAAAAAA1qFAChsIjgEQjgEiCjIwMTAtMDctMTYpAAAAAADIoUAKGwiPARCPASIKMjAxMy0wMS0yNSkAAAAAAIBEQAobCJABEJABIgoyMDEyLTEyLTA3KQAAAAAAgENAChsIkQEQkQEiCjIwMTItMTEtMDkpAAAAAACAQ0AKGwiSARCSASIKMjAxMy0wNy0xMikAAAAAAABDQAobCJMBEJMBIgoyMDEzLTA0LTI2KQAAAAAAAENAChsIlAEQlAEiCjIwMTMtMDEtMTgpAAAAAAAAQ0AKGwiVARCVASIKMjAxMi0xMS0xNikAAAAAAABDQAobCJYBEJYBIgoyMDEzLTA3LTA1KQAAAAAAgEJAChsIlwEQlwEiCjIwMTMtMDUtMzEpAAAAAACAQkAKGwiYARCYASIKMjAxMy0wMi0wOCkAAAAAAIBCQAobCJkBEJkBIgoyMDEyLTEyLTI4KQAAAAAAgEJAChsImgEQmgEiCjIwMTItMTEtMjMpAAAAAACAQkAKGwibARCbASIKMjAxMy0wNi0xNCkAAAAAAABCQAobCJwBEJwBIgoyMDEzLTA0LTEyKQAAAAAAAEJAChsInQEQnQEiCjIwMTMtMDQtMDUpAAAAAAAAQkAKGwieARCeASIKMjAxMy0wMy0yMikAAAAAAABCQAobCJ8BEJ8BIgoyMDEzLTAzLTE1KQAAAAAAAEJAChsIoAEQoAEiCjIwMTMtMDItMjIpAAAAAAAAQkAKGwihARChASIKMjAxMy0wMS0wNCkAAAAAAABCQAobCKIBEKIBIgoyMDEzLTA1LTI0KQAAAAAAgEFAChsIowEQowEiCjIwMTMtMDUtMTcpAAAAAACAQUAKGwikARCkASIKMjAxMy0wNS0wMykAAAAAAIBBQAobCKUBEKUBIgoyMDEzLTAyLTE1KQAAAAAAgEFAChsIpgEQpgEiCjIwMTItMTItMjEpAAAAAACAQUAKGwinARCnASIKMjAxMy0wNy0yNikAAAAAAABBQAobCKgBEKgBIgoyMDEzLTA2LTA3KQAAAAAAAEFAChsIqQEQqQEiCjIwMTMtMDUtMTApAAAAAAAAQUAKGwiqARCqASIKMjAxMy0wNC0xOSkAAAAAAABBQAobCKsBEKsBIgoyMDEzLTAzLTA4KQAAAAAAAEFAChsIrAEQrAEiCjIwMTMtMDMtMDEpAAAAAAAAQUAKGwitARCtASIKMjAxMy0wMS0xMSkAAAAAAABBQAobCK4BEK4BIgoyMDEzLTA3LTE5KQAAAAAAgEBAChsIrwEQrwEiCjIwMTMtMDMtMjkpAAAAAACAQEAKGwiwARCwASIKMjAxMi0xMi0xNCkAAAAAAIBAQAobCLEBELEBIgoyMDEzLTAyLTAxKQAAAAAAAEBAChsIsgEQsgEiCjIwMTItMTEtMzApAAAAAAAAQEAKGwizARCzASIKMjAxMy0wNi0yOCkAAAAAAAA/QAobCLQBELQBIgoyMDEzLTA2LTIxKQAAAAAAAD5AChsItQEQtQEiCjIwMTItMTEtMDIpAAAAAAAAPkBCBgoERGF0ZRrOBxABGrkHCrsCCIXLFBDfChgBIAEtAACAPzKkAhobCQAAAAAAAPA/EQAAAAAAAPA/IQAAAAAQeOBAGhsJAAAAAAAA8D8RAAAAAAAA8D8hAAAAABB44EAaGwkAAAAAAADwPxEAAAAAAADwPyEAAAAAEHjgQBobCQAAAAAAAPA/EQAAAAAAAPA/IQAAAAAQeOBAGhsJAAAAAAAA8D8RAAAAAAAA8D8hAAAAABB44EAaGwkAAAAAAADwPxEAAAAAAADwPyEAAAAAEHjgQBobCQAAAAAAAPA/EQAAAAAAAPA/IQAAAAAQeOBAGhsJAAAAAAAA8D8RAAAAAAAA8D8hAAAAABB44EAaGwkAAAAAAADwPxEAAAAAAADwPyEAAAAAEHjgQBobCQAAAAAAAPA/EQAAAAAAAPA/IQAAAAAQeOBAIAFAhcsUEcWVUVrMOc9AGeaowqesJ9ZAID0pAAAAAACorsAxmpmZmRm8vUA5w/UoXFTUI0FCogIaGwkAAAAAAKiuwBE4iUFgrQDuQCFc22QH2pETQRobCTiJQWCtAO5AETiJQWDt9f5AIbtVWBb6/cxAGhsJOIlBYO31/kAR6iYxCMJ1B0EhWPw75qxOmEAaGwnqJjEIwnUHQRE4iUFgjXAPQSFQB4l3ezRCQBobCTiJQWCNcA9BEcP1KFystRNBIVAHiXd7NEJAGhsJw/UoXKy1E0ER6iYxCBKzF0EhUAeJd3s0QkAaGwnqJjEIErMXQRERWDm0d7AbQSFQB4l3ezRCQBobCRFYObR3sBtBETiJQWDdrR9BIVAHiXd7NEJAGhsJOIlBYN2tH0ERMN0khqHVIUEhVQeJd3s0QkAaGwkw3SSGodUhQRHD9ShcVNQjQSFMB4l3ezRCQEKkAhobCQAAAAAAqK7AEQAAAAAAUHJAIQAAAADggOBAGhsJAAAAAABQckARrkfhehT4lEAhAAAAAOB14EAaGwmuR+F6FPiUQBFxPQrXo8imQCEAAAAAgHXgQBobCXE9CtejyKZAEaRwPQrXF7NAIQAAAADgd+BAGhsJpHA9CtcXs0ARmpmZmRm8vUAhAAAAAGB84EAaGwmamZmZGby9QBEpXI/CNQXGQCEAAAAAIHXgQBobCSlcj8I1BcZAEcP1KFzvOdBAIQAAAAAgduBAGhsJw/UoXO850EARUrgehbub2EAhAAAAAGB74EAaGwlSuB6Fu5vYQBHhehSuZ/XkQCEAAAAAYHfgQBobCeF6FK5n9eRAEcP1KFxU1CNBIQAAAAAgcuBAIAFCDgoMV2Vla2x5X1NhbGVzGoYGGvQFCrsCCIXLFBDfChgBIAEtAACAPzKkAhobCQAAAAAAAPA/EQAAAAAAAPA/IQAAAAAQeOBAGhsJAAAAAAAA8D8RAAAAAAAA8D8hAAAAABB44EAaGwkAAAAAAADwPxEAAAAAAADwPyEAAAAAEHjgQBobCQAAAAAAAPA/EQAAAAAAAPA/IQAAAAAQeOBAGhsJAAAAAAAA8D8RAAAAAAAA8D8hAAAAABB44EAaGwkAAAAAAADwPxEAAAAAAADwPyEAAAAAEHjgQBobCQAAAAAAAPA/EQAAAAAAAPA/IQAAAAAQeOBAGhsJAAAAAAAA8D8RAAAAAAAA8D8hAAAAABB44EAaGwkAAAAAAADwPxEAAAAAAADwPyEAAAAAEHjgQBobCQAAAAAAAPA/EQAAAAAAAPA/IQAAAAAQeOBAIAFAhcsUEULLSYsh+bE/Ga1Vl94OWtA/IIWSEzkAAAAAAADwP0KZAhoSEZqZmZmZmbk/IYs5kGiZJBNBGhsJmpmZmZmZuT8RmpmZmZmZyT8hoxU2BxKtQEAaGwmamZmZmZnJPxE0MzMzMzPTPyGkFTYHEq1AQBobCTQzMzMzM9M/EZqZmZmZmdk/IaEVNgcSrUBAGhsJmpmZmZmZ2T8RAAAAAAAA4D8hoRU2BxKtQEAaGwkAAAAAAADgPxE0MzMzMzPjPyGnFTYHEq1AQBobCTQzMzMzM+M/EWdmZmZmZuY/IaEVNgcSrUBAGhsJZ2ZmZmZm5j8RmpmZmZmZ6T8hoRU2BxKtQEAaGwmamZmZmZnpPxHNzMzMzMzsPyGhFTYHEq1AQBobCc3MzMzMzOw/EQAAAAAAAPA/IZiM3y711NZAQnkaCSEAAAAAoAPhQBoJIQAAAACgA+FAGgkhAAAAAKAD4UAaCSEAAAAAoAPhQBoJIQAAAACgA+FAGgkhAAAAAKAD4UAaCSEAAAAAoAPhQBoJIQAAAACgA+FAGgkhAAAAAKAD4UAaEhEAAAAAAADwPyEAAAAAACDXQCABQg0KC0lzSG9saWRheV94GsgHEAEatAcKuAII5NUUGAEgAS0AAIA/MqQCGhsJAAAAAAAA8D8RAAAAAAAA8D8hAAAAAECJ4EAaGwkAAAAAAADwPxEAAAAAAADwPyEAAAAAQIngQBobCQAAAAAAAPA/EQAAAAAAAPA/IQAAAABAieBAGhsJAAAAAAAA8D8RAAAAAAAA8D8hAAAAAECJ4EAaGwkAAAAAAADwPxEAAAAAAADwPyEAAAAAQIngQBobCQAAAAAAAPA/EQAAAAAAAPA/IQAAAABAieBAGhsJAAAAAAAA8D8RAAAAAAAA8D8hAAAAAECJ4EAaGwkAAAAAAADwPxEAAAAAAADwPyEAAAAAQIngQBobCQAAAAAAAPA/EQAAAAAAAPA/IQAAAABAieBAGhsJAAAAAAAA8D8RAAAAAAAA8D8hAAAAAECJ4EAgAUDk1RQRSzNAU20ETkAZ465TjAp4MkApcT0K16NwGsAx4XoUrkcBT0A5zczMzMx8WUBCogIaGwlxPQrXo3AawBGVQ4ts5/sQQCFSYNKpefhsQBobCZVDi2zn+xBAEU5iEFg5NC5AITJcSQWZJJpAGhsJTmIQWDk0LkARaJHtfD/1OUAhiq/4im9lyEAaGwloke18P/U5QBHVeOkmMWhCQCGhv5PVchDdQBobCdV46SYxaEJAEfYoXI/C1UdAIQ3Xo3ABJuZAGhsJ9ihcj8LVR0ARFtnO91NDTUAh0UEd1K1F7UAaGwkW2c73U0NNQBGcxCCwclhRQCEDsak0tOnwQBobCZzEILByWFFAEawcWmQ7D1RAIVVMWsVkvfBAGhsJrBxaZDsPVEARvHSTGATGVkAhabLJJqst5kAaGwm8dJMYBMZWQBHNzMzMzHxZQCGViIiICCq3QEKkAhobCXE9CtejcBrAEbgehetR+EBAIQAAAAAAkOBAGhsJuB6F61H4QEARhetRuB6lRUAhAAAAAKCX4EAaGwmF61G4HqVFQBFcj8L1KPxIQCEAAAAA4HzgQBobCVyPwvUo/EhAEcP1KFyPAkxAIQAAAACgi+BAGhsJw/UoXI8CTEAR4XoUrkcBT0AhAAAAAICP4EAaGwnhehSuRwFPQBG4HoXrUdhQQCEAAAAAAHngQBobCbgehetR2FBAESlcj8L16FFAIQAAAACAouBAGhsJKVyPwvXoUUARSOF6FK5HU0AhAAAAAGBz4EAaGwlI4XoUrkdTQBGF61G4HuVUQCEAAAAAgJngQBobCYXrUbge5VRAEc3MzMzMfFlAIQAAAACAdOBAIAFCDQoLVGVtcGVyYXR1cmUaxwcQARq0Bwq4Agjk1RQYASABLQAAgD8ypAIaGwkAAAAAAADwPxEAAAAAAADwPyEAAAAAQIngQBobCQAAAAAAAPA/EQAAAAAAAPA/IQAAAABAieBAGhsJAAAAAAAA8D8RAAAAAAAA8D8hAAAAAECJ4EAaGwkAAAAAAADwPxEAAAAAAADwPyEAAAAAQIngQBobCQAAAAAAAPA/EQAAAAAAAPA/IQAAAABAieBAGhsJAAAAAAAA8D8RAAAAAAAA8D8hAAAAAECJ4EAaGwkAAAAAAADwPxEAAAAAAADwPyEAAAAAQIngQBobCQAAAAAAAPA/EQAAAAAAAPA/IQAAAABAieBAGhsJAAAAAAAA8D8RAAAAAAAA8D8hAAAAAECJ4EAaGwkAAAAAAADwPxEAAAAAAADwPyEAAAAAQIngQCABQOTVFBFesyNvSuQKQBneXHF7Dk/dPyktsp3vp8YDQDEEVg4tsp0LQDmsHFpkO98RQEKiAhobCS2yne+nxgNAEeTyH9JvXwVAITIzMzNzCtVAGhsJ5PIf0m9fBUARnDOitDf4BkAhZGZmZsYw6kAaGwmcM6K0N/gGQBFUdCSX/5AIQCER6qAOSifiQBobCVR0JJf/kAhAEQu1pnnHKQpAIVejNVrjaNxAGhsJC7WmeccpCkARwvUoXI/CC0Ahc4iIiEi43UAaGwnC9Shcj8ILQBF6Nqs+V1sNQCHVzMzM/PruQBobCXo2qz5XWw1AETJ3LSEf9A5AIZ6ZmZlp7upAGhsJMnctIR/0DkAR9NvXgXNGEEAhTnzFV7xU4UAaGwn029eBc0YQQBFQ/Bhz1xIRQCFJR98c/bbEQBobCVD8GHPXEhFAEawcWmQ73xFAITu3xKnfK6BAQqQCGhsJLbKd76fGA0ARYhBYObTIBUAhAAAAAMCe4EAaGwliEFg5tMgFQBHufD81XroGQCEAAAAAwIngQBobCe58PzVeugZAEVTjpZvEIAhAIQAAAACgfeBAGhsJVOOlm8QgCEARF9nO91PjCUAhAAAAAKCp4EAaGwkX2c73U+MJQBEEVg4tsp0LQCEAAAAAwHvgQBobCQRWDi2ynQtAEcUgsHJokQxAIQAAAAAApuBAGhsJxSCwcmiRDEAREFg5tMh2DUAhAAAAAKCT4EAaGwkQWDm0yHYNQBGR7Xw/NV4OQCEAAAAAYGngQBobCZHtfD81Xg5AEbx0kxgEVg9AIQAAAADAp+BAGhsJvHSTGARWD0ARrBxaZDvfEUAhAAAAAEBG4EAgAUIMCgpGdWVsX1ByaWNlGsoHEAEauAcKvAII0rcHEJKeDRgBIAEtAACAPzKkAhobCQAAAAAAAPA/EQAAAAAAAPA/IQAAAACAysdAGhsJAAAAAAAA8D8RAAAAAAAA8D8hAAAAAIDKx0AaGwkAAAAAAADwPxEAAAAAAADwPyEAAAAAgMrHQBobCQAAAAAAAPA/EQAAAAAAAPA/IQAAAACAysdAGhsJAAAAAAAA8D8RAAAAAAAA8D8hAAAAAIDKx0AaGwkAAAAAAADwPxEAAAAAAADwPyEAAAAAgMrHQBobCQAAAAAAAPA/EQAAAAAAAPA/IQAAAACAysdAGhsJAAAAAAAA8D8RAAAAAAAA8D8hAAAAAIDKx0AaGwkAAAAAAADwPxEAAAAAAADwPyEAAAAAgMrHQBobCQAAAAAAAPA/EQAAAAAAAPA/IQAAAACAysdAIAFA0rcHETLxhhWaUrxAGaSzpxomMsBAKUjhehSuIYjAMTMzMzNz47RAOeF6FK4PMflAQqICGhsJSOF6FK4hiMAR1njpJsHLwkAhPtZr7X7X9kAaGwnWeOkmwcvCQBHgT42XzozTQCERfITZxCDUQBobCeBPjZfOjNNAEVXjpZu8s91AIXGikvA7KrJAGhsJVeOlm7yz3UARZTvfT1Xt40AhrkBRN56omkAaGwllO99PVe3jQBEfhetRzADpQCEGxI+DXP2CQBobCR+F61HMAOlAEdrO91NDFO5AIW04bDnP7HdAGhsJ2s73U0MU7kARSgwCK92T8UAhANjMLjqyYkAaGwlKDAIr3ZPxQBEnMQismB30QCEMOVLyHMBNQBobCScxCKyYHfRAEQRWDi1Up/ZAIZODfFntw0RAGhsJBFYOLVSn9kAR4XoUrg8x+UAhk4N8We3DREBCpAIaGwlI4XoUriGIwBFxPQrXo5R3QCEAAAAAAMvHQBobCXE9CtejlHdAEaRwPQrX0pdAIQAAAACA2cdAGhsJpHA9CtfSl0ARmpmZmRnypUAhAAAAAADQx0AaGwmamZmZGfKlQBEzMzMzs4SvQCEAAAAAgM7HQBobCTMzMzOzhK9AETMzMzNz47RAIQAAAAAAxsdAGhsJMzMzM3PjtEARFK5H4brkuUAhAAAAAADGx0AaGwkUrkfhuuS5QBE9Ctej8ETAQCEAAAAAgMrHQBobCT0K16PwRMBAEUjhehROnsRAIQAAAAAA1MdAGhsJSOF6FE6exEAR7FG4HoXLzUAhAAAAAIC1x0AaGwnsUbgehcvNQBHhehSuDzH5QCEAAAAAAMbHQCABQgsKCU1hcmtEb3duMRrNBxABGrsHCrwCCIbABRDelQ8YASABLQAAgD8ypAIaGwkAAAAAAADwPxEAAAAAAADwPyFmZmZm5pnBQBobCQAAAAAAAPA/EQAAAAAAAPA/IWZmZmbmmcFAGhsJAAAAAAAA8D8RAAAAAAAA8D8hZmZmZuaZwUAaGwkAAAAAAADwPxEAAAAAAADwPyFmZmZm5pnBQBobCQAAAAAAAPA/EQAAAAAAAPA/IWZmZmbmmcFAGhsJAAAAAAAA8D8RAAAAAAAA8D8hZmZmZuaZwUAaGwkAAAAAAADwPxEAAAAAAADwPyFmZmZm5pnBQBobCQAAAAAAAPA/EQAAAAAAAPA/IWZmZmbmmcFAGhsJAAAAAAAA8D8RAAAAAAAA8D8hZmZmZuaZwUAaGwkAAAAAAADwPxEAAAAAAADwPyFmZmZm5pnBQCABQIbABRHxAh3f9DOqQBnSCxG4xY3CQCCYASlcj8L1KJxwwDE9CtejcFVoQDk9CtejeIT5QEKiAhobCVyPwvUonHDAEfUoXI9i8sNAIUDX846HFPRAGhsJ9Shcj2Lyw0ARMzMzM9M01EAh2maxax8WsUAaGwkzMzMz0zTUQBHrUbgedXDeQCEgHX9H4iSQQBobCetRuB51cN5AEVG4HoULVuRAIQaeQwrCto9AGhsJUbgehQtW5EARrUfhetxz6UAhRpcPhqjhhUAaGwmtR+F63HPpQBEJ16NwrZHuQCGd6CPqQt51QBobCQnXo3Ctke5AETMzMzO/1/FAIeTZ1pPJKE9AGhsJMzMzM7/X8UAR4XoUrqdm9EAhwIpjNTUlWkAaGwnhehSup2b0QBGPwvUokPX2QCGynBzB32teQBobCY/C9SiQ9fZAET0K16N4hPlAIRqWwuDqKVtAQqQCGhsJXI/C9SiccMAR7FG4HoXrG0AhAAAAAACbwUAaGwnsUbgehesbQBEAAAAAAAA6QCEAAAAAALjBQBobCQAAAAAAADpAEeF6FK5HwU5AIQAAAAAAfMFAGhsJ4XoUrkfBTkARexSuR+HaWkAhAAAAAACywUAaGwl7FK5H4dpaQBE9CtejcFVoQCEAAAAAAJrBQBobCT0K16NwVWhAEQAAAAAAQHdAIQAAAACAhsFAGhsJAAAAAABAd0ARexSuR+F9kEAhAAAAAACkwUAaGwl7FK5H4X2QQBF7FK5HYcOqQCEAAAAAAJLBQBobCXsUrkdhw6pAEbgehetx4sBAIQAAAACAoMFAGhsJuB6F63HiwEARPQrXo3iE+UAhAAAAAACLwUAgAUILCglNYXJrRG93bjIazAcQARq6Bwq8AgjP4QYQlfQNGAEgAS0AAIA/MqQCGhsJAAAAAAAA8D8RAAAAAAAA8D8hMzMzM/OjxUAaGwkAAAAAAADwPxEAAAAAAADwPyEzMzMz86PFQBobCQAAAAAAAPA/EQAAAAAAAPA/ITMzMzPzo8VAGhsJAAAAAAAA8D8RAAAAAAAA8D8hMzMzM/OjxUAaGwkAAAAAAADwPxEAAAAAAADwPyEzMzMz86PFQBobCQAAAAAAAPA/EQAAAAAAAPA/ITMzMzPzo8VAGhsJAAAAAAAA8D8RAAAAAAAA8D8hMzMzM/OjxUAaGwkAAAAAAADwPxEAAAAAAADwPyEzMzMz86PFQBobCQAAAAAAAPA/EQAAAAAAAPA/ITMzMzPzo8VAGhsJAAAAAAAA8D8RAAAAAAAA8D8hMzMzM/OjxUAgAUDP4QYRwWbDBdiIlkAZKXDK8lbSwkAgNim4HoXrUWhmwDFSuB6F69E4QDmuR+F6Wj8CQUKiAhobCbgehetRaGbAEQ8tsp1/4cxAIWCiIU6yf/pAGhsJDy2ynX/hzEARTTeJQVAO3UAh6gPYP8G8bEAaGwlNN4lBUA7dQBEJrBxa8NXlQCFRogxzZYR/QBobCQmsHFrw1eVAEWu8dJO4JO1AIUx5X/XR23FAGhsJa7x0k7gk7UARZ2ZmZsA58kAhXqac1YMzg0AaGwlnZmZmwDnyQBGZbhKDJOH1QCGczO/VLPR0QBobCZluEoMk4fVAEcp2vp+IiPlAIXCtyjKCDWRAGhsJyna+n4iI+UAR+35qvOwv/UAhnwBzlh/NVEAaGwn7fmq87C/9QBGWQ4tsqGsAQSH1idKu4k43QBobCZZDi2yoawBBEa5H4XpaPwJBIe6J0q7iTjdAQqQCGhsJuB6F61FoZsAR4XoUrkfh+j8hAAAAAIC8xUAaGwnhehSuR+H6PxFI4XoUrkcNQCEAAAAAgJDFQBobCUjhehSuRw1AEfYoXI/C9RtAIQAAAAAAyMVAGhsJ9ihcj8L1G0ARMzMzMzMzKkAhAAAAAICoxUAaGwkzMzMzMzMqQBFSuB6F69E4QCEAAAAAAJLFQBobCVK4HoXr0ThAEUjhehSuR0ZAIQAAAAAAkMVAGhsJSOF6FK5HRkARmpmZmZmpU0AhAAAAAACgxUAaGwmamZmZmalTQBGuR+F6FCZiQCEAAAAAALbFQBobCa5H4XoUJmJAEWZmZmZmZnlAIQAAAAAAmsVAGhsJZmZmZmZmeUARrkfhelo/AkEhAAAAAACYxUAgAUILCglNYXJrRG93bjMaygcQARq4Bwq8AgjV1AYQj4EOGAEgAS0AAIA/MqQCGhsJAAAAAAAA8D8RAAAAAAAA8D8hzczMzAxRxUAaGwkAAAAAAADwPxEAAAAAAADwPyHNzMzMDFHFQBobCQAAAAAAAPA/EQAAAAAAAPA/Ic3MzMwMUcVAGhsJAAAAAAAA8D8RAAAAAAAA8D8hzczMzAxRxUAaGwkAAAAAAADwPxEAAAAAAADwPyHNzMzMDFHFQBobCQAAAAAAAPA/EQAAAAAAAPA/Ic3MzMwMUcVAGhsJAAAAAAAA8D8RAAAAAAAA8D8hzczMzAxRxUAaGwkAAAAAAADwPxEAAAAAAADwPyHNzMzMDFHFQBobCQAAAAAAAPA/EQAAAAAAAPA/Ic3MzMwMUcVAGhsJAAAAAAAA8D8RAAAAAAAA8D8hzczMzAxRxUAgAUDV1AYRoCJmhIRlqkAZ1rhdM3KXuEApKVyPwvUozD8xcT0K16Mfl0A5mpmZmS158EBCogIaGwkpXI/C9SjMPxEshxbZrlu6QCGUSXgNlp/3QBobCSyHFtmuW7pAEZzEILCSW8pAIUE4ezctYr1AGhsJnMQgsJJbykAR0iLb+abE00Ah6d3FPKONoEAaGwnSItv5psTTQBFV46WbhFvaQCGpenePZG6QQBobCVXjpZuEW9pAEexRuB4xeeBAIeaqgJ5QAntAGhsJ7FG4HjF54EARLrKd75/E40AhZzyuyttXeUAaGwkusp3vn8TjQBFvEoPADhDnQCGmheUY7oh4QBobCW8Sg8AOEOdAEbFyaJF9W+pAIY5dg/fvAnJAGhsJsXJokX1b6kAR89JNYuym7UAhbvCiYIIoX0AaGwnz0k1i7KbtQBGamZmZLXnwQCHBO6zRPgJGQEKkAhobCSlcj8L1KMw/EWZmZmZmllpAIQAAAACAV8VAGhsJZmZmZmaWWkARUrgeheuBeEAhAAAAAIBRxUAaGwlSuB6F64F4QBHXo3A9ChGEQCEAAAAAAFfFQBobCdejcD0KEYRAEQAAAAAAMo9AIQAAAAAAS8VAGhsJAAAAAAAyj0ARcT0K16Mfl0AhAAAAAABdxUAaGwlxPQrXox+XQBGamZmZGRmgQCEAAAAAAFPFQBobCZqZmZkZGaBAEfYoXI/COadAIQAAAACAPsVAGhsJ9ihcj8I5p0AR16NwPYpmsEAhAAAAAABYxUAaGwnXo3A9imawQBFSuB6Fa7++QCEAAAAAgFnFQBobCVK4HoVrv75AEZqZmZktefBAIQAAAACAP8VAIAFCCwoJTWFya0Rvd240GsoHEAEauAcKvAIIuLwHEKyZDRgBIAEtAACAPzKkAhobCQAAAAAAAPA/EQAAAAAAAPA/ITMzMzMz6cdAGhsJAAAAAAAA8D8RAAAAAAAA8D8hMzMzMzPpx0AaGwkAAAAAAADwPxEAAAAAAADwPyEzMzMzM+nHQBobCQAAAAAAAPA/EQAAAAAAAPA/ITMzMzMz6cdAGhsJAAAAAAAA8D8RAAAAAAAA8D8hMzMzMzPpx0AaGwkAAAAAAADwPxEAAAAAAADwPyEzMzMzM+nHQBobCQAAAAAAAPA/EQAAAAAAAPA/ITMzMzMz6cdAGhsJAAAAAAAA8D8RAAAAAAAA8D8hMzMzMzPpx0AaGwkAAAAAAADwPxEAAAAAAADwPyEzMzMzM+nHQBobCQAAAAAAAPA/EQAAAAAAAPA/ITMzMzMz6cdAIAFAuLwHEUlNiisMB7JAGYIeVpFnwLhAKT0K16NwJWfAMRSuR+H6CapAOTMzMzPwiidBQqICGhsJPQrXo3AlZ8ARmG4SgyLL8kAhRwxjqTPa/UAaGwmYbhKDIsvyQBFaZDvf69ACQSGD/6wIaYNHQBobCVpkO9/r0AJBEWmR7XxGPAxBIeRkeO+lbylAGhsJaZHtfEY8DEERPN9PjdDTEkEh5GR476VvKUAaGwk830+N0NMSQRHD9SjcfYkXQSHhZHjvpW8pQBobCcP1KNx9iRdBEUsMAisrPxxBIeZkeO+lbylAGhsJSwwCKys/HEERaJHtPGx6IEEh1mR476VvKUAaGwloke08bHogQRGsHFrkQtUiQSHmZHjvpW8pQBobCawcWuRC1SJBEfCnxosZMCVBIeZkeO+lbylAGhsJ8KfGixkwJUERMzMzM/CKJ0Eh22R476VvKUBCpAIaGwk9CtejcCVnwBEK16NwPaKQQCEAAAAAgBLIQBobCQrXo3A9opBAET0K16NwCJlAIQAAAACAyMdAGhsJPQrXo3AImUAR4XoUrsekoEAhAAAAAIDqx0AaGwnhehSux6SgQBFSuB6F6x2lQCEAAAAAgPrHQBobCVK4HoXrHaVAERSuR+H6CapAIQAAAACA4cdAGhsJFK5H4foJqkARzczMzMw9r0AhAAAAAIDsx0AaGwnNzMzMzD2vQBFmZmZmpi+zQCEAAAAAgNjHQBobCWZmZmamL7NAEQrXo3C9brhAIQAAAACA6sdAGhsJCtejcL1uuEARexSuR8FBwEAhAAAAAIDsx0AaGwl7FK5HwUHAQBEzMzMz8IonQSEAAAAAgN7HQCABQgsKCU1hcmtEb3duNRrDBxABGrcHCrsCCKPSFBDBAxgBIAEtAACAPzKkAhobCQAAAAAAAPA/EQAAAAAAAPA/ITMzMzOjg+BAGhsJAAAAAAAA8D8RAAAAAAAA8D8hMzMzM6OD4EAaGwkAAAAAAADwPxEAAAAAAADwPyEzMzMzo4PgQBobCQAAAAAAAPA/EQAAAAAAAPA/ITMzMzOjg+BAGhsJAAAAAAAA8D8RAAAAAAAA8D8hMzMzM6OD4EAaGwkAAAAAAADwPxEAAAAAAADwPyEzMzMzo4PgQBobCQAAAAAAAPA/EQAAAAAAAPA/ITMzMzOjg+BAGhsJAAAAAAAA8D8RAAAAAAAA8D8hMzMzM6OD4EAaGwkAAAAAAADwPxEAAAAAAADwPyEzMzMzo4PgQBobCQAAAAAAAPA/EQAAAAAAAPA/ITMzMzOjg+BAIAFAo9IUEdXRc8t4ZmVAGero+zIxlUNAKWq8dJMYhF9AMbMDU3IzymZAOSRPSCE/n2xAQqICGhsJarx0kxiEX0ARs1wVLF4LYUAhV7AWd4x3/UAaGwmzXBUsXgthQBEyW3AOsFRiQCHEcYg6AovmQBobCTJbcA6wVGJAEbBZy/ABnmNAIZAfc38ri1BAGhsJsFnL8AGeY0ARLlgm01PnZEAhkB9zfyuLUEAaGwkuWCbTU+dkQBGsVoG1pTBmQCGQH3N/K4tQQBobCaxWgbWlMGZAEStV3Jf3eWdAIRapfaBc3cJAGhsJK1Xcl/d5Z0ARqVM3eknDaEAhpGB82r934UAaGwmpUzd6ScNoQBEoUpJcmwxqQCFXeuQB4pTIQBobCShSklybDGpAEaZQ7T7tVWtAIbkh4PBP5/FAGhsJplDtPu1Va0ARJE9IIT+fbEAh7tM1sYRu40BCpAIaGwlqvHSTGIRfQBFu93KfXBpgQCEAAAAAAKDgQBobCW73cp9cGmBAEWnrltNUXGBAIQAAAAAAluBAGhsJaeuW01RcYEARAn4ya06fYEAhAAAAAIBg4EAaGwkCfjJrTp9gQBFvv9drVSVhQCEAAAAA4ITgQBobCW+/12tVJWFAEbMDU3IzymZAIQAAAAAAfOBAGhsJswNTcjPKZkARRQt1/Wd0aEAhAAAAAICH4EAaGwlFC3X9Z3RoQBE3VffIplVqQCEAAAAAwH3gQBobCTdV98imVWpAEQTBiCKJ1WpAIQAAAAAgg+BAGhsJBMGIIonVakARKfUb3Axxa0AhAAAAAACP4EAaGwkp9RvcDHFrQBEkT0ghP59sQCEAAAAAoHXgQCABQgUKA0NQSRrMBxABGrcHCrsCCKPSFBDBAxgBIAEtAACAPzKkAhobCQAAAAAAAPA/EQAAAAAAAPA/ITMzMzOjg+BAGhsJAAAAAAAA8D8RAAAAAAAA8D8hMzMzM6OD4EAaGwkAAAAAAADwPxEAAAAAAADwPyEzMzMzo4PgQBobCQAAAAAAAPA/EQAAAAAAAPA/ITMzMzOjg+BAGhsJAAAAAAAA8D8RAAAAAAAA8D8hMzMzM6OD4EAaGwkAAAAAAADwPxEAAAAAAADwPyEzMzMzo4PgQBobCQAAAAAAAPA/EQAAAAAAAPA/ITMzMzOjg+BAGhsJAAAAAAAA8D8RAAAAAAAA8D8hMzMzM6OD4EAaGwkAAAAAAADwPxEAAAAAAADwPyEzMzMzo4PgQBobCQAAAAAAAPA/EQAAAAAAAPA/ITMzMzOjg+BAIAFAo9IUERsK0FTD0x9AGeIjEK21xv0/KUa28/3UeA1AMRBYObTIdh9AOcdLN4lBoCxAQqICGhsJRrbz/dR4DUARlIeFWtP8EkAhj7ggFlzNxEAaGwmUh4Va0/wSQBEGNBE2PD0XQCHoe3IiCrrRQBobCQY0ETY8PRdAEXfgnBGlfRtAIaP0SZ/kNepAGhsJd+CcEaV9G0AR6Iwo7Q2+H0AhQemTPndD90AaGwnojCjtDb4fQBGsHFpkO/8hQCGWIE8JfHL5QBobCawcWmQ7/yFAEebyH9JvHyRAIf9VkUq5odhAGhsJ5vIf0m8fJEARHsnlP6Q/JkAhiUIU6A9/x0AaGwkeyeU/pD8mQBFWn6ut2F8oQCFavvXLsU+uQBobCVafq63YXyhAEZB1cRsNgCpAIeMXw46iH6FAGhsJkHVxGw2AKkARx0s3iUGgLEAhfArVVIsqyUBCpAIaGwlGtvP91HgNQBFcj8L1KNwXQCEAAAAAQLHgQBobCVyPwvUo3BdAEUJg5dAiWxpAIQAAAADAe+BAGhsJQmDl0CJbGkARke18PzVeHEAhAAAAAABf4EAaGwmR7Xw/NV4cQBHP91PjpRseQCEAAAAAwCfhQBobCc/3U+OlGx5AERBYObTIdh9AIQAAAAAAUeBAGhsJEFg5tMh2H0AR+n5qvHRTIEAhAAAAAECp4EAaGwn6fmq8dFMgQBHRItv5fuogQCEAAAAAYAjgQBobCdEi2/l+6iBAEYlBYOXQoiFAIQAAAACA0+BAGhsJiUFg5dCiIUARbxKDwMqhI0AhAAAAAMBZ4EAaGwlvEoPAyqEjQBHHSzeJQaAsQCEAAAAAwEDgQCABQg4KDFVuZW1wbG95bWVudBqzBxqbBwq4Agjk1RQYASABLQAAgD8ypAIaGwkAAAAAAADwPxEAAAAAAADwPyEAAAAAQIngQBobCQAAAAAAAPA/EQAAAAAAAPA/IQAAAABAieBAGhsJAAAAAAAA8D8RAAAAAAAA8D8hAAAAAECJ4EAaGwkAAAAAAADwPxEAAAAAAADwPyEAAAAAQIngQBobCQAAAAAAAPA/EQAAAAAAAPA/IQAAAABAieBAGhsJAAAAAAAA8D8RAAAAAAAA8D8hAAAAAECJ4EAaGwkAAAAAAADwPxEAAAAAAADwPyEAAAAAQIngQBobCQAAAAAAAPA/EQAAAAAAAPA/IQAAAABAieBAGhsJAAAAAAAA8D8RAAAAAAAA8D8hAAAAAECJ4EAaGwkAAAAAAADwPxEAAAAAAADwPyEAAAAAQIngQCABQOTVFBEGxThxKdgJQRnXyKbXNdf9QCABMQAAAADQ2wlBOQAAAABs1hlBQpkCGhIRmpmZmYmr5EAhU+kWcmiU4EAaGwmamZmZiavkQBGamZmZiav0QCG8duV1eIXgQBobCZqZmZmJq/RAEWdmZmZOAf9AIUNG/2ilieBAGhsJZ2ZmZk4B/0ARmpmZmYmrBEEh9sfo9Zd44EAaGwmamZmZiasEQREAAAAAbNYJQSEbHk1/mongQBobCQAAAABs1glBEWdmZmZOAQ9BIZRIkYRWmeBAGhsJZ2ZmZk4BD0ERZ2ZmZhgWEkEhOcAm+qt+4EAaGwlnZmZmGBYSQRGamZmZiasUQSFOf8QCLo3gQBobCZqZmZmJqxRBEc3MzMz6QBdBIQsKcncyg+BAGhsJzczMzPpAF0ERAAAAAGzWGUEhd+HfQGSO4EBCmwIaEhEAAAAA4KPkQCEAAAAAQI7gQBobCQAAAADgo+RAEQAAAAAwqfRAIQAAAADAh+BAGhsJAAAAADCp9EARAAAAAAAC/0AhAAAAAKCO4EAaGwkAAAAAAAL/QBEAAAAAcLAEQSEAAAAAIIjgQBobCQAAAABwsARBEQAAAADQ2wlBIQAAAACAiuBAGhsJAAAAANDbCUERAAAAANACD0EhAAAAAOCM4EAaGwkAAAAA0AIPQREAAAAAHBcSQSEAAAAAQIDgQBobCQAAAAAcFxJBEQAAAABcrBRBIQAAAAAgjOBAGhsJAAAAAFysFEERAAAAADRDF0EhAAAAAMCL4EAaGwkAAAAANEMXQREAAAAAbNYZQSEAAAAAQIDgQCABQhMKEV9faW5kZXhfbGV2ZWxfMF9f\"></facets-overview>';\n",
       "        facets_iframe.srcdoc = facets_html;\n",
       "         facets_iframe.id = \"\";\n",
       "         setTimeout(() => {\n",
       "           facets_iframe.setAttribute('height', facets_iframe.contentWindow.document.body.offsetHeight + 'px')\n",
       "         }, 1500)\n",
       "         </script>"
      ],
      "text/plain": [
       "<IPython.core.display.HTML object>"
      ]
     },
     "metadata": {},
     "output_type": "display_data"
    }
   ],
   "source": [
    "test_stats = tfdv.generate_statistics_from_dataframe(test_df, stats_options=stats_options)\n",
    "tfdv.visualize_statistics(lhs_statistics=test_stats, rhs_statistics=train_stats,\n",
    "                          lhs_name='TEST_DATASET', rhs_name='TRAIN_DATASET')"
   ]
  },
  {
   "cell_type": "markdown",
   "id": "f2360200",
   "metadata": {
    "papermill": {
     "duration": 0.048545,
     "end_time": "2023-09-05T12:26:30.343050",
     "exception": false,
     "start_time": "2023-09-05T12:26:30.294505",
     "status": "completed"
    },
    "tags": []
   },
   "source": [
    "# Detect Anomalies"
   ]
  },
  {
   "cell_type": "code",
   "execution_count": 20,
   "id": "3b6d6d8a",
   "metadata": {
    "execution": {
     "iopub.execute_input": "2023-09-05T12:26:30.445211Z",
     "iopub.status.busy": "2023-09-05T12:26:30.444738Z",
     "iopub.status.idle": "2023-09-05T12:26:30.450598Z",
     "shell.execute_reply": "2023-09-05T12:26:30.449268Z"
    },
    "papermill": {
     "duration": 0.06023,
     "end_time": "2023-09-05T12:26:30.453314",
     "exception": false,
     "start_time": "2023-09-05T12:26:30.393084",
     "status": "completed"
    },
    "tags": []
   },
   "outputs": [],
   "source": [
    "def calculate_and_display_anomalies(statistics, schema):\n",
    "    anomalies = tfdv.validate_statistics(statistics,schema)\n",
    "    tfdv.display_anomalies(anomalies)"
   ]
  },
  {
   "cell_type": "code",
   "execution_count": 21,
   "id": "607f948a",
   "metadata": {
    "execution": {
     "iopub.execute_input": "2023-09-05T12:26:30.560426Z",
     "iopub.status.busy": "2023-09-05T12:26:30.559968Z",
     "iopub.status.idle": "2023-09-05T12:26:30.573086Z",
     "shell.execute_reply": "2023-09-05T12:26:30.571790Z"
    },
    "papermill": {
     "duration": 0.06676,
     "end_time": "2023-09-05T12:26:30.575655",
     "exception": false,
     "start_time": "2023-09-05T12:26:30.508895",
     "status": "completed"
    },
    "tags": []
   },
   "outputs": [
    {
     "data": {
      "text/html": [
       "<h4 style=\"color:green;\">No anomalies found.</h4>"
      ],
      "text/plain": [
       "<IPython.core.display.HTML object>"
      ]
     },
     "metadata": {},
     "output_type": "display_data"
    }
   ],
   "source": [
    "calculate_and_display_anomalies(train_stats, schema)"
   ]
  },
  {
   "cell_type": "code",
   "execution_count": 22,
   "id": "358bda3b",
   "metadata": {
    "execution": {
     "iopub.execute_input": "2023-09-05T12:26:30.679908Z",
     "iopub.status.busy": "2023-09-05T12:26:30.679493Z",
     "iopub.status.idle": "2023-09-05T12:26:30.692684Z",
     "shell.execute_reply": "2023-09-05T12:26:30.691715Z"
    },
    "papermill": {
     "duration": 0.067242,
     "end_time": "2023-09-05T12:26:30.695137",
     "exception": false,
     "start_time": "2023-09-05T12:26:30.627895",
     "status": "completed"
    },
    "tags": []
   },
   "outputs": [
    {
     "data": {
      "text/html": [
       "<div>\n",
       "<style scoped>\n",
       "    .dataframe tbody tr th:only-of-type {\n",
       "        vertical-align: middle;\n",
       "    }\n",
       "\n",
       "    .dataframe tbody tr th {\n",
       "        vertical-align: top;\n",
       "    }\n",
       "\n",
       "    .dataframe thead th {\n",
       "        text-align: right;\n",
       "    }\n",
       "</style>\n",
       "<table border=\"1\" class=\"dataframe\">\n",
       "  <thead>\n",
       "    <tr style=\"text-align: right;\">\n",
       "      <th></th>\n",
       "      <th>Anomaly short description</th>\n",
       "      <th>Anomaly long description</th>\n",
       "    </tr>\n",
       "    <tr>\n",
       "      <th>Feature name</th>\n",
       "      <th></th>\n",
       "      <th></th>\n",
       "    </tr>\n",
       "  </thead>\n",
       "  <tbody>\n",
       "    <tr>\n",
       "      <th>'__index_level_0__'</th>\n",
       "      <td>Column dropped</td>\n",
       "      <td>Column is completely missing</td>\n",
       "    </tr>\n",
       "  </tbody>\n",
       "</table>\n",
       "</div>"
      ],
      "text/plain": [
       "                    Anomaly short description      Anomaly long description\n",
       "Feature name                                                               \n",
       "'__index_level_0__'            Column dropped  Column is completely missing"
      ]
     },
     "metadata": {},
     "output_type": "display_data"
    }
   ],
   "source": [
    "calculate_and_display_anomalies(test_stats, schema)"
   ]
  },
  {
   "cell_type": "markdown",
   "id": "5973b55e",
   "metadata": {
    "papermill": {
     "duration": 0.050847,
     "end_time": "2023-09-05T12:26:30.795624",
     "exception": false,
     "start_time": "2023-09-05T12:26:30.744777",
     "status": "completed"
    },
    "tags": []
   },
   "source": [
    "Feature '__index_level_0__' marked as anomaly only in test_df, possible reason is in this [forum](https://discuss.huggingface.co/t/keyerror-index-level-0-error-with-datasets-arrow-writer-py/18082). \n",
    "\n",
    "I will ignore this column as anomaly with environment "
   ]
  },
  {
   "cell_type": "markdown",
   "id": "2c705aef",
   "metadata": {
    "papermill": {
     "duration": 0.050355,
     "end_time": "2023-09-05T12:26:30.895576",
     "exception": false,
     "start_time": "2023-09-05T12:26:30.845221",
     "status": "completed"
    },
    "tags": []
   },
   "source": [
    "# Statistics for validation data"
   ]
  },
  {
   "cell_type": "code",
   "execution_count": 23,
   "id": "e1972b00",
   "metadata": {
    "execution": {
     "iopub.execute_input": "2023-09-05T12:26:30.997143Z",
     "iopub.status.busy": "2023-09-05T12:26:30.996711Z",
     "iopub.status.idle": "2023-09-05T12:26:31.258617Z",
     "shell.execute_reply": "2023-09-05T12:26:31.257730Z"
    },
    "papermill": {
     "duration": 0.315519,
     "end_time": "2023-09-05T12:26:31.261066",
     "exception": false,
     "start_time": "2023-09-05T12:26:30.945547",
     "status": "completed"
    },
    "tags": []
   },
   "outputs": [
    {
     "data": {
      "text/html": [
       "<div>\n",
       "<style scoped>\n",
       "    .dataframe tbody tr th:only-of-type {\n",
       "        vertical-align: middle;\n",
       "    }\n",
       "\n",
       "    .dataframe tbody tr th {\n",
       "        vertical-align: top;\n",
       "    }\n",
       "\n",
       "    .dataframe thead th {\n",
       "        text-align: right;\n",
       "    }\n",
       "</style>\n",
       "<table border=\"1\" class=\"dataframe\">\n",
       "  <thead>\n",
       "    <tr style=\"text-align: right;\">\n",
       "      <th></th>\n",
       "      <th>Anomaly short description</th>\n",
       "      <th>Anomaly long description</th>\n",
       "    </tr>\n",
       "    <tr>\n",
       "      <th>Feature name</th>\n",
       "      <th></th>\n",
       "      <th></th>\n",
       "    </tr>\n",
       "  </thead>\n",
       "  <tbody>\n",
       "    <tr>\n",
       "      <th>'__index_level_0__'</th>\n",
       "      <td>Column dropped</td>\n",
       "      <td>Column is completely missing</td>\n",
       "    </tr>\n",
       "    <tr>\n",
       "      <th>'Weekly_Sales'</th>\n",
       "      <td>Column dropped</td>\n",
       "      <td>Column is completely missing</td>\n",
       "    </tr>\n",
       "  </tbody>\n",
       "</table>\n",
       "</div>"
      ],
      "text/plain": [
       "                    Anomaly short description      Anomaly long description\n",
       "Feature name                                                               \n",
       "'__index_level_0__'            Column dropped  Column is completely missing\n",
       "'Weekly_Sales'                 Column dropped  Column is completely missing"
      ]
     },
     "metadata": {},
     "output_type": "display_data"
    }
   ],
   "source": [
    "val_stats = tfdv.generate_statistics_from_dataframe(val_df, stats_options=stats_options)\n",
    "calculate_and_display_anomalies(val_stats, schema=schema)"
   ]
  },
  {
   "cell_type": "markdown",
   "id": "93b02716",
   "metadata": {
    "papermill": {
     "duration": 0.049605,
     "end_time": "2023-09-05T12:26:31.361137",
     "exception": false,
     "start_time": "2023-09-05T12:26:31.311532",
     "status": "completed"
    },
    "tags": []
   },
   "source": [
    "# Detecting anomalies with environment"
   ]
  },
  {
   "cell_type": "code",
   "execution_count": 24,
   "id": "097a1871",
   "metadata": {
    "execution": {
     "iopub.execute_input": "2023-09-05T12:26:31.461881Z",
     "iopub.status.busy": "2023-09-05T12:26:31.461252Z",
     "iopub.status.idle": "2023-09-05T12:26:31.466005Z",
     "shell.execute_reply": "2023-09-05T12:26:31.465042Z"
    },
    "papermill": {
     "duration": 0.058744,
     "end_time": "2023-09-05T12:26:31.469013",
     "exception": false,
     "start_time": "2023-09-05T12:26:31.410269",
     "status": "completed"
    },
    "tags": []
   },
   "outputs": [],
   "source": [
    "#set default environment \n",
    "schema.default_environment.append('TRAINING')\n",
    "# 'serving' also called validation\n",
    "schema.default_environment.append('SERVING')"
   ]
  },
  {
   "cell_type": "code",
   "execution_count": 25,
   "id": "cef7f157",
   "metadata": {
    "execution": {
     "iopub.execute_input": "2023-09-05T12:26:31.574258Z",
     "iopub.status.busy": "2023-09-05T12:26:31.573817Z",
     "iopub.status.idle": "2023-09-05T12:26:31.581438Z",
     "shell.execute_reply": "2023-09-05T12:26:31.580233Z"
    },
    "papermill": {
     "duration": 0.062622,
     "end_time": "2023-09-05T12:26:31.583881",
     "exception": false,
     "start_time": "2023-09-05T12:26:31.521259",
     "status": "completed"
    },
    "tags": []
   },
   "outputs": [],
   "source": [
    "tfdv.get_feature(schema, 'Weekly_Sales').not_in_environment.append('SERVING')\n",
    "tfdv.get_feature(schema,'__index_level_0__' ).not_in_environment.append('SERVING')\n",
    "serving_anomalies_with_env = tfdv.validate_statistics(val_stats, schema, environment='SERVING')\n",
    "\n"
   ]
  },
  {
   "cell_type": "code",
   "execution_count": 26,
   "id": "4bb6fa21",
   "metadata": {
    "execution": {
     "iopub.execute_input": "2023-09-05T12:26:31.686576Z",
     "iopub.status.busy": "2023-09-05T12:26:31.685519Z",
     "iopub.status.idle": "2023-09-05T12:26:31.694068Z",
     "shell.execute_reply": "2023-09-05T12:26:31.693160Z"
    },
    "papermill": {
     "duration": 0.062392,
     "end_time": "2023-09-05T12:26:31.696373",
     "exception": false,
     "start_time": "2023-09-05T12:26:31.633981",
     "status": "completed"
    },
    "tags": []
   },
   "outputs": [
    {
     "data": {
      "text/html": [
       "<h4 style=\"color:green;\">No anomalies found.</h4>"
      ],
      "text/plain": [
       "<IPython.core.display.HTML object>"
      ]
     },
     "metadata": {},
     "output_type": "display_data"
    }
   ],
   "source": [
    "tfdv.display_anomalies(serving_anomalies_with_env)"
   ]
  },
  {
   "cell_type": "code",
   "execution_count": 27,
   "id": "cbf4c6f5",
   "metadata": {
    "execution": {
     "iopub.execute_input": "2023-09-05T12:26:31.799822Z",
     "iopub.status.busy": "2023-09-05T12:26:31.798870Z",
     "iopub.status.idle": "2023-09-05T12:26:31.810505Z",
     "shell.execute_reply": "2023-09-05T12:26:31.809352Z"
    },
    "papermill": {
     "duration": 0.067246,
     "end_time": "2023-09-05T12:26:31.812895",
     "exception": false,
     "start_time": "2023-09-05T12:26:31.745649",
     "status": "completed"
    },
    "tags": []
   },
   "outputs": [
    {
     "data": {
      "text/html": [
       "<h4 style=\"color:green;\">No anomalies found.</h4>"
      ],
      "text/plain": [
       "<IPython.core.display.HTML object>"
      ]
     },
     "metadata": {},
     "output_type": "display_data"
    }
   ],
   "source": [
    "tfdv.get_feature(schema,'__index_level_0__' ).not_in_environment.append('TRAINING')\n",
    "test_anomalies_with_env = tfdv.validate_statistics(test_stats, schema, environment='TRAINING')\n",
    "tfdv.display_anomalies(test_anomalies_with_env)"
   ]
  },
  {
   "cell_type": "markdown",
   "id": "bd96d29f",
   "metadata": {
    "papermill": {
     "duration": 0.049282,
     "end_time": "2023-09-05T12:26:31.912976",
     "exception": false,
     "start_time": "2023-09-05T12:26:31.863694",
     "status": "completed"
    },
    "tags": []
   },
   "source": [
    "# Data Drift and Data Skew\n",
    "\n",
    "Monitoring data drift and skew can prevent model decay, when model accuracy goes down due to changes in data"
   ]
  },
  {
   "attachments": {
    "385a213d-41e3-414c-b851-831b20580425.png": {
     "image/png": "[encoded data removed]"
    }
   },
   "cell_type": "markdown",
   "id": "71993478",
   "metadata": {
    "papermill": {
     "duration": 0.050128,
     "end_time": "2023-09-05T12:26:32.012489",
     "exception": false,
     "start_time": "2023-09-05T12:26:31.962361",
     "status": "completed"
    },
    "tags": []
   },
   "source": [
    "!![image.png](attachment:385a213d-41e3-414c-b851-831b20580425.png)"
   ]
  },
  {
   "attachments": {
    "b5db7c79-d577-4b4b-9d13-933f65d83a86.png": {
     "image/png": "[encoded data removed]"
    }
   },
   "cell_type": "markdown",
   "id": "73f2c136",
   "metadata": {
    "papermill": {
     "duration": 0.049255,
     "end_time": "2023-09-05T12:26:32.113443",
     "exception": false,
     "start_time": "2023-09-05T12:26:32.064188",
     "status": "completed"
    },
    "tags": []
   },
   "source": [
    "I will use dist skew as skew for measure unemployment \n",
    "![image.png](attachment:b5db7c79-d577-4b4b-9d13-933f65d83a86.png)"
   ]
  },
  {
   "cell_type": "code",
   "execution_count": 28,
   "id": "f597aed0",
   "metadata": {
    "execution": {
     "iopub.execute_input": "2023-09-05T12:26:32.216774Z",
     "iopub.status.busy": "2023-09-05T12:26:32.216121Z",
     "iopub.status.idle": "2023-09-05T12:26:32.530550Z",
     "shell.execute_reply": "2023-09-05T12:26:32.529120Z"
    },
    "papermill": {
     "duration": 0.370425,
     "end_time": "2023-09-05T12:26:32.533629",
     "exception": false,
     "start_time": "2023-09-05T12:26:32.163204",
     "status": "completed"
    },
    "tags": []
   },
   "outputs": [
    {
     "data": {
      "text/html": [
       "<div>\n",
       "<style scoped>\n",
       "    .dataframe tbody tr th:only-of-type {\n",
       "        vertical-align: middle;\n",
       "    }\n",
       "\n",
       "    .dataframe tbody tr th {\n",
       "        vertical-align: top;\n",
       "    }\n",
       "\n",
       "    .dataframe thead th {\n",
       "        text-align: right;\n",
       "    }\n",
       "</style>\n",
       "<table border=\"1\" class=\"dataframe\">\n",
       "  <thead>\n",
       "    <tr style=\"text-align: right;\">\n",
       "      <th></th>\n",
       "      <th>Store</th>\n",
       "      <th>Dept</th>\n",
       "      <th>Weekly_Sales</th>\n",
       "      <th>Temperature</th>\n",
       "      <th>Fuel_Price</th>\n",
       "      <th>MarkDown1</th>\n",
       "      <th>MarkDown2</th>\n",
       "      <th>MarkDown3</th>\n",
       "      <th>MarkDown4</th>\n",
       "      <th>MarkDown5</th>\n",
       "      <th>CPI</th>\n",
       "      <th>Unemployment</th>\n",
       "    </tr>\n",
       "  </thead>\n",
       "  <tbody>\n",
       "    <tr>\n",
       "      <th>count</th>\n",
       "      <td>338660.000000</td>\n",
       "      <td>337285.000000</td>\n",
       "      <td>337285.000000</td>\n",
       "      <td>338660.000000</td>\n",
       "      <td>338660.000000</td>\n",
       "      <td>121810.000000</td>\n",
       "      <td>90118.000000</td>\n",
       "      <td>110799.000000</td>\n",
       "      <td>109141.000000</td>\n",
       "      <td>122424.000000</td>\n",
       "      <td>338211.000000</td>\n",
       "      <td>338211.000000</td>\n",
       "    </tr>\n",
       "    <tr>\n",
       "      <th>mean</th>\n",
       "      <td>22.209824</td>\n",
       "      <td>44.226506</td>\n",
       "      <td>15987.596506</td>\n",
       "      <td>60.034586</td>\n",
       "      <td>3.361470</td>\n",
       "      <td>7250.601891</td>\n",
       "      <td>3353.978265</td>\n",
       "      <td>1442.210959</td>\n",
       "      <td>3378.758823</td>\n",
       "      <td>4615.047539</td>\n",
       "      <td>171.202245</td>\n",
       "      <td>7.956800</td>\n",
       "    </tr>\n",
       "    <tr>\n",
       "      <th>std</th>\n",
       "      <td>12.788989</td>\n",
       "      <td>30.481008</td>\n",
       "      <td>22686.731371</td>\n",
       "      <td>18.468938</td>\n",
       "      <td>0.457951</td>\n",
       "      <td>8292.331726</td>\n",
       "      <td>9499.597386</td>\n",
       "      <td>9636.722772</td>\n",
       "      <td>6295.474937</td>\n",
       "      <td>6336.430440</td>\n",
       "      <td>39.165622</td>\n",
       "      <td>1.861016</td>\n",
       "    </tr>\n",
       "    <tr>\n",
       "      <th>min</th>\n",
       "      <td>1.000000</td>\n",
       "      <td>1.000000</td>\n",
       "      <td>-3924.000000</td>\n",
       "      <td>-6.610000</td>\n",
       "      <td>2.472000</td>\n",
       "      <td>-772.210000</td>\n",
       "      <td>-265.760000</td>\n",
       "      <td>-179.260000</td>\n",
       "      <td>0.220000</td>\n",
       "      <td>-185.170000</td>\n",
       "      <td>126.064000</td>\n",
       "      <td>3.684000</td>\n",
       "    </tr>\n",
       "    <tr>\n",
       "      <th>25%</th>\n",
       "      <td>11.000000</td>\n",
       "      <td>18.000000</td>\n",
       "      <td>2082.300000</td>\n",
       "      <td>46.650000</td>\n",
       "      <td>2.934000</td>\n",
       "      <td>2241.190000</td>\n",
       "      <td>41.940000</td>\n",
       "      <td>5.100000</td>\n",
       "      <td>500.910000</td>\n",
       "      <td>1861.160000</td>\n",
       "      <td>132.022667</td>\n",
       "      <td>6.891000</td>\n",
       "    </tr>\n",
       "    <tr>\n",
       "      <th>50%</th>\n",
       "      <td>22.000000</td>\n",
       "      <td>37.000000</td>\n",
       "      <td>7611.730000</td>\n",
       "      <td>62.010000</td>\n",
       "      <td>3.452000</td>\n",
       "      <td>5347.450000</td>\n",
       "      <td>194.670000</td>\n",
       "      <td>24.820000</td>\n",
       "      <td>1479.910000</td>\n",
       "      <td>3332.990000</td>\n",
       "      <td>182.318780</td>\n",
       "      <td>7.866000</td>\n",
       "    </tr>\n",
       "    <tr>\n",
       "      <th>75%</th>\n",
       "      <td>33.000000</td>\n",
       "      <td>74.000000</td>\n",
       "      <td>20211.490000</td>\n",
       "      <td>74.260000</td>\n",
       "      <td>3.737000</td>\n",
       "      <td>9235.590000</td>\n",
       "      <td>1957.490000</td>\n",
       "      <td>104.465000</td>\n",
       "      <td>3578.400000</td>\n",
       "      <td>5535.130000</td>\n",
       "      <td>212.416993</td>\n",
       "      <td>8.567000</td>\n",
       "    </tr>\n",
       "    <tr>\n",
       "      <th>max</th>\n",
       "      <td>45.000000</td>\n",
       "      <td>99.000000</td>\n",
       "      <td>649770.180000</td>\n",
       "      <td>101.950000</td>\n",
       "      <td>4.468000</td>\n",
       "      <td>103184.980000</td>\n",
       "      <td>104519.540000</td>\n",
       "      <td>149483.310000</td>\n",
       "      <td>67474.850000</td>\n",
       "      <td>771448.100000</td>\n",
       "      <td>228.976456</td>\n",
       "      <td>14.313000</td>\n",
       "    </tr>\n",
       "  </tbody>\n",
       "</table>\n",
       "</div>"
      ],
      "text/plain": [
       "               Store           Dept   Weekly_Sales    Temperature  \\\n",
       "count  338660.000000  337285.000000  337285.000000  338660.000000   \n",
       "mean       22.209824      44.226506   15987.596506      60.034586   \n",
       "std        12.788989      30.481008   22686.731371      18.468938   \n",
       "min         1.000000       1.000000   -3924.000000      -6.610000   \n",
       "25%        11.000000      18.000000    2082.300000      46.650000   \n",
       "50%        22.000000      37.000000    7611.730000      62.010000   \n",
       "75%        33.000000      74.000000   20211.490000      74.260000   \n",
       "max        45.000000      99.000000  649770.180000     101.950000   \n",
       "\n",
       "          Fuel_Price      MarkDown1      MarkDown2      MarkDown3  \\\n",
       "count  338660.000000  121810.000000   90118.000000  110799.000000   \n",
       "mean        3.361470    7250.601891    3353.978265    1442.210959   \n",
       "std         0.457951    8292.331726    9499.597386    9636.722772   \n",
       "min         2.472000    -772.210000    -265.760000    -179.260000   \n",
       "25%         2.934000    2241.190000      41.940000       5.100000   \n",
       "50%         3.452000    5347.450000     194.670000      24.820000   \n",
       "75%         3.737000    9235.590000    1957.490000     104.465000   \n",
       "max         4.468000  103184.980000  104519.540000  149483.310000   \n",
       "\n",
       "           MarkDown4      MarkDown5            CPI   Unemployment  \n",
       "count  109141.000000  122424.000000  338211.000000  338211.000000  \n",
       "mean     3378.758823    4615.047539     171.202245       7.956800  \n",
       "std      6295.474937    6336.430440      39.165622       1.861016  \n",
       "min         0.220000    -185.170000     126.064000       3.684000  \n",
       "25%       500.910000    1861.160000     132.022667       6.891000  \n",
       "50%      1479.910000    3332.990000     182.318780       7.866000  \n",
       "75%      3578.400000    5535.130000     212.416993       8.567000  \n",
       "max     67474.850000  771448.100000     228.976456      14.313000  "
      ]
     },
     "execution_count": 28,
     "metadata": {},
     "output_type": "execute_result"
    }
   ],
   "source": [
    "train_df.describe()"
   ]
  },
  {
   "cell_type": "code",
   "execution_count": 29,
   "id": "d0afc913",
   "metadata": {
    "execution": {
     "iopub.execute_input": "2023-09-05T12:26:32.637301Z",
     "iopub.status.busy": "2023-09-05T12:26:32.636485Z",
     "iopub.status.idle": "2023-09-05T12:26:32.652076Z",
     "shell.execute_reply": "2023-09-05T12:26:32.650852Z"
    },
    "papermill": {
     "duration": 0.069558,
     "end_time": "2023-09-05T12:26:32.654440",
     "exception": false,
     "start_time": "2023-09-05T12:26:32.584882",
     "status": "completed"
    },
    "tags": []
   },
   "outputs": [
    {
     "data": {
      "text/html": [
       "<h4 style=\"color:green;\">No anomalies found.</h4>"
      ],
      "text/plain": [
       "<IPython.core.display.HTML object>"
      ]
     },
     "metadata": {},
     "output_type": "display_data"
    }
   ],
   "source": [
    "#CPI is an average change overtime in the price, so it can drift\n",
    "CPI = tfdv.get_feature(schema, 'CPI')\n",
    "CPI.drift_comparator.infinity_norm.threshold = 0.5\n",
    "\n",
    "#Unemployment can change with seasonality\n",
    "Unemployment = tfdv.get_feature(schema, 'Unemployment')\n",
    "Unemployment.skew_comparator.infinity_norm.threshold = 0.01\n",
    "\n",
    "skew_drift_anomalies = tfdv.validate_statistics(train_stats, schema,\n",
    "                                          previous_statistics=test_stats,\n",
    "                                          serving_statistics=val_stats)\n",
    "\n",
    "tfdv.display_anomalies(skew_drift_anomalies)"
   ]
  },
  {
   "cell_type": "markdown",
   "id": "c0cd840c",
   "metadata": {
    "papermill": {
     "duration": 0.050292,
     "end_time": "2023-09-05T12:26:32.755003",
     "exception": false,
     "start_time": "2023-09-05T12:26:32.704711",
     "status": "completed"
    },
    "tags": []
   },
   "source": [
    "# Freeze schema"
   ]
  },
  {
   "cell_type": "markdown",
   "id": "fda50fdd",
   "metadata": {
    "papermill": {
     "duration": 0.053438,
     "end_time": "2023-09-05T12:26:32.864873",
     "exception": false,
     "start_time": "2023-09-05T12:26:32.811435",
     "status": "completed"
    },
    "tags": []
   },
   "source": [
    "Schema can be used to validate upcoming data, from users for example."
   ]
  },
  {
   "cell_type": "code",
   "execution_count": 30,
   "id": "dc9dbad6",
   "metadata": {
    "execution": {
     "iopub.execute_input": "2023-09-05T12:26:32.970778Z",
     "iopub.status.busy": "2023-09-05T12:26:32.970399Z",
     "iopub.status.idle": "2023-09-05T12:26:32.978477Z",
     "shell.execute_reply": "2023-09-05T12:26:32.977404Z"
    },
    "papermill": {
     "duration": 0.063268,
     "end_time": "2023-09-05T12:26:32.980836",
     "exception": false,
     "start_time": "2023-09-05T12:26:32.917568",
     "status": "completed"
    },
    "tags": []
   },
   "outputs": [],
   "source": [
    "from tensorflow.python.lib.io import file_io\n",
    "OUTPUT_DIR = \"output\"\n",
    "file_io.recursive_create_dir(OUTPUT_DIR)\n",
    "schema_file = os.path.join(OUTPUT_DIR, 'schema.pbtxt')\n",
    "\n",
    "# write_schema_text function expect the defined schema and output path as parameters\n",
    "tfdv.write_schema_text(schema, schema_file) "
   ]
  }
 ],
 "kernelspec": {
  "display_name": "Python 3",
  "language": "python",
  "name": "python3"
 },
 "language_info": {
  "codemirror_mode": {
   "name": "ipython",
   "version": 3
  },
  "file_extension": ".py",
  "mimetype": "text/x-python",
  "name": "python",
  "nbconvert_exporter": "python",
  "pygments_lexer": "ipython3",
  "version": "3.6.4"
 },
 "metadata": {
  "kernelspec": {
   "display_name": "Python 3",
   "language": "python",
   "name": "python3"
  },
  "language_info": {
   "codemirror_mode": {
    "name": "ipython",
    "version": 3
   },
   "file_extension": ".py",
   "mimetype": "text/x-python",
   "name": "python",
   "nbconvert_exporter": "python",
   "pygments_lexer": "ipython3",
   "version": "3.10.12"
  },
  "papermill": {
   "default_parameters": {},
   "duration": 136.571746,
   "end_time": "2023-09-05T12:26:35.810132",
   "environment_variables": {},
   "exception": null,
   "input_path": "__notebook__.ipynb",
   "output_path": "__notebook__.ipynb",
   "parameters": {},
   "start_time": "2023-09-05T12:24:19.238386",
   "version": "2.4.0"
  }
 },
 "nbformat": 4,
 "nbformat_minor": 5
}
